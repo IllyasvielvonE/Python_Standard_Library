{
 "cells": [
  {
   "cell_type": "markdown",
   "metadata": {},
   "source": [
    "## Additional Methods"
   ]
  },
  {
   "cell_type": "markdown",
   "metadata": {},
   "source": [
    "参考 blog: [collections 模块之 deque](https://blog.csdn.net/chl183/article/details/106958004)\n",
    "\n",
    "***methods:*** (粗体为书中未提及)\n",
    "\n",
    "- ***.count( ), .insert(index, obj), .remove( ), .clear( )***\n",
    "- *maxlen=, .rotate(n)*\n",
    "- (可添加后缀left) *.append( ), .extend( ), .pop( )*"
   ]
  },
  {
   "cell_type": "code",
   "execution_count": 23,
   "metadata": {},
   "outputs": [
    {
     "name": "stdout",
     "output_type": "stream",
     "text": [
      "2\n",
      "before:  deque(['a', 'b', 'c', 'd', 'e', 'f', 'g', '1', '2', '3', '4', '5', '6', '7', 'c', 'b', 'a'])\n",
      "after:   deque(['a', 'b', 'c', 'd', 'e', 'f', 'g', '1', '2', '3', 'xxx', '4', '5', '6', '7', 'c', 'b', 'a'])\n",
      "removed: deque(['b', 'c', 'd', 'e', 'f', 'g', '1', '2', '3', 'xxx', '4', '5', '6', '7', 'c', 'b', 'a'])\n",
      "cleared: deque([])\n"
     ]
    }
   ],
   "source": [
    "import collections\n",
    "d = collections.deque(\"abcdefg1234567cba\")\n",
    "\n",
    "print( d.count('b') )\n",
    "\n",
    "print( 'before:  {}'.format(d) )\n",
    "d.insert(10,'xxx') # 在指定位置插入元素(idx左起计算)\n",
    "print( 'after:   {}'.format(d) )\n",
    "d.remove('a') # 移除左起第一次出现的匹配元素\n",
    "print( 'removed: {}'.format(d) )\n",
    "\n",
    "d.clear()\n",
    "print( 'cleared: {}'.format(d) )\n"
   ]
  },
  {
   "cell_type": "markdown",
   "metadata": {},
   "source": [
    "可参考：[Python 官方文档 collections 模块](https://docs.python.org/zh-cn/3.9/library/collections.html#collections.namedtuple)\n",
    "\n",
    "以获得更多内置属性"
   ]
  },
  {
   "cell_type": "code",
   "execution_count": 45,
   "metadata": {},
   "outputs": [
    {
     "data": {
      "text/plain": [
       "Point(x=11, y=22)"
      ]
     },
     "execution_count": 45,
     "metadata": {},
     "output_type": "execute_result"
    }
   ],
   "source": [
    "import collections\n",
    "\n",
    "Point = collections.namedtuple('Point', 'x,y')\n",
    "t = [11,22]\n",
    "Point._make(t)"
   ]
  },
  {
   "cell_type": "markdown",
   "metadata": {},
   "source": [
    "## 2.2.4 deque: Double-Ended Queue\n",
    "\n",
    "双端队列支持从任意一端增加和删除元素。（栈和队列可视为其退化形式）\n",
    "\n",
    "deque 是一种序列容器，因此同样支持list的一些操作（如__getitem(), len(), 通过标识符从队列中间删除元素"
   ]
  },
  {
   "cell_type": "code",
   "execution_count": 2,
   "metadata": {},
   "outputs": [
    {
     "name": "stdout",
     "output_type": "stream",
     "text": [
      "Deque: deque(['a', 'b', 'c', 'd', 'e', 'f', 'g'])\n",
      "Length: 7\n",
      "Left end: a\n",
      "Right end: g\n",
      "remove(c): deque(['a', 'b', 'd', 'e', 'f', 'g'])\n",
      "a\n",
      "<built-in method append of collections.deque object at 0x00000173F00B1C18>\n"
     ]
    }
   ],
   "source": [
    "# CODE LIST 2-24\n",
    "import collections\n",
    "\n",
    "d = collections.deque('abcdefg')\n",
    "print('Deque:', d)\n",
    "print('Length:', len(d))\n",
    "print('Left end:', d[0])\n",
    "print('Right end:', d[-1])\n",
    "\n",
    "d.remove('c')\n",
    "print('remove(c):', d)\n",
    "print(d.__getitem__(0))"
   ]
  },
  {
   "cell_type": "markdown",
   "metadata": {},
   "source": [
    "### 2.2.4.1 Populating / 填充\n",
    "\n",
    "- ***.extend( ), .append( )***\n",
    "- *.extendleft( ), .appendleft( )*"
   ]
  },
  {
   "cell_type": "code",
   "execution_count": 2,
   "metadata": {},
   "outputs": [
    {
     "name": "stdout",
     "output_type": "stream",
     "text": [
      "extend    : deque(['a', 'b', 'c', 'd', 'e', 'f', 'g'])\n",
      "append    : deque(['a', 'b', 'c', 'd', 'e', 'f', 'g', 'h'])\n",
      "extendleft: deque([5, 4, 3, 2, 1, 0])\n",
      "appendleft: deque([6, 5, 4, 3, 2, 1, 0])\n"
     ]
    }
   ],
   "source": [
    "# CODE LIST 2-25\n",
    "import collections\n",
    "\n",
    "# Add to the right\n",
    "d1 = collections.deque()\n",
    "d1.extend('abcdefg')\n",
    "print('extend    :', d1)\n",
    "d1.append('h')\n",
    "print('append    :', d1)\n",
    "\n",
    "# Add to the left\n",
    "d2 = collections.deque()\n",
    "d2.extendleft(range(6))\n",
    "print('extendleft:', d2) # 依次从左侧填充，此处相当于逆序填充\n",
    "d2.appendleft(6)\n",
    "print('appendleft:', d2)"
   ]
  },
  {
   "cell_type": "markdown",
   "metadata": {},
   "source": [
    "### 2.2.4.2 Consuming / 消费\n",
    "\n",
    "- ***.pop( ), .popleft( )***\n",
    "\n",
    "双端队列是 **线程安全** 的，所以甚至可以在不同线程中同时从两端消费队列的内容。"
   ]
  },
  {
   "cell_type": "code",
   "execution_count": 9,
   "metadata": {},
   "outputs": [
    {
     "name": "stdout",
     "output_type": "stream",
     "text": [
      "From the right:\n",
      "gfedcba\n",
      "\n",
      "From the left:\n",
      "012345\n"
     ]
    }
   ],
   "source": [
    "# CODE LIST 2-26\n",
    "import collections\n",
    "\n",
    "print('From the right:')\n",
    "d = collections.deque('abcdefg')\n",
    "while True:\n",
    "    try:\n",
    "        print(d.pop(), end='')\n",
    "    except IndexError:\n",
    "        break\n",
    "print()\n",
    "\n",
    "print('\\nFrom the left:')\n",
    "d = collections.deque(range(6))\n",
    "while True:\n",
    "    try:\n",
    "        print(d.popleft(), end='')\n",
    "    except IndexError:\n",
    "        break\n",
    "print()"
   ]
  },
  {
   "cell_type": "code",
   "execution_count": 13,
   "metadata": {},
   "outputs": [
    {
     "name": "stdout",
     "output_type": "stream",
     "text": [
      "    Left: 0\n",
      "   Right: 4\n",
      "   Right: 3    Left: 1\n",
      "\n",
      "    Left: 2   Right done\n",
      "\n",
      "    Left done\n"
     ]
    }
   ],
   "source": [
    "# CODE LIST 2-27\n",
    "import collections\n",
    "import threading\n",
    "import time\n",
    "\n",
    "candle = collections.deque(range(5))\n",
    "\n",
    "\n",
    "def burn(direction, nextSource):\n",
    "    while True:\n",
    "        try:\n",
    "            next = nextSource()\n",
    "        except IndexError:\n",
    "            break\n",
    "        else:\n",
    "            print('{:>8}: {}'.format(direction, next))\n",
    "            time.sleep(0.1)\n",
    "    print('{:>8} done'.format(direction))\n",
    "    return\n",
    "\n",
    "\n",
    "left = threading.Thread(target=burn,\n",
    "                        args=('Left', candle.popleft))\n",
    "right = threading.Thread(target=burn,\n",
    "                         args=('Right', candle.pop))\n",
    "\n",
    "left.start()\n",
    "right.start()\n",
    "\n",
    "left.join()\n",
    "right.join()\n"
   ]
  },
  {
   "cell_type": "markdown",
   "metadata": {},
   "source": [
    "### 2.2.4.3 Rotating\n",
    "\n",
    "- ***.rotate(n)***\n",
    "\n",
    "按任意一个方向旋转，从而跳过一些元素。$n>0$ 则从右端取元素移到左端。\n",
    "\n",
    "旋转的法则类似于**拨号盘**或者**轮盘**。"
   ]
  },
  {
   "cell_type": "code",
   "execution_count": 18,
   "metadata": {},
   "outputs": [
    {
     "name": "stdout",
     "output_type": "stream",
     "text": [
      "Normal        : deque([0, 1, 2, 3, 4, 5, 6, 7, 8, 9])\n",
      "Right rotation: deque([8, 9, 0, 1, 2, 3, 4, 5, 6, 7])\n",
      "Left rotation : deque([2, 3, 4, 5, 6, 7, 8, 9, 0, 1])\n"
     ]
    }
   ],
   "source": [
    "# CODE LIST 2-28\n",
    "import collections\n",
    "\n",
    "d = collections.deque(range(10))\n",
    "print('Normal        :', d)\n",
    "\n",
    "d = collections.deque(range(10))\n",
    "d.rotate(2)\n",
    "print('Right rotation:', d)\n",
    "\n",
    "d = collections.deque(range(10))\n",
    "d.rotate(-2)\n",
    "print('Left rotation :', d)"
   ]
  },
  {
   "cell_type": "markdown",
   "metadata": {},
   "source": [
    "### 2.2.4.4 Constraining the Queue Size\n",
    "\n",
    "- ***.deque(..., maxlen = ...)*** optional para: maxlen 指定最大长度\n",
    "\n",
    "达到最大长度后，从一端增加元素会**从另一端删除**现有元素。"
   ]
  },
  {
   "cell_type": "code",
   "execution_count": 1,
   "metadata": {},
   "outputs": [
    {
     "name": "stdout",
     "output_type": "stream",
     "text": [
      "n = 29\n",
      "D1: deque([29], maxlen=3)\n",
      "D2: deque([29], maxlen=3)\n",
      "n = 13\n",
      "D1: deque([29, 13], maxlen=3)\n",
      "D2: deque([13, 29], maxlen=3)\n",
      "n = 89\n",
      "D1: deque([29, 13, 89], maxlen=3)\n",
      "D2: deque([89, 13, 29], maxlen=3)\n",
      "n = 26\n",
      "D1: deque([13, 89, 26], maxlen=3)\n",
      "D2: deque([26, 89, 13], maxlen=3)\n",
      "n = 20\n",
      "D1: deque([89, 26, 20], maxlen=3)\n",
      "D2: deque([20, 26, 89], maxlen=3)\n",
      "deque([26, 89, 1], maxlen=3)\n"
     ]
    }
   ],
   "source": [
    "# CODE LIST 2-29\n",
    "import collections\n",
    "import random\n",
    "\n",
    "# Set the random seed so we see the same output each time\n",
    "# the script is run.\n",
    "random.seed(114514)\n",
    "\n",
    "d1 = collections.deque(maxlen=3)\n",
    "d2 = collections.deque(maxlen=3)\n",
    "\n",
    "for i in range(5):\n",
    "    n = random.randint(0, 100)\n",
    "    print('n =', n)\n",
    "    d1.append(n)\n",
    "    d2.appendleft(n)\n",
    "    print('D1:', d1)\n",
    "    print('D2:', d2)"
   ]
  },
  {
   "cell_type": "markdown",
   "metadata": {},
   "source": [
    "## 2.2.5 namedtuple: Tuple Subclass with Named Fields \n",
    "带命名字段的元组（tupple）子类\n",
    "\n",
    "标准tuple用数值索引来访问成员（从0计之下标）。<br>\n",
    "namedtuple 在数值索引之外还可为之指定名字。"
   ]
  },
  {
   "cell_type": "code",
   "execution_count": 24,
   "metadata": {},
   "outputs": [
    {
     "name": "stdout",
     "output_type": "stream",
     "text": [
      "Representation: ('Bob', 30, 'male')\n",
      "\n",
      "Field by index: Jane\n",
      "\n",
      "Fields by index:\n",
      "Bob is a 30 year old male\n",
      "Jane is a 29 year old female\n"
     ]
    }
   ],
   "source": [
    "# CODE LIST 2-30\n",
    "bob = ('Bob', 30, 'male')\n",
    "print('Representation:', bob)\n",
    "\n",
    "jane = ('Jane', 29, 'female')\n",
    "print('\\nField by index:', jane[0])\n",
    "\n",
    "print('\\nFields by index:')\n",
    "for p in [bob, jane]:\n",
    "    print('{} is a {} year old {}'.format(*p))"
   ]
  },
  {
   "cell_type": "markdown",
   "metadata": {},
   "source": [
    "### 2.2.5.1 定义\n",
    "\n",
    "*.nametuple( )* **工厂函数** (*factory fuction*): 创建tuple子类，用此子类来定义各个元组。\n",
    "\n",
    "***collections.namedtuple(typename, field_names, \\*, verbose=False, rename=False, module=None)***\n",
    "\n",
    "*args:* *typename* 所返回子类的名称；*field_names*: 子类元组中成员的命名，用空格或逗号隔开。\n",
    "\n",
    "具有**不可修改性/immutable**"
   ]
  },
  {
   "cell_type": "code",
   "execution_count": 31,
   "metadata": {},
   "outputs": [
    {
     "name": "stdout",
     "output_type": "stream",
     "text": [
      "\n",
      "Representation: Person(name='Bob', age=30)\n",
      "\n",
      "Field by name: Jane\n",
      "\n",
      "Fields by index:\n",
      "Person(name='Bob', age=30)\n",
      "Bob is 30 years old\n",
      "Person(name='Jane', age=29)\n",
      "Jane is 29 years old\n"
     ]
    }
   ],
   "source": [
    "# CODE LIST 2-31\n",
    "import collections\n",
    "\n",
    "Person = collections.namedtuple('Person', 'name age')\n",
    "\n",
    "bob = Person(name='Bob', age=30)\n",
    "print('\\nRepresentation:', bob)\n",
    "\n",
    "jane = Person(name='Jane', age=29)\n",
    "print('\\nField by name:', jane.name)\n",
    "\n",
    "print('\\nFields by index:')\n",
    "for p in [bob, jane]:\n",
    "    print('{} is {} years old'.format(*p)) \n",
    "    # p是元组子类，传入打印内容时用*号\n",
    "    # *: 向函数传递参数，将变量中可迭代对象的元素拆解出来，作为独立的参数传递给函数"
   ]
  },
  {
   "cell_type": "code",
   "execution_count": 34,
   "metadata": {},
   "outputs": [
    {
     "name": "stdout",
     "output_type": "stream",
     "text": [
      "\n",
      "Representation: Person(name='Pat', age=12)\n",
      "AttributeError: can't set attribute\n"
     ]
    }
   ],
   "source": [
    "# CODE LIST 2-32\n",
    "import collections\n",
    "\n",
    "Person = collections.namedtuple('Person', 'name age')\n",
    "\n",
    "pat = Person(name='Pat', age=12)\n",
    "print('\\nRepresentation:', pat)\n",
    "\n",
    "try: \n",
    "    pat.age = 21\n",
    "except:\n",
    "    print(\"AttributeError: can't set attribute\")"
   ]
  },
  {
   "cell_type": "markdown",
   "metadata": {},
   "source": [
    "### 2.2.5.2 Invalid Field Names / 非法字段名\n",
    "\n",
    "非法：字段名重复或与Python关键字冲突，此时解析字段名会产生 ValueError 异常\n",
    "\n",
    "设置工厂函数的 option: *rename=True* 。无效字段名 field_names  会自动转换成**位置名**。"
   ]
  },
  {
   "cell_type": "code",
   "execution_count": 35,
   "metadata": {},
   "outputs": [
    {
     "name": "stdout",
     "output_type": "stream",
     "text": [
      "Type names and field names cannot be a keyword: 'class'\n",
      "Encountered duplicate field name: 'age'\n"
     ]
    }
   ],
   "source": [
    "# CODE LIST 2-33\n",
    "import collections\n",
    "\n",
    "try:\n",
    "    collections.namedtuple('Person', 'name class age')\n",
    "except ValueError as err:\n",
    "    print(err)\n",
    "\n",
    "try:\n",
    "    collections.namedtuple('Person', 'name age age')\n",
    "except ValueError as err:\n",
    "    print(err)"
   ]
  },
  {
   "cell_type": "code",
   "execution_count": 36,
   "metadata": {},
   "outputs": [
    {
     "name": "stdout",
     "output_type": "stream",
     "text": [
      "('name', '_1', 'age')\n",
      "('name', 'age', '_2')\n"
     ]
    }
   ],
   "source": [
    "# CODE LIST 2-34\n",
    "import collections\n",
    "\n",
    "with_class = collections.namedtuple(\n",
    "    'Person', 'name class age',\n",
    "    rename=True)\n",
    "print(with_class._fields)\n",
    "\n",
    "two_ages = collections.namedtuple(\n",
    "    'Person', 'name age age',\n",
    "    rename=True)\n",
    "print(two_ages._fields)"
   ]
  },
  {
   "cell_type": "markdown",
   "metadata": {},
   "source": [
    "### 2.2.5.3 Special Attributes\n",
    "\n",
    "**内置属性名**都有一个下划线(_)前缀。可用于处理子类和实例\n",
    "\n",
    "- ***._make(iterable), ._asdict( ), _replace(\\*\\*kwargs), .fields***"
   ]
  },
  {
   "cell_type": "code",
   "execution_count": 40,
   "metadata": {},
   "outputs": [
    {
     "name": "stdout",
     "output_type": "stream",
     "text": [
      "Representation: Person(name='Bob', age=30)\n",
      "Fields: ('name', 'age')\n"
     ]
    }
   ],
   "source": [
    "# CODE LIST 2-35\n",
    "# .field : 子类的字段名\n",
    "import collections\n",
    "\n",
    "Person = collections.namedtuple('Person', 'name age')\n",
    "\n",
    "bob = Person(name='Bob', age=30)\n",
    "print('Representation:', bob)\n",
    "print('Fields:', bob._fields)"
   ]
  },
  {
   "cell_type": "code",
   "execution_count": 41,
   "metadata": {},
   "outputs": [
    {
     "name": "stdout",
     "output_type": "stream",
     "text": [
      "Representation: Person(name='Bob', age=30)\n",
      "As Dictionary: OrderedDict([('name', 'Bob'), ('age', 30)])\n"
     ]
    }
   ],
   "source": [
    "# CODE LIST 2-36\n",
    "# ._asdict() : 将实例转换为 OrderedDict 实例\n",
    "import collections\n",
    "\n",
    "Person = collections.namedtuple('Person', 'name age')\n",
    "\n",
    "bob = Person(name='Bob', age=30)\n",
    "print('Representation:', bob)\n",
    "print('As Dictionary:', bob._asdict())"
   ]
  },
  {
   "cell_type": "code",
   "execution_count": 39,
   "metadata": {},
   "outputs": [
    {
     "name": "stdout",
     "output_type": "stream",
     "text": [
      "\n",
      "Before: Person(name='Bob', age=30)\n",
      "After: Person(name='Robert', age=30)\n",
      "Same?: False\n"
     ]
    }
   ],
   "source": [
    "# CODE LIST 2-37\n",
    "# ._replace() 返回一个《新的》命名元组实例，并替换指定域的值\n",
    "import collections\n",
    "\n",
    "Person = collections.namedtuple('Person', 'name age')\n",
    "\n",
    "bob = Person(name='Bob', age=30)\n",
    "print('\\nBefore:', bob)\n",
    "bob2 = bob._replace(name='Robert')\n",
    "print('After:', bob2)\n",
    "print('Same?:', bob is bob2)"
   ]
  },
  {
   "cell_type": "markdown",
   "metadata": {},
   "source": [
    "## 2.2.6 OrderedDict: Remember the Order Keys Are Added to a Dictionary\n",
    "可以记住内容增加顺序的字典（dict）子类\n",
    "\n",
    "常规 dict 在迭代处理中根据散列表中储存键的顺序生成值，这会受到一个随机值的影响<br>\n",
    "而 OrderedDict 会记住元素插入的顺序并用于创建迭代器。"
   ]
  },
  {
   "cell_type": "code",
   "execution_count": 54,
   "metadata": {},
   "outputs": [
    {
     "name": "stdout",
     "output_type": "stream",
     "text": [
      "Regular dictionary:\n",
      "a A -- b B -- c C -- \n",
      "OrderedDict:\n",
      "a A -- b B -- c C -- "
     ]
    }
   ],
   "source": [
    "# CODE LIST 2-38\n",
    "import collections\n",
    "\n",
    "print('Regular dictionary:')\n",
    "d = {}\n",
    "d['a'] = 'A'\n",
    "d['b'] = 'B'\n",
    "d['c'] = 'C'\n",
    "\n",
    "for k, v in d.items():\n",
    "    print(k, v, end=' -- ')\n",
    "\n",
    "print('\\nOrderedDict:')\n",
    "d = collections.OrderedDict()\n",
    "d['a'] = 'A'\n",
    "d['b'] = 'B'\n",
    "d['c'] = 'C'\n",
    "\n",
    "for k, v in d.items():\n",
    "    print(k, v, end=' -- ')"
   ]
  },
  {
   "cell_type": "markdown",
   "metadata": {},
   "source": [
    "### 2.2.6.1 Equality\n",
    "\n",
    "有序字典的相等还包含了插入顺序。"
   ]
  },
  {
   "cell_type": "code",
   "execution_count": 55,
   "metadata": {},
   "outputs": [
    {
     "name": "stdout",
     "output_type": "stream",
     "text": [
      "dict       : True\n",
      "OrderedDict: False\n"
     ]
    }
   ],
   "source": [
    "# CODE LIST 2-39\n",
    "import collections\n",
    "\n",
    "print('dict       :', end=' ')\n",
    "d1 = {}\n",
    "d1['a'] = 'A'\n",
    "d1['b'] = 'B'\n",
    "d1['c'] = 'C'\n",
    "\n",
    "d2 = {}\n",
    "d2['c'] = 'C'\n",
    "d2['b'] = 'B'\n",
    "d2['a'] = 'A'\n",
    "\n",
    "print(d1 == d2)\n",
    "\n",
    "print('OrderedDict:', end=' ')\n",
    "\n",
    "d1 = collections.OrderedDict()\n",
    "d1['a'] = 'A'\n",
    "d1['b'] = 'B'\n",
    "d1['c'] = 'C'\n",
    "\n",
    "d2 = collections.OrderedDict()\n",
    "d2['c'] = 'C'\n",
    "d2['b'] = 'B'\n",
    "d2['a'] = 'A'\n",
    "\n",
    "print(d1 == d2)"
   ]
  },
  {
   "cell_type": "markdown",
   "metadata": {},
   "source": [
    "### 2.2.6.2 Reordering\n",
    "\n",
    "***.move_to_end(key, last=True)***\n",
    "\n",
    "将 key 移动到有序字典的一端，default last=True -> 末尾; last=False -> 开头。"
   ]
  },
  {
   "cell_type": "code",
   "execution_count": 56,
   "metadata": {},
   "outputs": [
    {
     "name": "stdout",
     "output_type": "stream",
     "text": [
      "Before:\n",
      "a A\n",
      "b B\n",
      "c C\n",
      "\n",
      "move_to_end():\n",
      "a A\n",
      "c C\n",
      "b B\n",
      "\n",
      "move_to_end(last=False):\n",
      "b B\n",
      "a A\n",
      "c C\n"
     ]
    }
   ],
   "source": [
    "# CODE LIST 2-40\n",
    "import collections\n",
    "\n",
    "d = collections.OrderedDict(\n",
    "    [('a', 'A'), ('b', 'B'), ('c', 'C')]\n",
    ")\n",
    "\n",
    "print('Before:')\n",
    "for k, v in d.items():\n",
    "    print(k, v)\n",
    "\n",
    "d.move_to_end('b')\n",
    "\n",
    "print('\\nmove_to_end():')\n",
    "for k, v in d.items():\n",
    "    print(k, v)\n",
    "\n",
    "d.move_to_end('b', last=False)\n",
    "\n",
    "print('\\nmove_to_end(last=False):')\n",
    "for k, v in d.items():\n",
    "    print(k, v)"
   ]
  }
 ],
 "metadata": {
  "interpreter": {
   "hash": "27b289dc1d474a95eaad8a936cc21067faed3dbae144b55547f7eb4e89aefac0"
  },
  "kernelspec": {
   "display_name": "Python 3.9.7 ('base')",
   "language": "python",
   "name": "python3"
  },
  "language_info": {
   "codemirror_mode": {
    "name": "ipython",
    "version": 3
   },
   "file_extension": ".py",
   "mimetype": "text/x-python",
   "name": "python",
   "nbconvert_exporter": "python",
   "pygments_lexer": "ipython3",
   "version": "3.7.11"
  },
  "orig_nbformat": 4
 },
 "nbformat": 4,
 "nbformat_minor": 2
}
