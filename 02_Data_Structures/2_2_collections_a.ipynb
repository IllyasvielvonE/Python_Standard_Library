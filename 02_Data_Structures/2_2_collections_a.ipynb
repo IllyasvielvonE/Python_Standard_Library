{
 "cells": [
  {
   "cell_type": "markdown",
   "metadata": {},
   "source": [
    "# 2.2 collections: 容器数据类型"
   ]
  },
  {
   "cell_type": "markdown",
   "metadata": {},
   "source": [
    "## 2.2.3 defaultdict: 缺少的键返回一个默认值\n",
    "\n",
    "标准字典包含的 ***setdefault( )*** 方法 可用于获取一个值，若不存在则建立一个默认值。\n",
    "<br>与之相反，初始化容器时 *defaultdict* 会让调用者提前指定默认值。\n",
    "\n",
    "***dictionary.setdefault(keyname, value)***\n",
    "<br> value: optional, 如果键存在，则此参数无效。如果键不存在，则此值将成为键的值。默认值 None。"
   ]
  },
  {
   "cell_type": "code",
   "execution_count": 22,
   "metadata": {},
   "outputs": [
    {
     "name": "stdout",
     "output_type": "stream",
     "text": [
      "356a Gin\n",
      "{'brand': 'Porsche', 'model': '356a', 'color': 'black', 'year': 1963, 'owner': 'Gin'}\n"
     ]
    }
   ],
   "source": [
    "car = {\n",
    "  \"brand\": \"Porsche\",\n",
    "  \"model\": \"356a\",\n",
    "  'color': 'black',\n",
    "  \"year\": 1963\n",
    "}\n",
    "\n",
    "x = car.setdefault(\"model\", \"Macan\")\n",
    "y = car.setdefault('owner', 'Gin')\n",
    "\n",
    "print(x,y)\n",
    "print(car)"
   ]
  },
  {
   "cell_type": "code",
   "execution_count": 18,
   "metadata": {},
   "outputs": [
    {
     "name": "stdout",
     "output_type": "stream",
     "text": [
      "d: defaultdict(<function default_factory at 0x000002AD3AA0EB88>, {'foo': 'bar'})\n",
      "foo => bar\n",
      "bar => default value\n"
     ]
    }
   ],
   "source": [
    "# CODE LIST 2-23\n",
    "import collections\n",
    "\n",
    "def default_factory():\n",
    "    return 'default value'\n",
    "\n",
    "d = collections.defaultdict(default_factory, foo='bar')\n",
    "print('d:', d)\n",
    "print('foo =>', d['foo'])\n",
    "print('bar =>', d['bar'])"
   ]
  },
  {
   "cell_type": "markdown",
   "metadata": {},
   "source": [
    "## 2.2.1 ChainMap 搜索多个字典\n",
    "\n",
    "（官方文档）一个 ChainMap 类是为了将多个映射快速的链接到一起，这样它们就可以作为一个单元处理。<br>\n",
    "它通常比创建一个新字典和多次调用 update() 要快很多。\n",
    "\n",
    "即 将多个词典放在一个列表中\n",
    "\n",
    "***m = collections.ChainMap(dict1, dict2, ...)***"
   ]
  },
  {
   "cell_type": "markdown",
   "metadata": {},
   "source": [
    "### 2.2.1.1 Accessing Values\n",
    "\n",
    "同常规词典相同的API来访问现有的值\n",
    "\n",
    "- 当有重复名时，按照子映射传递到构造函数的顺序搜索&emsp;(如下例中'c'报告的值来自a字典)\n",
    "\n",
    "- ***m.keys( ), m.values( )*** 获得ChainMap的键名与值列表\n",
    "- ***m.items( )***\n",
    "- ***m.maps***"
   ]
  },
  {
   "cell_type": "code",
   "execution_count": 10,
   "metadata": {},
   "outputs": [
    {
     "name": "stdout",
     "output_type": "stream",
     "text": [
      "ChainMap({'a': 'A', 'c': 'C'}, {'b': 'B', 'c': 'D'}) \n",
      " ItemsView(ChainMap({'a': 'A', 'c': 'C'}, {'b': 'B', 'c': 'D'})) \n",
      " [{'a': 'A', 'c': 'C'}, {'b': 'B', 'c': 'D'}] \n",
      "\n",
      "Individual Values\n",
      "a = A\n",
      "b = B\n",
      "c = C\n",
      "\n",
      "Keys = ['b', 'c', 'a']\n",
      "Values = ['B', 'C', 'A']\n",
      "\n",
      "Items:\n",
      "b = B\n",
      "c = C\n",
      "a = A\n",
      "\n",
      "\"d\" in m: False\n"
     ]
    }
   ],
   "source": [
    "# CODE LIST 2-11\n",
    "import collections\n",
    "\n",
    "a = {'a': 'A', 'c': 'C'}\n",
    "b = {'b': 'B', 'c': 'D'}\n",
    "\n",
    "m = collections.ChainMap(a, b)\n",
    "print(m,'\\n',m.items(),'\\n',m.maps,'\\n')\n",
    "\n",
    "print('Individual Values')\n",
    "print('a = {}'.format(m['a']))\n",
    "print('b = {}'.format(m['b']))\n",
    "print('c = {}'.format(m['c']))\n",
    "print()\n",
    "\n",
    "print('Keys = {}'.format(list(m.keys())))\n",
    "print('Values = {}'.format(list(m.values())))\n",
    "print()\n",
    "\n",
    "# m, m.items() 都显示了原各个词典，但在迭代操作时重复名只出现第一次\n",
    "print('Items:')\n",
    "for k, v in m.items():\n",
    "    print('{} = {}'.format(k, v))\n",
    "print()\n",
    "\n",
    "print('\"d\" in m: {}'.format(('d' in m)))"
   ]
  },
  {
   "cell_type": "markdown",
   "metadata": {},
   "source": [
    "### 2.2.1.2 Reordering\n",
    "\n",
    "*m.maps* &emsp; maps 属性中储存要搜索的映射列表。<br>\n",
    "此列表是可变的，故可直接增加新映射，或者改变元素顺序以控制查找和更新行为。"
   ]
  },
  {
   "cell_type": "code",
   "execution_count": 3,
   "metadata": {},
   "outputs": [
    {
     "name": "stdout",
     "output_type": "stream",
     "text": [
      "[{'a': 'A', 'c': 'C'}, {'b': 'B', 'c': 'D'}]\n",
      "c = C\n",
      "\n",
      "[{'b': 'B', 'c': 'D'}, {'a': 'A', 'c': 'C'}]\n",
      "c = D\n"
     ]
    }
   ],
   "source": [
    "# CODE LIST 2-12\n",
    "import collections\n",
    "\n",
    "a = {'a': 'A', 'c': 'C'}\n",
    "b = {'b': 'B', 'c': 'D'}\n",
    "\n",
    "m = collections.ChainMap(a, b)\n",
    "\n",
    "print(m.maps)\n",
    "print('c = {}\\n'.format(m['c']))\n",
    "\n",
    "# reverse the list\n",
    "m.maps = list(reversed(m.maps))\n",
    "\n",
    "print(m.maps)\n",
    "print('c = {}'.format(m['c']))"
   ]
  },
  {
   "cell_type": "markdown",
   "metadata": {},
   "source": [
    "### 2.2.1.3 Updating Values\n",
    "\n",
    "两种方法：修改子映射 或 直接通过ChainMap设置值\n",
    "\n",
    "注意：重复名情况下也只有第一个映射会被修改。\n",
    "\n",
    "- ***m.new_child( )***"
   ]
  },
  {
   "cell_type": "code",
   "execution_count": 11,
   "metadata": {},
   "outputs": [
    {
     "name": "stdout",
     "output_type": "stream",
     "text": [
      "Before: C\n",
      "After : E\n"
     ]
    }
   ],
   "source": [
    "# CODE LIST 2-13\n",
    "import collections\n",
    "\n",
    "a = {'a': 'A', 'c': 'C'}\n",
    "b = {'b': 'B', 'c': 'D'}\n",
    "\n",
    "m = collections.ChainMap(a, b)\n",
    "print('Before: {}'.format(m['c']))\n",
    "a['c'] = 'E'\n",
    "print('After : {}'.format(m['c']))"
   ]
  },
  {
   "cell_type": "code",
   "execution_count": 12,
   "metadata": {},
   "outputs": [
    {
     "name": "stdout",
     "output_type": "stream",
     "text": [
      "Before: ChainMap({'a': 'A', 'c': 'C'}, {'b': 'B', 'c': 'D'})\n",
      "After : ChainMap({'a': 'A', 'c': 'E'}, {'b': 'B', 'c': 'D'})\n",
      "a: {'a': 'A', 'c': 'E'}\n"
     ]
    }
   ],
   "source": [
    "# CODE LIST 2-14\n",
    "import collections\n",
    "\n",
    "a = {'a': 'A', 'c': 'C'}\n",
    "b = {'b': 'B', 'c': 'D'}\n",
    "\n",
    "m = collections.ChainMap(a, b)\n",
    "print('Before:', m)\n",
    "m['c'] = 'E' # 只有a映射中的被修改了\n",
    "print('After :', m)\n",
    "print('a:', a)"
   ]
  },
  {
   "cell_type": "markdown",
   "metadata": {},
   "source": [
    "*.new_child( )* 方法会在maps列表最前端添加一个新的映射列表，以避免修改现有的底层数据结构"
   ]
  },
  {
   "cell_type": "code",
   "execution_count": 13,
   "metadata": {},
   "outputs": [
    {
     "name": "stdout",
     "output_type": "stream",
     "text": [
      "m1 before: ChainMap({'a': 'A', 'c': 'C'}, {'b': 'B', 'c': 'D'})\n",
      "m2 before: ChainMap({}, {'a': 'A', 'c': 'C'}, {'b': 'B', 'c': 'D'})\n",
      "m1 after: ChainMap({'a': 'A', 'c': 'C'}, {'b': 'B', 'c': 'D'})\n",
      "m2 after: ChainMap({'c': 'E'}, {'a': 'A', 'c': 'C'}, {'b': 'B', 'c': 'D'})\n"
     ]
    }
   ],
   "source": [
    "# CODE LIST 2-15\n",
    "import collections\n",
    "\n",
    "a = {'a': 'A', 'c': 'C'}\n",
    "b = {'b': 'B', 'c': 'D'}\n",
    "\n",
    "m1 = collections.ChainMap(a, b)\n",
    "m2 = m1.new_child()\n",
    "\n",
    "print('m1 before:', m1)\n",
    "print('m2 before:', m2)\n",
    "\n",
    "m2['c'] = 'E'\n",
    "\n",
    "print('m1 after:', m1)\n",
    "print('m2 after:', m2)"
   ]
  },
  {
   "cell_type": "code",
   "execution_count": 14,
   "metadata": {},
   "outputs": [
    {
     "name": "stdout",
     "output_type": "stream",
     "text": [
      "m1[\"c\"] = C\n",
      "m2[\"c\"] = E\n"
     ]
    }
   ],
   "source": [
    "# CODE LIST 2-16\n",
    "import collections\n",
    "\n",
    "a = {'a': 'A', 'c': 'C'}\n",
    "b = {'b': 'B', 'c': 'D'}\n",
    "c = {'c': 'E'}\n",
    "\n",
    "m1 = collections.ChainMap(a, b)\n",
    "m2 = m1.new_child(c)\n",
    "\n",
    "print('m1[\"c\"] = {}'.format(m1['c']))\n",
    "print('m2[\"c\"] = {}'.format(m2['c']))"
   ]
  },
  {
   "cell_type": "markdown",
   "metadata": {},
   "source": [
    "## 2.2.2 Counter: 统计可散列的对象\n",
    "\n",
    "Counter 容器，可以跟踪等效值增加的次数。<br>\n",
    "这个类可以用于实现其他语言中 常用包(bag) 或多集合(multiset) 数据结构实现的算法"
   ]
  },
  {
   "cell_type": "markdown",
   "metadata": {},
   "source": [
    "### 2.2.2.1 初始化\n",
    "\n",
    "三种形式的初始化：元素序列，字典，关键字。\n",
    "\n",
    "- ***c = collections.Counter(...)***\n",
    "\n",
    "- ***c.update(...)*** &emsp;可用于更新或添加计数。或 c[key] = x 直接修改"
   ]
  },
  {
   "cell_type": "code",
   "execution_count": 3,
   "metadata": {},
   "outputs": [
    {
     "name": "stdout",
     "output_type": "stream",
     "text": [
      "Counter({'b': 3, 'a': 2, 'c': 1})\n",
      "Counter({'b': 3, 'a': 2, 'c': 1})\n",
      "Counter({'b': 3, 'a': 2, 'c': 1})\n"
     ]
    }
   ],
   "source": [
    "# CODE LIST 2-17\n",
    "import collections\n",
    "\n",
    "print(collections.Counter(['a', 'b', 'c', 'a', 'b', 'b'])) # 直接计数元素名出现次\n",
    "print(collections.Counter({'a': 2, 'b': 3, 'c': 1})) # 键和计数的字典\n",
    "print(collections.Counter(a=2, b=3, c=1)) # 利用关键字参数，将字符串名映射到计数\n",
    "# 打印时，默认按计数降序"
   ]
  },
  {
   "cell_type": "code",
   "execution_count": 12,
   "metadata": {},
   "outputs": [
    {
     "name": "stdout",
     "output_type": "stream",
     "text": [
      "Initial : Counter()\n",
      "Sequence: Counter({'a': 3, 'b': 2, 'c': 1, 'd': 1})\n",
      "Dict    : Counter({'d': 6, 'a': 4, 'b': 2, 'c': 1})\n",
      "Dict    : Counter({'d': 8, 'a': 5, 'b': 2, 'c': 1})\n",
      "Dict    : Counter({'d': 10, 'a': 5, 'b': 2, 'c': 1})\n"
     ]
    }
   ],
   "source": [
    "# CODE LIST 2-18\n",
    "import collections\n",
    "\n",
    "c = collections.Counter()\n",
    "print('Initial :', c)\n",
    "\n",
    "c.update('abcdaab') # 添加计数\n",
    "print('Sequence:', c) \n",
    "\n",
    "c.update({'a': 1, 'd': 5}) # 更新计数\n",
    "print('Dict    :', c)\n",
    "c.update('dda') # 更新计数.2\n",
    "print('Dict    :', c)\n",
    "c['d'] = 10 # 更新.3\n",
    "print('Dict    :', c)"
   ]
  },
  {
   "cell_type": "markdown",
   "metadata": {},
   "source": [
    "### 2.2.2.2 访问计数\n",
    "\n",
    "同字典，使用字典API获取值。\n",
    "\n",
    "注意：对于**未知元素**不会产生 *KeyError*，而是计数为0.\n",
    "\n",
    "- *c[letter]*\n",
    "\n",
    "- ***c.elements( )*** &emsp; 返回迭代器，注意和前不同，重复元素会重复出现\n",
    "- ***c.most_common(n)*** &emsp; 生成一个序列，包含n个最常遇到的输入值和相应的计数。缺省则为所有元素的频度排序。"
   ]
  },
  {
   "cell_type": "code",
   "execution_count": 9,
   "metadata": {},
   "outputs": [
    {
     "name": "stdout",
     "output_type": "stream",
     "text": [
      "a : 3\n",
      "b : 2\n",
      "c : 1\n",
      "d : 1\n",
      "e : 0\n"
     ]
    }
   ],
   "source": [
    "# CODE LIST 2-19\n",
    "import collections\n",
    "\n",
    "c = collections.Counter('abcdaab')\n",
    "\n",
    "for letter in 'abcde':\n",
    "    print('{} : {}'.format(letter, c[letter])) # c[...] 通过名访问"
   ]
  },
  {
   "cell_type": "code",
   "execution_count": 14,
   "metadata": {},
   "outputs": [
    {
     "name": "stdout",
     "output_type": "stream",
     "text": [
      "Counter({'e': 3, 'x': 1, 't': 1, 'r': 1, 'm': 1, 'l': 1, 'y': 1, 'z': 0})\n",
      "['e', 'e', 'e', 'x', 't', 'r', 'm', 'l', 'y']\n",
      "3 3 3 1 1 1 1 1 1 "
     ]
    }
   ],
   "source": [
    "# CODE LIST 2-20\n",
    "import collections\n",
    "\n",
    "c = collections.Counter('extremely')\n",
    "c['z'] = 0\n",
    "print(c)\n",
    "print(list(c.elements()))\n",
    "for letter in c.elements():\n",
    "    print(c[letter],end=' ')"
   ]
  },
  {
   "cell_type": "code",
   "execution_count": 16,
   "metadata": {},
   "outputs": [
    {
     "name": "stdout",
     "output_type": "stream",
     "text": [
      "Most common:\n",
      "e:     109\n",
      "t:      75\n",
      "r:      72\n"
     ]
    }
   ],
   "source": [
    "# CODE LIST 2-21\n",
    "import collections\n",
    "\n",
    "c = collections.Counter()\n",
    "with open('./spelling_wordlist.txt', 'rt') as f:\n",
    "    for line in f:\n",
    "        c.update(line.rstrip().lower())\n",
    "\n",
    "print('Most common:')\n",
    "for letter, count in c.most_common(3):\n",
    "    print('{}: {:>7}'.format(letter, count))"
   ]
  },
  {
   "cell_type": "markdown",
   "metadata": {},
   "source": [
    "### 2.2.2.3 算数操作\n",
    "\n",
    "Counter 实例支持使用算术和集合操作 完成 **结果的聚集**。<br>\n",
    "*+=, -=, &=, |=* 等原地执行的操作符也支持。"
   ]
  },
  {
   "cell_type": "code",
   "execution_count": 5,
   "metadata": {},
   "outputs": [
    {
     "name": "stdout",
     "output_type": "stream",
     "text": [
      "C1: Counter({'b': 3, 'a': 2, 'c': 1})\n",
      "C2: Counter({'a': 2, 'l': 1, 'p': 1, 'h': 1, 'b': 1, 'e': 1, 't': 1})\n",
      "\n",
      "Combined counts:\n",
      "Counter({'a': 4, 'b': 4, 'c': 1, 'l': 1, 'p': 1, 'h': 1, 'e': 1, 't': 1})\n",
      "\n",
      "Subtraction:\n",
      "Counter({'b': 2, 'c': 1})\n",
      "\n",
      "Intersection (taking positive minimums):\n",
      "Counter({'a': 2, 'b': 1})\n",
      "\n",
      "Union (taking maximums):\n",
      "Counter({'b': 3, 'a': 2, 'c': 1, 'l': 1, 'p': 1, 'h': 1, 'e': 1, 't': 1})\n"
     ]
    }
   ],
   "source": [
    "# CODE LIST 2-22\n",
    "import collections\n",
    "\n",
    "c1 = collections.Counter(['a', 'b', 'c', 'a', 'b', 'b'])\n",
    "c2 = collections.Counter('alphabet')\n",
    "\n",
    "print('C1:', c1)\n",
    "print('C2:', c2)\n",
    "\n",
    "print('\\nCombined counts:')\n",
    "print(c1 + c2)\n",
    "\n",
    "print('\\nSubtraction:')\n",
    "print(c1 - c2)\n",
    "\n",
    "# 相同元素的值，交集取最小，并集取最大\n",
    "print('\\nIntersection (taking positive minimums):')\n",
    "print(c1 & c2)\n",
    "\n",
    "print('\\nUnion (taking maximums):')\n",
    "print(c1 | c2)"
   ]
  }
 ],
 "metadata": {
  "interpreter": {
   "hash": "687d78340220d86234540234f2dddb05cc2a368e2fe8eb7ed5800ac5a3920935"
  },
  "kernelspec": {
   "display_name": "Python 3.7.11 ('myenv')",
   "language": "python",
   "name": "python3"
  },
  "language_info": {
   "codemirror_mode": {
    "name": "ipython",
    "version": 3
   },
   "file_extension": ".py",
   "mimetype": "text/x-python",
   "name": "python",
   "nbconvert_exporter": "python",
   "pygments_lexer": "ipython3",
   "version": "3.7.11"
  },
  "orig_nbformat": 4
 },
 "nbformat": 4,
 "nbformat_minor": 2
}
