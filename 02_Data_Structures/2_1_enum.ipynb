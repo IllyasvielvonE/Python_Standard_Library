{
 "cells": [
  {
   "cell_type": "markdown",
   "metadata": {},
   "source": [
    "### **enumerate( )** 函数（延申）\n",
    "\n",
    "将一个可遍历的数据对象(如列表、元组或字符串)组合为一个索引序列，同时列出数据和数据下标(tuple)\n",
    "\n",
    "`enumerate(sequence, [start=0])`"
   ]
  },
  {
   "cell_type": "code",
   "execution_count": 25,
   "metadata": {},
   "outputs": [
    {
     "name": "stdout",
     "output_type": "stream",
     "text": [
      "<class 'enumerate'>\n",
      "[(1, 'Spring'), (2, 'Summer'), (3, 'Fall'), (4, 'Winter')]\n",
      "0 one\n",
      "1 two\n",
      "2 three\n"
     ]
    }
   ],
   "source": [
    "seasons = ['Spring', 'Summer', 'Fall', 'Winter']\n",
    "e = enumerate(seasons, start=1) # start 指定起始索引\n",
    "print(type(e)) \n",
    "print(list(e))\n",
    "\n",
    "seq = ['one', 'two', 'three']\n",
    "for i, element in enumerate(seq):\n",
    "    print(i, element)"
   ]
  },
  {
   "cell_type": "markdown",
   "metadata": {},
   "source": [
    "参考blog：[Python 中的枚举数据类型](https://blog.csdn.net/ProQianXiao/article/details/113481092)\n",
    "\n",
    "## ***enum*** 模块：\n",
    "\n",
    "- ***Enum*** 类：创建枚举常量的基类\n",
    "- ***IntEnum*** 类：创建int子类枚举常量的基类\n",
    "- ***IntFlag*** 类\n",
    "- ***Flag*** 类：创建...的基类 / 可与位运算符搭配使用，又不会失去Flag成员资格的枚举常量"
   ]
  },
  {
   "cell_type": "markdown",
   "metadata": {},
   "source": [
    "以下参考：[Enum类型](https://blog.csdn.net/ProQianXiao/article/details/113481092)\n",
    "\n",
    "Enum 类 包含 **无序** 的枚举常量，常量通过 *.name, .value* 来访问其常量名和值。\n",
    "\n",
    "枚举项不能重复，其值不能于外部修改，但能通过外部添加枚举项的属性\n",
    "\n",
    "利用 ***classname[keyname], classname(keyvalue)*** 也可以通过枚举常量名和值来访问常量"
   ]
  },
  {
   "cell_type": "code",
   "execution_count": 23,
   "metadata": {},
   "outputs": [
    {
     "name": "stdout",
     "output_type": "stream",
     "text": [
      "Weekday.wednesday\n",
      "<enum 'Weekday'>\n",
      "wednesday\n",
      "3\n",
      "星期三\n",
      "Weekday.wednesday\n",
      "Weekday.wednesday\n"
     ]
    }
   ],
   "source": [
    "from enum import Enum\n",
    "class Weekday(Enum):\n",
    "    monday = 1\n",
    "    tuesday = 2\n",
    "    wednesday = 3\n",
    "    thirsday = 4\n",
    "    friday = 5\n",
    "    saturday = 6\n",
    "    sunday = 7\n",
    "    test = 5\n",
    "    # wednesday = 33 # TypeError: Attempted to reuse key: 'wednesday'\n",
    " \n",
    "print(Weekday.wednesday)         # Weekday.wednesday      \n",
    "print(type(Weekday.wednesday))   # <enum 'Weekday'>\n",
    "print(Weekday.wednesday.name)    # wednesday\n",
    "print(Weekday.wednesday.value)   # 3\n",
    "# Weekday.wednesday = 33 # AttributeError: Cannot reassign members.\n",
    "\n",
    "Weekday.wednesday.label = \"星期三\"\n",
    "Weekday.wednesday.work = \"完成假期作业\"\n",
    "Weekday.wednesday.time = 10\n",
    "\n",
    "obj_1 = Weekday.wednesday\n",
    "print(obj_1.label)\n",
    "print(Weekday['wednesday']) # 这两者等同于 Weekday.wednesday\n",
    "print(Weekday(3))"
   ]
  },
  {
   "cell_type": "markdown",
   "metadata": {},
   "source": [
    "注意事项：\n",
    "\n",
    "- 枚举类不能实例化对象 (因为在解析这个类时已经将Enum成员实例化)\n",
    "  \n",
    "- 枚举成员可以利用 *is* 或 *==* 来比较键值\n",
    "- 利用修饰器 ***@unique*** 来限定键值也必须互不相同"
   ]
  },
  {
   "cell_type": "code",
   "execution_count": 24,
   "metadata": {},
   "outputs": [
    {
     "name": "stdout",
     "output_type": "stream",
     "text": [
      "True\n",
      "True\n"
     ]
    }
   ],
   "source": [
    "# w = Weekday() # TypeError: __call__() missing 1 required positional argument: 'value'\n",
    "# w = Weekday 是可用的，但这不是实例化对象，而是为 Weekday 取别名\n",
    "print( Weekday.friday == Weekday.test )\n",
    "print( Weekday.friday is Weekday.test )\n",
    "\n",
    "from enum import unique\n",
    "@unique\n",
    "class Weekday2(Enum):\n",
    "    monday = 1\n",
    "    tuesday = 2\n",
    "    wednesday = 3\n",
    "    thirsday = 4\n",
    "    friday = 5\n",
    "    saturday = 6\n",
    "    sunday = 7\n",
    "    # test = 5 # ValueError: duplicate values found in <enum 'Weekday2'>: test -> friday"
   ]
  },
  {
   "cell_type": "markdown",
   "metadata": {},
   "source": [
    "## 2.1.1 创建枚举\n",
    "\n",
    "使用 ***Enum*** 基类创建"
   ]
  },
  {
   "cell_type": "code",
   "execution_count": 19,
   "metadata": {},
   "outputs": [
    {
     "name": "stdout",
     "output_type": "stream",
     "text": [
      "Member name: wont_fix\n",
      "Member value: 4\n"
     ]
    }
   ],
   "source": [
    "# CODE LIST 2-1\n",
    "import enum\n",
    "\n",
    "class BugStatus(enum.Enum):\n",
    "\n",
    "    new = 7\n",
    "    incomplete = 6\n",
    "    invalid = 5\n",
    "    wont_fix = 4\n",
    "    in_progress = 3\n",
    "    fix_committed = 2\n",
    "    fix_released = 1\n",
    "\n",
    "print('Member name: {}'.format(BugStatus.wont_fix.name))\n",
    "print('Member value: {}'.format(BugStatus.wont_fix.value))\n"
   ]
  },
  {
   "cell_type": "markdown",
   "metadata": {},
   "source": [
    "## 2.1.2 迭代\n",
    "\n",
    "迭代处理会生成枚举的各个成员，按其在类定义中声明的顺序生成，而非以名和值排序"
   ]
  },
  {
   "cell_type": "code",
   "execution_count": 20,
   "metadata": {},
   "outputs": [
    {
     "name": "stdout",
     "output_type": "stream",
     "text": [
      "new             = 7\n",
      "incomplete      = 6\n",
      "invalid         = 5\n",
      "wont_fix        = 4\n",
      "in_progress     = 3\n",
      "fix_committed   = 2\n",
      "fix_released    = 1\n"
     ]
    }
   ],
   "source": [
    "# CODE LIST 2-2\n",
    "import enum\n",
    "\n",
    "class BugStatus(enum.Enum):\n",
    "\n",
    "    new = 7\n",
    "    incomplete = 6\n",
    "    invalid = 5\n",
    "    wont_fix = 4\n",
    "    in_progress = 3\n",
    "    fix_committed = 2\n",
    "    fix_released = 1\n",
    "\n",
    "for status in BugStatus:\n",
    "    print('{:15} = {}'.format(status.name, status.value))"
   ]
  },
  {
   "cell_type": "markdown",
   "metadata": {},
   "source": [
    "## 2.1.3 比较Enum\n",
    "\n",
    "由于无序，只能进行同一性和相等性比较(键值比较)。\n",
    "\n",
    "***IntEnum*** 类支持比较，但其键值只能为整型数"
   ]
  },
  {
   "cell_type": "code",
   "execution_count": 28,
   "metadata": {},
   "outputs": [
    {
     "name": "stdout",
     "output_type": "stream",
     "text": [
      "Equality: False True\n",
      "Identity: False True\n",
      "Ordered by value:\n",
      "  Cannot sort: '<' not supported between instances of 'BugStatus' and 'BugStatus'\n"
     ]
    }
   ],
   "source": [
    "# CODE LIST 2-3\n",
    "import enum\n",
    "\n",
    "class BugStatus(enum.Enum):\n",
    "\n",
    "    new = 7\n",
    "    incomplete = 6\n",
    "    invalid = 5\n",
    "    wont_fix = 4\n",
    "    in_progress = 3\n",
    "    fix_committed = 2\n",
    "    fix_released = 1\n",
    "\n",
    "actual_state = BugStatus.wont_fix\n",
    "desired_state = BugStatus.fix_released\n",
    "\n",
    "print('Equality:',\n",
    "      actual_state == desired_state,\n",
    "      actual_state == BugStatus.wont_fix)\n",
    "print('Identity:',\n",
    "      actual_state is desired_state,\n",
    "      actual_state is BugStatus.wont_fix)\n",
    "print('Ordered by value:')\n",
    "try:\n",
    "    print('\\n'.join('  ' + s.name for s in sorted(BugStatus)))\n",
    "except TypeError as err:\n",
    "    print('  Cannot sort: {}'.format(err))\n"
   ]
  },
  {
   "cell_type": "code",
   "execution_count": 36,
   "metadata": {},
   "outputs": [
    {
     "name": "stdout",
     "output_type": "stream",
     "text": [
      "1\n",
      "False\n",
      "Ordered by value:\n",
      "  fix_released\n",
      "  fix_committed\n",
      "  in_progress\n",
      "  wont_fix\n",
      "  invalid\n",
      "  incomplete\n",
      "  new\n"
     ]
    }
   ],
   "source": [
    "# CODE LIST 2-4\n",
    "import enum\n",
    "\n",
    "class BugStatus(enum.IntEnum):\n",
    "\n",
    "    new = 7\n",
    "    incomplete = 6\n",
    "    invalid = 5\n",
    "    wont_fix = 4\n",
    "    in_progress = 3\n",
    "    fix_committed = 2\n",
    "    fix_released = 1.6\n",
    "\n",
    "print(BugStatus.fix_released.value) # 其键值被自动向下取整了\n",
    "print(BugStatus.new < BugStatus.invalid)\n",
    "print('Ordered by value:')\n",
    "print('\\n'.join('  ' + s.name for s in sorted(BugStatus)))"
   ]
  },
  {
   "cell_type": "markdown",
   "metadata": {},
   "source": [
    "## 2.1.4 唯一\n",
    "\n",
    "有相同值的 Enum 成员会被处理为同一成员对象的别名引用。这可以避免迭代器中出现重复的值<br>\n",
    "迭代处理只会出现成员的 **规范名** &ensp;(与值关联的第一个名字)\n",
    "\n",
    "@unique 修饰符"
   ]
  },
  {
   "cell_type": "code",
   "execution_count": 39,
   "metadata": {},
   "outputs": [
    {
     "name": "stdout",
     "output_type": "stream",
     "text": [
      "new             = 7\n",
      "incomplete      = 6\n",
      "invalid         = 5\n",
      "wont_fix        = 4\n",
      "in_progress     = 3\n",
      "fix_committed   = 2\n",
      "fix_released    = 1\n",
      "\n",
      "Same: by_design is wont_fix:  True\n",
      "Same: closed is fix_released:  True\n"
     ]
    }
   ],
   "source": [
    "# CODE LIST 2-5\n",
    "import enum\n",
    "\n",
    "class BugStatus(enum.Enum):\n",
    "\n",
    "    new = 7\n",
    "    incomplete = 6\n",
    "    invalid = 5\n",
    "    wont_fix = 4\n",
    "    in_progress = 3\n",
    "    fix_committed = 2\n",
    "    fix_released = 1\n",
    "\n",
    "    by_design = 4\n",
    "    closed = 1\n",
    "\n",
    "for status in BugStatus:\n",
    "    print('{:15} = {}'.format(status.name, status.value))\n",
    "\n",
    "print('\\nSame: by_design is wont_fix: ',\n",
    "      BugStatus.by_design is BugStatus.wont_fix)\n",
    "print('Same: closed is fix_released: ',\n",
    "      BugStatus.closed is BugStatus.fix_released)"
   ]
  },
  {
   "cell_type": "code",
   "execution_count": null,
   "metadata": {},
   "outputs": [],
   "source": [
    "# CODE LIST 2-6\n",
    "import enum\n",
    "\n",
    "@enum.unique\n",
    "class BugStatus(enum.Enum):\n",
    "\n",
    "    new = 7\n",
    "    incomplete = 6\n",
    "    invalid = 5\n",
    "    wont_fix = 4\n",
    "    in_progress = 3\n",
    "    fix_committed = 2\n",
    "    fix_released = 1\n",
    "\n",
    "    # This will trigger an error with unique applied.\n",
    "    by_design = 4\n",
    "    closed = 1"
   ]
  },
  {
   "cell_type": "markdown",
   "metadata": {},
   "source": [
    "## 2.1.5 Creating Enumerations Programmatically\n",
    "\n",
    "（此段为猜测）*value* 参数是枚举名，是打印成员时 classname.keyname 中的 classname。<br>\n",
    "之前的构造方法下 与类名相同。不同的情况下不能用枚举名替代类名来 引用成员。\n",
    "\n",
    "*names* 参数列出枚举的成员。传递单个字符串时，会按照**空白符和逗号**拆分。<br>\n",
    "所得到的 *token* 会被用做成员名。成员会**自动 从1开始 赋值**。\n",
    "\n",
    "控制成员值：将 names 字符串替换为 由两部分元组构成的**序列** 或者 将名映射到值的**字典**。\n"
   ]
  },
  {
   "cell_type": "code",
   "execution_count": 50,
   "metadata": {},
   "outputs": [
    {
     "name": "stdout",
     "output_type": "stream",
     "text": [
      "Member: BugStatus2.new\n",
      "\n",
      "All members:\n",
      "fix_released    = 1\n",
      "fix_committed   = 2\n",
      "in_progress     = 3\n",
      "wont_fix        = 4\n",
      "invalid         = 5\n",
      "incomplete      = 6\n",
      "new             = 7\n"
     ]
    }
   ],
   "source": [
    "# CODE LIST 2-7\n",
    "import enum\n",
    "\n",
    "BugStatus = enum.Enum(\n",
    "    value='BugStatus2',\n",
    "    names=('fix_released fix_committed in_progress '\n",
    "           'wont_fix invalid incomplete new'),\n",
    ")\n",
    "\n",
    "print('Member: {}'.format(BugStatus.new)) # Member: BugStatus2.new\n",
    "# 但是 print(BugStatus2.new) 是非法的\n",
    "\n",
    "print('\\nAll members:')\n",
    "for status in BugStatus:\n",
    "    print('{:15} = {}'.format(status.name, status.value))"
   ]
  },
  {
   "cell_type": "code",
   "execution_count": 42,
   "metadata": {},
   "outputs": [
    {
     "name": "stdout",
     "output_type": "stream",
     "text": [
      "All members:\n",
      "new             = 7\n",
      "incomplete      = 6\n",
      "invalid         = 5\n",
      "wont_fix        = 4\n",
      "in_progress     = 3\n",
      "fix_committed   = 2\n",
      "fix_released    = 1\n"
     ]
    }
   ],
   "source": [
    "# CODE LIST 2-8\n",
    "import enum\n",
    "\n",
    "BugStatus = enum.Enum(\n",
    "    value='BugStatus',\n",
    "    names=[\n",
    "        ('new', 7),\n",
    "        ('incomplete', 6),\n",
    "        ('invalid', 5),\n",
    "        ('wont_fix', 4),\n",
    "        ('in_progress', 3),\n",
    "        ('fix_committed', 2),\n",
    "        ('fix_released', 1),\n",
    "    ],\n",
    ")\n",
    "\n",
    "print('All members:')\n",
    "for status in BugStatus:\n",
    "    print('{:15} = {}'.format(status.name, status.value))"
   ]
  },
  {
   "cell_type": "markdown",
   "metadata": {},
   "source": [
    "## 2.1.6  非整数成员值\n",
    "\n",
    "任何类型的对象都可以与成员关联。若值为一个元组，成员会作为单个参数传递到 *__init__( )*"
   ]
  },
  {
   "cell_type": "code",
   "execution_count": 54,
   "metadata": {},
   "outputs": [
    {
     "name": "stdout",
     "output_type": "stream",
     "text": [
      "Name: BugStatus.in_progress\n",
      "Value: (3, ['new', 'fix_committed'])\n",
      "Custom attribute: ['new', 'fix_committed']\n",
      "Using attribute: True\n"
     ]
    }
   ],
   "source": [
    "# CODE LIST 2-9\n",
    "# 本例中成员值元组包括：数值ID 和 从当前状态迁移的一个合法变迁列表\n",
    "import enum\n",
    "\n",
    "class BugStatus(enum.Enum):\n",
    "\n",
    "    new = (7, ['incomplete',\n",
    "               'invalid',\n",
    "               'wont_fix',\n",
    "               'in_progress'])\n",
    "    incomplete = (6, ['new', 'wont_fix'])\n",
    "    invalid = (5, ['new'])\n",
    "    wont_fix = (4, ['new'])\n",
    "    in_progress = (3, ['new', 'fix_committed'])\n",
    "    fix_committed = (2, ['in_progress', 'fix_released'])\n",
    "    fix_released = (1, ['new'])\n",
    "\n",
    "    def __init__(self, num, transitions):\n",
    "        self.num = num\n",
    "        self.transitions = transitions\n",
    "\n",
    "    def can_transition(self, new_state):\n",
    "        return new_state.name in self.transitions\n",
    "\n",
    "print('Name:', BugStatus.in_progress)\n",
    "print('Value:', BugStatus.in_progress.value)\n",
    "print('Custom attribute:', BugStatus.in_progress.transitions)\n",
    "print('Using attribute:',\n",
    "      BugStatus.in_progress.can_transition(BugStatus.new)) # 判断 .new 是否位于 in_progress 的合法变迁列表中"
   ]
  },
  {
   "cell_type": "code",
   "execution_count": 53,
   "metadata": {},
   "outputs": [
    {
     "name": "stdout",
     "output_type": "stream",
     "text": [
      "Name: BugStatus.in_progress\n",
      "Value: {'num': 3, 'transitions': ['new', 'fix_committed']}\n",
      "Custom attribute: ['new', 'fix_committed']\n",
      "Using attribute: True\n"
     ]
    }
   ],
   "source": [
    "# CODE LIST 2-10\n",
    "# 更复杂的情况，使用字典以使每个成员值能跟踪大量单独的属性\n",
    "import enum\n",
    "\n",
    "class BugStatus(enum.Enum):\n",
    "\n",
    "    new = {\n",
    "        'num': 7,\n",
    "        'transitions': [\n",
    "            'incomplete',\n",
    "            'invalid',\n",
    "            'wont_fix',\n",
    "            'in_progress',\n",
    "        ],\n",
    "    }\n",
    "    incomplete = {\n",
    "        'num': 6,\n",
    "        'transitions': ['new', 'wont_fix'],\n",
    "    }\n",
    "    invalid = {\n",
    "        'num': 5,\n",
    "        'transitions': ['new'],\n",
    "    }\n",
    "    wont_fix = {\n",
    "        'num': 4,\n",
    "        'transitions': ['new'],\n",
    "    }\n",
    "    in_progress = {\n",
    "        'num': 3,\n",
    "        'transitions': ['new', 'fix_committed'],\n",
    "    }\n",
    "    fix_committed = {\n",
    "        'num': 2,\n",
    "        'transitions': ['in_progress', 'fix_released'],\n",
    "    }\n",
    "    fix_released = {\n",
    "        'num': 1,\n",
    "        'transitions': ['new'],\n",
    "    }\n",
    "\n",
    "    def __init__(self, vals):\n",
    "        self.num = vals['num']\n",
    "        self.transitions = vals['transitions']\n",
    "\n",
    "    def can_transition(self, new_state):\n",
    "        return new_state.name in self.transitions\n",
    "\n",
    "print('Name:', BugStatus.in_progress)\n",
    "print('Value:', BugStatus.in_progress.value)\n",
    "print('Custom attribute:', BugStatus.in_progress.transitions)\n",
    "print('Using attribute:',\n",
    "      BugStatus.in_progress.can_transition(BugStatus.new))"
   ]
  }
 ],
 "metadata": {
  "interpreter": {
   "hash": "687d78340220d86234540234f2dddb05cc2a368e2fe8eb7ed5800ac5a3920935"
  },
  "kernelspec": {
   "display_name": "Python 3.7.11 ('myenv')",
   "language": "python",
   "name": "python3"
  },
  "language_info": {
   "codemirror_mode": {
    "name": "ipython",
    "version": 3
   },
   "file_extension": ".py",
   "mimetype": "text/x-python",
   "name": "python",
   "nbconvert_exporter": "python",
   "pygments_lexer": "ipython3",
   "version": "3.7.11"
  },
  "orig_nbformat": 4
 },
 "nbformat": 4,
 "nbformat_minor": 2
}
