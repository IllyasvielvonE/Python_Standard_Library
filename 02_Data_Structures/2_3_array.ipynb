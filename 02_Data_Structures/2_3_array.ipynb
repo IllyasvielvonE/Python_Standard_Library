{
 "cells": [
  {
   "cell_type": "markdown",
   "metadata": {},
   "source": [
    "2.3 Array: Sequence of Fixed-Type Data\n",
    "\n",
    "Different from: ***numpy.array***\n",
    "\n",
    "**《这一节没有细看》**\n",
    "\n",
    "和list不同，所有成员都必须是相同的基本类型。<br>![](./array_type_codes.png)"
   ]
  },
  {
   "cell_type": "markdown",
   "metadata": {},
   "source": [
    "## 2.3.1 Initialisation\n",
    "\n"
   ]
  },
  {
   "cell_type": "code",
   "execution_count": 2,
   "metadata": {},
   "outputs": [
    {
     "name": "stdout",
     "output_type": "stream",
     "text": [
      "As byte string: b'This is the array.'\n",
      "As array      : array('b', [84, 104, 105, 115, 32, 105, 115, 32, 116, 104, 101, 32, 97, 114, 114, 97, 121, 46])\n",
      "As hex        : b'54686973206973207468652061727261792e'\n"
     ]
    }
   ],
   "source": [
    "# CODE LIST 2-41\n",
    "import array\n",
    "import binascii\n",
    "\n",
    "s = b'This is the array.'\n",
    "a = array.array('b', s)\n",
    "\n",
    "print('As byte string:', s)\n",
    "print('As array      :', a)\n",
    "print('As hex        :', binascii.hexlify(a))"
   ]
  },
  {
   "cell_type": "markdown",
   "metadata": {},
   "source": [
    "## 2.3.2 Manipulating Arrays / 处理数组\n",
    "\n",
    "和其他序列类似，可以采用同样的方式扩展和处理。<br>\n",
    "--分片、迭代、末尾增加元素"
   ]
  },
  {
   "cell_type": "code",
   "execution_count": 8,
   "metadata": {},
   "outputs": [
    {
     "name": "stdout",
     "output_type": "stream",
     "text": [
      "Initial : array('i', [0, 1, 2])\n",
      "Extended: array('i', [0, 1, 2, 0, 1, 2])\n",
      "Slice   : array('i', [2, 0, 1])\n",
      "Iterator:\n",
      "[(0, 0), (1, 1), (2, 2), (3, 0), (4, 1), (5, 2)]\n"
     ]
    }
   ],
   "source": [
    "# CODE LIST 2-42\n",
    "import array\n",
    "import pprint\n",
    "\n",
    "a = array.array('i', range(3))\n",
    "print('Initial :', a)\n",
    "\n",
    "a.extend(range(3))\n",
    "print('Extended:', a)\n",
    "\n",
    "print('Slice   :', a[2:5])\n",
    "\n",
    "print('Iterator:')\n",
    "print(list(enumerate(a)))"
   ]
  },
  {
   "cell_type": "markdown",
   "metadata": {},
   "source": [
    "## 2.3.3 Arrays and Files\n",
    "\n",
    "内置的读写文件方法"
   ]
  },
  {
   "cell_type": "code",
   "execution_count": null,
   "metadata": {},
   "outputs": [],
   "source": [
    "# CODE LIST 2-43\n",
    "import array\n",
    "import binascii\n",
    "import tempfile\n",
    "\n",
    "a = array.array('i', range(5))\n",
    "print('A1:', a)\n",
    "\n",
    "# Write the array of numbers to a temporary file\n",
    "output = tempfile.NamedTemporaryFile()\n",
    "a.tofile(output.file)  # must pass an *actual* file\n",
    "output.flush()\n",
    "\n",
    "# Read the raw data\n",
    "with open(output.name, 'rb') as input:\n",
    "    raw_data = input.read()\n",
    "    print('Raw Contents:', binascii.hexlify(raw_data))\n",
    "\n",
    "    # Read the data into an array\n",
    "    input.seek(0)\n",
    "    a2 = array.array('i')\n",
    "    a2.fromfile(input, len(a))\n",
    "    print('A2:', a2)\n",
    "\n",
    "# A1: array('i', [0, 1, 2, 3, 4])\n",
    "# Raw Contents: b'0000000001000000020000000300000004000000'\n",
    "# A2: array('i', [0, 1, 2, 3, 4])\n",
    "\n",
    "# PermissionError: [Errno 13] Permission denied: '...'\n",
    "# 保存原因是没有写入权限，将'...'地址的文件夹属性 只读 选项取消勾选即可。"
   ]
  },
  {
   "cell_type": "code",
   "execution_count": 13,
   "metadata": {},
   "outputs": [
    {
     "name": "stdout",
     "output_type": "stream",
     "text": [
      "A1: array('i', [0, 1, 2, 3, 4])\n",
      "Bytes: b'0000000001000000020000000300000004000000'\n",
      "A2: array('i', [0, 1, 2, 3, 4])\n"
     ]
    }
   ],
   "source": [
    "# CODE LIST 2-44\n",
    "import array\n",
    "import binascii\n",
    "\n",
    "a = array.array('i', range(5))\n",
    "print('A1:', a)\n",
    "\n",
    "as_bytes = a.tobytes()\n",
    "print('Bytes:', binascii.hexlify(as_bytes))\n",
    "\n",
    "a2 = array.array('i')\n",
    "a2.frombytes(as_bytes)\n",
    "print('A2:', a2)"
   ]
  },
  {
   "cell_type": "markdown",
   "metadata": {},
   "source": [
    "## 2.3.4 Alternative Byte Ordering\n"
   ]
  },
  {
   "cell_type": "code",
   "execution_count": 3,
   "metadata": {},
   "outputs": [
    {
     "name": "stdout",
     "output_type": "stream",
     "text": [
      "      A1 hex           A1       A2 hex           A2\n",
      "------------ ------------ ------------ ------------\n",
      " b'78563412'    305419896  b'12345678'   2018915346\n",
      " b'79563412'    305419897  b'12345679'   2035692562\n",
      " b'7a563412'    305419898  b'1234567a'   2052469778\n",
      " b'7b563412'    305419899  b'1234567b'   2069246994\n",
      " b'7c563412'    305419900  b'1234567c'   2086024210\n"
     ]
    }
   ],
   "source": [
    "# CODE LIST 2-45\n",
    "import array\n",
    "import binascii\n",
    "\n",
    "\n",
    "def to_hex(a):\n",
    "    chars_per_item = a.itemsize * 2  # 2 hex digits\n",
    "    hex_version = binascii.hexlify(a)\n",
    "    num_chunks = len(hex_version) // chars_per_item\n",
    "    for i in range(num_chunks):\n",
    "        start = i * chars_per_item\n",
    "        end = start + chars_per_item\n",
    "        yield hex_version[start:end]\n",
    "\n",
    "\n",
    "start = int('0x12345678', 16)\n",
    "end = start + 5\n",
    "a1 = array.array('i', range(start, end))\n",
    "a2 = array.array('i', range(start, end))\n",
    "a2.byteswap()\n",
    "\n",
    "fmt = '{:>12} {:>12} {:>12} {:>12}'\n",
    "print(fmt.format('A1 hex', 'A1', 'A2 hex', 'A2'))\n",
    "print(fmt.format('-' * 12, '-' * 12, '-' * 12, '-' * 12))\n",
    "fmt = '{!r:>12} {:12} {!r:>12} {:12}'\n",
    "for values in zip(to_hex(a1), a1, to_hex(a2), a2):\n",
    "    print(fmt.format(*values))"
   ]
  }
 ],
 "metadata": {
  "interpreter": {
   "hash": "687d78340220d86234540234f2dddb05cc2a368e2fe8eb7ed5800ac5a3920935"
  },
  "kernelspec": {
   "display_name": "Python 3.7.11 ('myenv')",
   "language": "python",
   "name": "python3"
  },
  "language_info": {
   "codemirror_mode": {
    "name": "ipython",
    "version": 3
   },
   "file_extension": ".py",
   "mimetype": "text/x-python",
   "name": "python",
   "nbconvert_exporter": "python",
   "pygments_lexer": "ipython3",
   "version": "3.7.11"
  },
  "orig_nbformat": 4
 },
 "nbformat": 4,
 "nbformat_minor": 2
}
