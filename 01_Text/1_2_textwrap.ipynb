{
 "cells": [
  {
   "cell_type": "markdown",
   "metadata": {},
   "source": [
    "## 1.2 textwrap: 格式化文本段落"
   ]
  },
  {
   "cell_type": "markdown",
   "metadata": {},
   "source": [
    "利用textwrap模块，进行 pretty-printing\n",
    "\n",
    "注：`wrap`: 换行。 \n",
    "<br>The text wraps around if it is too long to fit the screen.\n",
    "<br>如果文本太长，在显示屏放不下的话，会自动换行。"
   ]
  },
  {
   "cell_type": "markdown",
   "metadata": {},
   "source": [
    "### 1.2.1 本节使用的sample_text **:**"
   ]
  },
  {
   "cell_type": "code",
   "execution_count": 1,
   "metadata": {},
   "outputs": [
    {
     "name": "stdout",
     "output_type": "stream",
     "text": [
      "\n",
      "    The textwrap module can be used to format text for output in\n",
      "    situations where pretty-printing is desired.  It offers\n",
      "    programmatic functionality similar to the paragraph wrapping\n",
      "    or filling features found in many text editors.\n",
      "    \n"
     ]
    }
   ],
   "source": [
    "# CODE LIST 1-8\n",
    "sample_text = '''\n",
    "    The textwrap module can be used to format text for output in\n",
    "    situations where pretty-printing is desired.  It offers\n",
    "    programmatic functionality similar to the paragraph wrapping\n",
    "    or filling features found in many text editors.\n",
    "    '''\n",
    "print(sample_text)"
   ]
  },
  {
   "cell_type": "markdown",
   "metadata": {},
   "source": [
    "### 1.2.2 填充段落"
   ]
  },
  {
   "cell_type": "markdown",
   "metadata": {},
   "source": [
    "**.fill()** 方法的结果能让文本左对齐；\n",
    "\n",
    "但是定义sample_text中缩进的部分，只有第一行保留了缩进，其余以空格形式镶嵌在了文本中，不够美观。"
   ]
  },
  {
   "cell_type": "code",
   "execution_count": 3,
   "metadata": {},
   "outputs": [
    {
     "name": "stdout",
     "output_type": "stream",
     "text": [
      "     The textwrap module can be used to format\n",
      "text for output in     situations where pretty-\n",
      "printing is desired.  It offers     programmatic\n",
      "functionality similar to the paragraph wrapping\n",
      "or filling features found in many text editors.\n"
     ]
    }
   ],
   "source": [
    "# CODE LIST 1-9\n",
    "# textwrap.fill() 方法， width控制输入文本的单行长度\n",
    "import textwrap\n",
    "from textwrap_example import sample_text\n",
    "\n",
    "print(textwrap.fill(sample_text, width=50))\n",
    "# print(textwrap.fill(sample_text, width=100))"
   ]
  },
  {
   "cell_type": "markdown",
   "metadata": {},
   "source": [
    "### 1.2.3 去除现有的缩进"
   ]
  },
  {
   "cell_type": "markdown",
   "metadata": {},
   "source": [
    "`indent`: 缩进 ==> `detent`: 去除缩进（新造词）\n",
    "\n",
    "但这个方法删去的空格数是所有行的头部空格数的最小值（见案例）。"
   ]
  },
  {
   "cell_type": "code",
   "execution_count": null,
   "metadata": {},
   "outputs": [
    {
     "name": "stdout",
     "output_type": "stream",
     "text": [
      "Dedented:\n",
      "\n",
      "The textwrap module can be used to format text for output in\n",
      "situations where pretty-printing is desired.  It offers\n",
      "programmatic functionality similar to the paragraph wrapping\n",
      "or filling features found in many text editors.\n",
      "\n"
     ]
    }
   ],
   "source": [
    "# CODE LIST 1-10\n",
    "# .detent()\n",
    "import textwrap\n",
    "from textwrap_example import sample_text\n",
    "\n",
    "dedented_text = textwrap.dedent(sample_text)\n",
    "print('Dedented:')\n",
    "print(dedented_text)"
   ]
  },
  {
   "cell_type": "code",
   "execution_count": null,
   "metadata": {},
   "outputs": [
    {
     "name": "stdout",
     "output_type": "stream",
     "text": [
      "\n",
      " Erdtree Sentinent(2)\n",
      "Marika the Eternal(1)\n",
      "  Kirisame Marisa(3)\n",
      "\n"
     ]
    }
   ],
   "source": [
    "# 下面例子中，dedent去除共有空格最小值，一个空格\n",
    "sample_text2 = \"\"\"\n",
    "  Erdtree Sentinent(2)\n",
    " Marika the Eternal(1)\n",
    "   Kirisame Marisa(3)\n",
    "\"\"\"\n",
    "dedented_text2 = textwrap.dedent(sample_text2)\n",
    "print(dedented_text2)"
   ]
  },
  {
   "cell_type": "markdown",
   "metadata": {},
   "source": [
    "### 1.2.4 结合 dedent 和 fill"
   ]
  },
  {
   "cell_type": "markdown",
   "metadata": {},
   "source": []
  },
  {
   "cell_type": "code",
   "execution_count": null,
   "metadata": {},
   "outputs": [
    {
     "name": "stdout",
     "output_type": "stream",
     "text": [
      "45 Columns:\n",
      "\n",
      "The textwrap module can be used to format\n",
      "text for output in situations where pretty-\n",
      "printing is desired.  It offers programmatic\n",
      "functionality similar to the paragraph\n",
      "wrapping or filling features found in many\n",
      "text editors.\n",
      "\n",
      "60 Columns:\n",
      "\n",
      "The textwrap module can be used to format text for output in\n",
      "situations where pretty-printing is desired.  It offers\n",
      "programmatic functionality similar to the paragraph wrapping\n",
      "or filling features found in many text editors.\n",
      "\n"
     ]
    }
   ],
   "source": [
    "# CODE LIST 1-11\n",
    "import textwrap\n",
    "from textwrap_example import sample_text\n",
    "\n",
    "dedented_text = textwrap.dedent(sample_text).strip()\n",
    "for width in [45, 60]:\n",
    "    print('{} Columns:\\n'.format(width))\n",
    "    print(textwrap.fill(dedented_text, width=width))\n",
    "    print()"
   ]
  },
  {
   "cell_type": "markdown",
   "metadata": {},
   "source": [
    "### 1.2.5 缩进块（正则表达式含）"
   ]
  },
  {
   "cell_type": "markdown",
   "metadata": {},
   "source": [
    "使用 **.indent(text, prefix)** 为字符串中所有行增加相同的前缀。\n",
    "\n",
    "**+=**: 在字符串末尾添加字符。\n",
    "<br> [Sanko: 字符串运算](https://blog.csdn.net/chenlunju/article/details/85413074)"
   ]
  },
  {
   "cell_type": "code",
   "execution_count": 5,
   "metadata": {},
   "outputs": [
    {
     "name": "stdout",
     "output_type": "stream",
     "text": [
      "Quoted block:\n",
      "\n",
      ">  The textwrap module can be used to format text\n",
      "> for output in situations where pretty-printing is\n",
      "> desired.  It offers programmatic functionality\n",
      "> similar to the paragraph wrapping or filling\n",
      "> features found in many text editors.\n",
      "\n",
      "> Second paragraph after a blank line.\n"
     ]
    }
   ],
   "source": [
    "# CODE LIST 1-12\n",
    "import textwrap\n",
    "from textwrap_example import sample_text\n",
    "\n",
    "dedented_text = textwrap.dedent(sample_text)\n",
    "wrapped = textwrap.fill(dedented_text, width=50)\n",
    "wrapped += '\\n\\nSecond paragraph after a blank line.'\n",
    "final = textwrap.indent(wrapped, '> ')\n",
    "\n",
    "print('Quoted block:\\n')\n",
    "print(final)\n"
   ]
  },
  {
   "cell_type": "code",
   "execution_count": null,
   "metadata": {},
   "outputs": [
    {
     "name": "stdout",
     "output_type": "stream",
     "text": [
      "Indent ' The textwrap module can be used to format text\\n'?\n",
      "Indent 'for output in situations where pretty-printing is\\n'?\n",
      "Indent 'desired.  It offers programmatic functionality\\n'?\n",
      "Indent 'similar to the paragraph wrapping or filling\\n'?\n",
      "Indent 'features found in many text editors.'?\n",
      "\n",
      "Quoted block:\n",
      "\n",
      "EVEN  The textwrap module can be used to format text\n",
      "for output in situations where pretty-printing is\n",
      "EVEN desired.  It offers programmatic functionality\n",
      "EVEN similar to the paragraph wrapping or filling\n",
      "EVEN features found in many text editors.\n"
     ]
    }
   ],
   "source": [
    "# CODE LIST 1-13\n",
    "import textwrap\n",
    "from textwrap_example import sample_text\n",
    "\n",
    "\n",
    "def should_indent(line):\n",
    "    print('Indent {!r}?'.format(line))\n",
    "    return len(line.strip()) % 2 == 0\n",
    "\n",
    "\n",
    "dedented_text = textwrap.dedent(sample_text)\n",
    "wrapped = textwrap.fill(dedented_text, width=50)\n",
    "final = textwrap.indent(wrapped, 'EVEN ',\n",
    "                        predicate=should_indent)\n",
    "\n",
    "print('\\nQuoted block:\\n')\n",
    "print(final)\n"
   ]
  },
  {
   "cell_type": "markdown",
   "metadata": {},
   "source": [
    "### 1.2.6 悬挂缩进"
   ]
  },
  {
   "cell_type": "markdown",
   "metadata": {},
   "source": []
  },
  {
   "cell_type": "markdown",
   "metadata": {},
   "source": [
    "### 1.2.7 截断长文本"
   ]
  }
 ],
 "metadata": {
  "interpreter": {
   "hash": "687d78340220d86234540234f2dddb05cc2a368e2fe8eb7ed5800ac5a3920935"
  },
  "kernelspec": {
   "display_name": "Python 3.7.11 ('myenv')",
   "language": "python",
   "name": "python3"
  },
  "language_info": {
   "codemirror_mode": {
    "name": "ipython",
    "version": 3
   },
   "file_extension": ".py",
   "mimetype": "text/x-python",
   "name": "python",
   "nbconvert_exporter": "python",
   "pygments_lexer": "ipython3",
   "version": "3.7.11"
  },
  "orig_nbformat": 4
 },
 "nbformat": 4,
 "nbformat_minor": 2
}
