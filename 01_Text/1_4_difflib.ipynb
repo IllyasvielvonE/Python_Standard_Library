{
 "cells": [
  {
   "cell_type": "code",
   "execution_count": null,
   "metadata": {},
   "outputs": [],
   "source": []
  },
  {
   "cell_type": "markdown",
   "metadata": {},
   "source": [
    "# ***difflib***  --  Helpers for computing deltas\n",
    "\n",
    ">（摘自官方文档）此模块提供用于比较序列的类和函数。 例如，它可被用于比较文件，并可产生多种格式的不同文件差异信息，包括 HTML 和上下文以及统一的 diff 数据。 有关比较目录和文件，另请参阅 filecmp 模块。"
   ]
  },
  {
   "cell_type": "code",
   "execution_count": 3,
   "metadata": {},
   "outputs": [
    {
     "data": {
      "text/plain": [
       "'Data for use with difflib examples.\\n'"
      ]
     },
     "execution_count": 3,
     "metadata": {},
     "output_type": "execute_result"
    }
   ],
   "source": [
    "# CODE LIST 1-63\n",
    "\"\"\"Data for use with difflib examples.\n",
    "\"\"\"\n",
    "\n",
    "# see 'difflib_data.py'"
   ]
  },
  {
   "cell_type": "markdown",
   "metadata": {},
   "source": [
    "## 1.4.1 比较文本体\n",
    "\n",
    "- ***Differ*** 类\n",
    "- ***unified_diff( )***"
   ]
  },
  {
   "cell_type": "markdown",
   "metadata": {},
   "source": [
    "*difflib.Differ().compare( text1, text2 )* \n",
    "\n",
    "生成人类可读的差异(deltas)。行前缀 ***\"- + ?\"*** 分别指示 *text1, text2* 中的文本行，以及差异。"
   ]
  },
  {
   "cell_type": "code",
   "execution_count": 9,
   "metadata": {},
   "outputs": [
    {
     "name": "stdout",
     "output_type": "stream",
     "text": [
      "  Lorem ipsum dolor sit amet, consectetuer adipiscing\n",
      "  elit. Integer eu lacus accumsan arcu fermentum euismod. Donec\n",
      "- pulvinar porttitor tellus. Aliquam venenatis. Donec facilisis\n",
      "+ pulvinar, porttitor tellus. Aliquam venenatis. Donec facilisis\n",
      "?         +\n",
      "\n",
      "- pharetra tortor.  In nec mauris eget magna consequat\n",
      "?                 -\n",
      "\n",
      "+ pharetra tortor. In nec mauris eget magna consequat\n",
      "- convalis. Nam sed sem vitae odio pellentesque interdum. Sed\n",
      "?                 - --\n",
      "\n",
      "+ convalis. Nam cras vitae mi vitae odio pellentesque interdum. Sed\n",
      "?               +++ +++++   +\n",
      "\n",
      "  consequat viverra nisl. Suspendisse arcu metus, blandit quis,\n",
      "  rhoncus ac, pharetra eget, velit. Mauris urna. Morbi nonummy\n",
      "  molestie orci. Praesent nisi elit, fringilla ac, suscipit non,\n",
      "  tristique vel, mauris. Curabitur vel lorem id nisl porta\n",
      "- adipiscing. Suspendisse eu lectus. In nunc. Duis vulputate\n",
      "- tristique enim. Donec quis lectus a justo imperdiet tempus.\n",
      "+ adipiscing. Duis vulputate tristique enim. Donec quis lectus a\n",
      "+ justo imperdiet tempus.  Suspendisse eu lectus. In nunc.\n"
     ]
    }
   ],
   "source": [
    "# CODE LIST 1-64\n",
    "import difflib\n",
    "from difflib_data import *\n",
    "\n",
    "d = difflib.Differ()\n",
    "diff = d.compare(text1_lines, text2_lines)\n",
    "# or: diff = difflibe.Differ().compare(..., ...)\n",
    "print('\\n'.join(diff))\n",
    "# .compare()返回一个 generator，下述方法打印结果相同\n",
    "# while True:\n",
    "#     try:\n",
    "#         print(next(diff))\n",
    "#     except:\n",
    "#         break\n"
   ]
  },
  {
   "cell_type": "markdown",
   "metadata": {},
   "source": [
    "统一差异格式( *unified diff* ) 只包含含有修改的文本行和一些上下文"
   ]
  },
  {
   "cell_type": "code",
   "execution_count": 12,
   "metadata": {},
   "outputs": [
    {
     "name": "stdout",
     "output_type": "stream",
     "text": [
      "--- \n",
      "+++ \n",
      "@@ -1,11 +1,11 @@\n",
      " Lorem ipsum dolor sit amet, consectetuer adipiscing\n",
      " elit. Integer eu lacus accumsan arcu fermentum euismod. Donec\n",
      "-pulvinar porttitor tellus. Aliquam venenatis. Donec facilisis\n",
      "-pharetra tortor.  In nec mauris eget magna consequat\n",
      "-convalis. Nam sed sem vitae odio pellentesque interdum. Sed\n",
      "+pulvinar, porttitor tellus. Aliquam venenatis. Donec facilisis\n",
      "+pharetra tortor. In nec mauris eget magna consequat\n",
      "+convalis. Nam cras vitae mi vitae odio pellentesque interdum. Sed\n",
      " consequat viverra nisl. Suspendisse arcu metus, blandit quis,\n",
      " rhoncus ac, pharetra eget, velit. Mauris urna. Morbi nonummy\n",
      " molestie orci. Praesent nisi elit, fringilla ac, suscipit non,\n",
      " tristique vel, mauris. Curabitur vel lorem id nisl porta\n",
      "-adipiscing. Suspendisse eu lectus. In nunc. Duis vulputate\n",
      "-tristique enim. Donec quis lectus a justo imperdiet tempus.\n",
      "+adipiscing. Duis vulputate tristique enim. Donec quis lectus a\n",
      "+justo imperdiet tempus.  Suspendisse eu lectus. In nunc.\n"
     ]
    }
   ],
   "source": [
    "# CODE LIST 1-65\n",
    "import difflib\n",
    "from difflib_data import *\n",
    "\n",
    "diff = difflib.unified_diff(\n",
    "    text1_lines,\n",
    "    text2_lines,\n",
    "    lineterm='',\n",
    ")\n",
    "print('\\n'.join(diff))"
   ]
  },
  {
   "cell_type": "markdown",
   "metadata": {},
   "source": [
    "## 1.4.2 无用数据\n",
    "\n",
    "- ***SequenceMatcher*** 类\n",
    "\n",
    "有点难懂，建议参考 blog：\n",
    "\n",
    "> [文本相似度-python之difflib库SequenceMatcher类](https://blog.csdn.net/minosisterry/article/details/117028761)"
   ]
  },
  {
   "cell_type": "markdown",
   "metadata": {},
   "source": [
    "在比较差异中，有时需要忽略一些字符（如制表符、空格等）。"
   ]
  },
  {
   "cell_type": "code",
   "execution_count": 14,
   "metadata": {},
   "outputs": [
    {
     "name": "stdout",
     "output_type": "stream",
     "text": [
      "A = ' abcd'\n",
      "B = 'abcd abcd'\n",
      "\n",
      "Without junk detection:\n",
      "  a    = 0\n",
      "  b    = 4\n",
      "  size = 5\n",
      "  A[a:a+size] = ' abcd'\n",
      "  B[b:b+size] = ' abcd'\n",
      "\n",
      "Treat spaces as junk:\n",
      "  a    = 1\n",
      "  b    = 0\n",
      "  size = 4\n",
      "  A[a:a+size] = 'abcd'\n",
      "  B[b:b+size] = 'abcd'\n"
     ]
    }
   ],
   "source": [
    "# CODE LIST 1-66\n",
    "from difflib import SequenceMatcher\n",
    "\n",
    "\n",
    "def show_results(match):\n",
    "    print('  a    = {}'.format(match.a))\n",
    "    print('  b    = {}'.format(match.b))\n",
    "    print('  size = {}'.format(match.size))\n",
    "    i, j, k = match\n",
    "    print('  A[a:a+size] = {!r}'.format(A[i:i + k]))\n",
    "    print('  B[b:b+size] = {!r}'.format(B[j:j + k]))\n",
    "\n",
    "\n",
    "A = \" abcd\"\n",
    "B = \"abcd abcd\"\n",
    "\n",
    "print('A = {!r}'.format(A))\n",
    "print('B = {!r}'.format(B))\n",
    "\n",
    "# 构造函数：SequenceMatcher(isjunk=None, a='', b='', autojunk=True)\n",
    "#   生成一个\"比较器\"\n",
    "# .find_longest_match(alo=0, ahi=None, blo=0, bhi=None)\n",
    "#   返回一个 match 结果：对于所有最长匹配块，返回在a中出现的第一个；对于a中出现的所有最长匹配块，返回b中出现的第一个\n",
    "#   alo,ali 指定位置范围，范围值 match.a, match.b, match.size 分别为匹配块的起始位置以及匹配长度\n",
    "\n",
    "print('\\nWithout junk detection:')\n",
    "s1 = SequenceMatcher(None, A, B) # None 则表示不忽略任何值，相当于 lambda x: False\n",
    "match1 = s1.find_longest_match(0, len(A), 0, len(B))\n",
    "show_results(match1)\n",
    "\n",
    "print('\\nTreat spaces as junk:')\n",
    "s2 = SequenceMatcher(lambda x: x == \" \", A, B) # 忽略空格\n",
    "match2 = s2.find_longest_match(0, len(A), 0, len(B))\n",
    "show_results(match2)"
   ]
  },
  {
   "cell_type": "markdown",
   "metadata": {},
   "source": [
    "## 1.4.3 比较任意类型\n",
    "\n",
    "- ***SequenceMatcher***"
   ]
  },
  {
   "cell_type": "markdown",
   "metadata": {},
   "source": [
    "SequenceMatcher 类可以比较任意《值是可散列的》类型的两个序列。通过一个算法标识序列中最长的连续匹配块，并删除无用值。\n",
    "\n",
    "***get_opcodes*** 函数返回一个指令列表以修改第一个序列，使之与第二个序列匹配。<br>\n",
    "**(tag, i1, i2, j1, j2)** 分别为 **操作码** 和 序列的两对开始及结束索引\n",
    "\n",
    "|操作码|定义|\n",
    "|:---:|:---:|\n",
    "|'replace'|将a[i1:i2]替换为b[j1:j2]|\n",
    "|'delete'|将a[i1:i2]删除|\n",
    "|'insert'|于a[i1:i1]处插入b[j1:j2]|\n",
    "|'equal'|两个序列已经相等|\n",
    "\n",
    "***reversed( )***\n",
    "\n",
    "注意返回值为一个 **迭代器**\n",
    "```python\n",
    "a = [1,2,3]\n",
    "b = reversed(a)\n",
    "print(type(b),list(b))\n",
    "```"
   ]
  },
  {
   "cell_type": "code",
   "execution_count": 23,
   "metadata": {},
   "outputs": [
    {
     "name": "stdout",
     "output_type": "stream",
     "text": [
      "Initial data:\n",
      "s1 = [1, 2, 3, 5, 6, 4]\n",
      "s2 = [2, 3, 5, 4, 6, 1]\n",
      "s1 == s2: False\n",
      "\n",
      "Replace [4] from s1[5:6] with [1] from s2[5:6]\n",
      "  before = [1, 2, 3, 5, 6, 4]\n",
      "   after = [1, 2, 3, 5, 6, 1] \n",
      "\n",
      "s1[4:5] and s2[4:5] are the same\n",
      "   after = [1, 2, 3, 5, 6, 1] \n",
      "\n",
      "Insert [4] from s2[3:4] into s1 at 4\n",
      "  before = [1, 2, 3, 5, 6, 1]\n",
      "   after = [1, 2, 3, 5, 4, 6, 1] \n",
      "\n",
      "s1[1:4] and s2[0:3] are the same\n",
      "   after = [1, 2, 3, 5, 4, 6, 1] \n",
      "\n",
      "Remove [1] from positions [0:1]\n",
      "  before = [1, 2, 3, 5, 4, 6, 1]\n",
      "   after = [2, 3, 5, 4, 6, 1] \n",
      "\n",
      "s1 == s2: True\n"
     ]
    }
   ],
   "source": [
    "# CODE LIST 1-67\n",
    "import difflib\n",
    "\n",
    "s1 = [1, 2, 3, 5, 6, 4]\n",
    "s2 = [2, 3, 5, 4, 6, 1]\n",
    "\n",
    "print('Initial data:')\n",
    "print('s1 =', s1)\n",
    "print('s2 =', s2)\n",
    "print('s1 == s2:', s1 == s2)\n",
    "print()\n",
    "\n",
    "matcher = difflib.SequenceMatcher(None, s1, s2)\n",
    "for tag, i1, i2, j1, j2 in reversed(matcher.get_opcodes()):\n",
    "\n",
    "    if tag == 'delete':\n",
    "        print('Remove {} from positions [{}:{}]'.format(\n",
    "            s1[i1:i2], i1, i2))\n",
    "        print('  before =', s1)\n",
    "        del s1[i1:i2]\n",
    "\n",
    "    elif tag == 'equal':\n",
    "        print('s1[{}:{}] and s2[{}:{}] are the same'.format(\n",
    "            i1, i2, j1, j2))\n",
    "\n",
    "    elif tag == 'insert':\n",
    "        print('Insert {} from s2[{}:{}] into s1 at {}'.format(\n",
    "            s2[j1:j2], j1, j2, i1))\n",
    "        print('  before =', s1)\n",
    "        s1[i1:i2] = s2[j1:j2]\n",
    "\n",
    "    elif tag == 'replace':\n",
    "        print(('Replace {} from s1[{}:{}] '\n",
    "               'with {} from s2[{}:{}]').format(\n",
    "                   s1[i1:i2], i1, i2, s2[j1:j2], j1, j2))\n",
    "        print('  before =', s1)\n",
    "        s1[i1:i2] = s2[j1:j2]\n",
    "\n",
    "    print('   after =', s1, '\\n')\n",
    "\n",
    "print('s1 == s2:', s1 == s2)"
   ]
  },
  {
   "cell_type": "markdown",
   "metadata": {},
   "source": [
    "## 其他内容\n",
    "\n",
    "- context\n",
    "- html\n",
    "- ndiff"
   ]
  },
  {
   "cell_type": "code",
   "execution_count": 16,
   "metadata": {},
   "outputs": [
    {
     "name": "stdout",
     "output_type": "stream",
     "text": [
      "  Lorem ipsum dolor sit amet, consectetuer adipiscing\n",
      "  elit. Integer eu lacus accumsan arcu fermentum euismod. Donec\n",
      "- pulvinar porttitor tellus. Aliquam venenatis. Donec facilisis\n",
      "+ pulvinar, porttitor tellus. Aliquam venenatis. Donec facilisis\n",
      "?         +\n",
      "\n",
      "- pharetra tortor.  In nec mauris eget magna consequat\n",
      "?                  -\n",
      "\n",
      "+ pharetra tortor. In nec mauris eget magna consequat\n",
      "- convalis. Nam sed sem vitae odio pellentesque interdum. Sed\n",
      "?                ------\n",
      "\n",
      "+ convalis. Nam cras vitae mi vitae odio pellentesque interdum. Sed\n",
      "?               +++        +++++++++\n",
      "\n",
      "  consequat viverra nisl. Suspendisse arcu metus, blandit quis,\n",
      "  rhoncus ac, pharetra eget, velit. Mauris urna. Morbi nonummy\n",
      "  molestie orci. Praesent nisi elit, fringilla ac, suscipit non,\n",
      "  tristique vel, mauris. Curabitur vel lorem id nisl porta\n",
      "- adipiscing. Suspendisse eu lectus. In nunc. Duis vulputate\n",
      "- tristique enim. Donec quis lectus a justo imperdiet tempus.\n",
      "+ adipiscing. Duis vulputate tristique enim. Donec quis lectus a\n",
      "+ justo imperdiet tempus.  Suspendisse eu lectus. In nunc.\n"
     ]
    }
   ],
   "source": [
    "import difflib\n",
    "from difflib_data import *\n",
    "\n",
    "diff = difflib.ndiff(text1_lines, text2_lines)\n",
    "print('\\n'.join(diff))"
   ]
  },
  {
   "cell_type": "code",
   "execution_count": 18,
   "metadata": {},
   "outputs": [
    {
     "name": "stdout",
     "output_type": "stream",
     "text": [
      "*** \n",
      "--- \n",
      "***************\n",
      "*** 1,11 ****\n",
      "  Lorem ipsum dolor sit amet, consectetuer adipiscing\n",
      "  elit. Integer eu lacus accumsan arcu fermentum euismod. Donec\n",
      "! pulvinar porttitor tellus. Aliquam venenatis. Donec facilisis\n",
      "! pharetra tortor.  In nec mauris eget magna consequat\n",
      "! convalis. Nam sed sem vitae odio pellentesque interdum. Sed\n",
      "  consequat viverra nisl. Suspendisse arcu metus, blandit quis,\n",
      "  rhoncus ac, pharetra eget, velit. Mauris urna. Morbi nonummy\n",
      "  molestie orci. Praesent nisi elit, fringilla ac, suscipit non,\n",
      "  tristique vel, mauris. Curabitur vel lorem id nisl porta\n",
      "! adipiscing. Suspendisse eu lectus. In nunc. Duis vulputate\n",
      "! tristique enim. Donec quis lectus a justo imperdiet tempus.\n",
      "--- 1,11 ----\n",
      "  Lorem ipsum dolor sit amet, consectetuer adipiscing\n",
      "  elit. Integer eu lacus accumsan arcu fermentum euismod. Donec\n",
      "! pulvinar, porttitor tellus. Aliquam venenatis. Donec facilisis\n",
      "! pharetra tortor. In nec mauris eget magna consequat\n",
      "! convalis. Nam cras vitae mi vitae odio pellentesque interdum. Sed\n",
      "  consequat viverra nisl. Suspendisse arcu metus, blandit quis,\n",
      "  rhoncus ac, pharetra eget, velit. Mauris urna. Morbi nonummy\n",
      "  molestie orci. Praesent nisi elit, fringilla ac, suscipit non,\n",
      "  tristique vel, mauris. Curabitur vel lorem id nisl porta\n",
      "! adipiscing. Duis vulputate tristique enim. Donec quis lectus a\n",
      "! justo imperdiet tempus.  Suspendisse eu lectus. In nunc.\n"
     ]
    }
   ],
   "source": [
    "import difflib\n",
    "from difflib_data import *\n",
    "\n",
    "diff = difflib.context_diff(\n",
    "    text1_lines,\n",
    "    text2_lines,\n",
    "    lineterm='',\n",
    ")\n",
    "print('\\n'.join(diff))"
   ]
  },
  {
   "cell_type": "code",
   "execution_count": 17,
   "metadata": {},
   "outputs": [
    {
     "name": "stdout",
     "output_type": "stream",
     "text": [
      "\n",
      "    <table class=\"diff\" id=\"difflib_chg_to0__top\"\n",
      "           cellspacing=\"0\" cellpadding=\"0\" rules=\"groups\" >\n",
      "        <colgroup></colgroup> <colgroup></colgroup> <colgroup></colgroup>\n",
      "        <colgroup></colgroup> <colgroup></colgroup> <colgroup></colgroup>\n",
      "        \n",
      "        <tbody>\n",
      "            <tr><td class=\"diff_next\" id=\"difflib_chg_to0__0\"><a href=\"#difflib_chg_to0__0\">f</a></td><td class=\"diff_header\" id=\"from0_1\">1</td><td nowrap=\"nowrap\">Lorem&nbsp;ipsum&nbsp;dolor&nbsp;sit&nbsp;amet,&nbsp;consectetuer&nbsp;adipiscing</td><td class=\"diff_next\"><a href=\"#difflib_chg_to0__0\">f</a></td><td class=\"diff_header\" id=\"to0_1\">1</td><td nowrap=\"nowrap\">Lorem&nbsp;ipsum&nbsp;dolor&nbsp;sit&nbsp;amet,&nbsp;consectetuer&nbsp;adipiscing</td></tr>\n",
      "            <tr><td class=\"diff_next\"></td><td class=\"diff_header\" id=\"from0_2\">2</td><td nowrap=\"nowrap\">elit.&nbsp;Integer&nbsp;eu&nbsp;lacus&nbsp;accumsan&nbsp;arcu&nbsp;fermentum&nbsp;euismod.&nbsp;Donec</td><td class=\"diff_next\"></td><td class=\"diff_header\" id=\"to0_2\">2</td><td nowrap=\"nowrap\">elit.&nbsp;Integer&nbsp;eu&nbsp;lacus&nbsp;accumsan&nbsp;arcu&nbsp;fermentum&nbsp;euismod.&nbsp;Donec</td></tr>\n",
      "            <tr><td class=\"diff_next\"><a href=\"#difflib_chg_to0__1\">n</a></td><td class=\"diff_header\" id=\"from0_3\">3</td><td nowrap=\"nowrap\">pulvinar&nbsp;porttitor&nbsp;tellus.&nbsp;Aliquam&nbsp;venenatis.&nbsp;Donec&nbsp;facilisis</td><td class=\"diff_next\"><a href=\"#difflib_chg_to0__1\">n</a></td><td class=\"diff_header\" id=\"to0_3\">3</td><td nowrap=\"nowrap\">pulvinar<span class=\"diff_add\">,</span>&nbsp;porttitor&nbsp;tellus.&nbsp;Aliquam&nbsp;venenatis.&nbsp;Donec&nbsp;facilisis</td></tr>\n",
      "            <tr><td class=\"diff_next\"></td><td class=\"diff_header\" id=\"from0_4\">4</td><td nowrap=\"nowrap\">pharetra&nbsp;tortor.&nbsp;<span class=\"diff_sub\">&nbsp;</span>In&nbsp;nec&nbsp;mauris&nbsp;eget&nbsp;magna&nbsp;consequat</td><td class=\"diff_next\"></td><td class=\"diff_header\" id=\"to0_4\">4</td><td nowrap=\"nowrap\">pharetra&nbsp;tortor.&nbsp;In&nbsp;nec&nbsp;mauris&nbsp;eget&nbsp;magna&nbsp;consequat</td></tr>\n",
      "            <tr><td class=\"diff_next\" id=\"difflib_chg_to0__1\"></td><td class=\"diff_header\" id=\"from0_5\">5</td><td nowrap=\"nowrap\">convalis.&nbsp;Nam&nbsp;s<span class=\"diff_sub\">ed&nbsp;sem</span>&nbsp;vitae&nbsp;odio&nbsp;pellentesque&nbsp;interdum.&nbsp;Sed</td><td class=\"diff_next\"></td><td class=\"diff_header\" id=\"to0_5\">5</td><td nowrap=\"nowrap\">convalis.&nbsp;Nam&nbsp;<span class=\"diff_add\">cra</span>s&nbsp;vitae&nbsp;<span class=\"diff_add\">mi&nbsp;vitae&nbsp;</span>odio&nbsp;pellentesque&nbsp;interdum.&nbsp;Sed</td></tr>\n",
      "            <tr><td class=\"diff_next\"></td><td class=\"diff_header\" id=\"from0_6\">6</td><td nowrap=\"nowrap\">consequat&nbsp;viverra&nbsp;nisl.&nbsp;Suspendisse&nbsp;arcu&nbsp;metus,&nbsp;blandit&nbsp;quis,</td><td class=\"diff_next\"></td><td class=\"diff_header\" id=\"to0_6\">6</td><td nowrap=\"nowrap\">consequat&nbsp;viverra&nbsp;nisl.&nbsp;Suspendisse&nbsp;arcu&nbsp;metus,&nbsp;blandit&nbsp;quis,</td></tr>\n",
      "            <tr><td class=\"diff_next\"></td><td class=\"diff_header\" id=\"from0_7\">7</td><td nowrap=\"nowrap\">rhoncus&nbsp;ac,&nbsp;pharetra&nbsp;eget,&nbsp;velit.&nbsp;Mauris&nbsp;urna.&nbsp;Morbi&nbsp;nonummy</td><td class=\"diff_next\"></td><td class=\"diff_header\" id=\"to0_7\">7</td><td nowrap=\"nowrap\">rhoncus&nbsp;ac,&nbsp;pharetra&nbsp;eget,&nbsp;velit.&nbsp;Mauris&nbsp;urna.&nbsp;Morbi&nbsp;nonummy</td></tr>\n",
      "            <tr><td class=\"diff_next\"></td><td class=\"diff_header\" id=\"from0_8\">8</td><td nowrap=\"nowrap\">molestie&nbsp;orci.&nbsp;Praesent&nbsp;nisi&nbsp;elit,&nbsp;fringilla&nbsp;ac,&nbsp;suscipit&nbsp;non,</td><td class=\"diff_next\"></td><td class=\"diff_header\" id=\"to0_8\">8</td><td nowrap=\"nowrap\">molestie&nbsp;orci.&nbsp;Praesent&nbsp;nisi&nbsp;elit,&nbsp;fringilla&nbsp;ac,&nbsp;suscipit&nbsp;non,</td></tr>\n",
      "            <tr><td class=\"diff_next\"></td><td class=\"diff_header\" id=\"from0_9\">9</td><td nowrap=\"nowrap\">tristique&nbsp;vel,&nbsp;mauris.&nbsp;Curabitur&nbsp;vel&nbsp;lorem&nbsp;id&nbsp;nisl&nbsp;porta</td><td class=\"diff_next\"></td><td class=\"diff_header\" id=\"to0_9\">9</td><td nowrap=\"nowrap\">tristique&nbsp;vel,&nbsp;mauris.&nbsp;Curabitur&nbsp;vel&nbsp;lorem&nbsp;id&nbsp;nisl&nbsp;porta</td></tr>\n",
      "            <tr><td class=\"diff_next\"><a href=\"#difflib_chg_to0__top\">t</a></td><td class=\"diff_header\" id=\"from0_10\">10</td><td nowrap=\"nowrap\"><span class=\"diff_sub\">adipiscing.&nbsp;Suspendisse&nbsp;eu&nbsp;lectus.&nbsp;In&nbsp;nunc.&nbsp;Duis&nbsp;vulputate</span></td><td class=\"diff_next\"><a href=\"#difflib_chg_to0__top\">t</a></td><td class=\"diff_header\" id=\"to0_10\">10</td><td nowrap=\"nowrap\"><span class=\"diff_add\">adipiscing.&nbsp;Duis&nbsp;vulputate&nbsp;tristique&nbsp;enim.&nbsp;Donec&nbsp;quis&nbsp;lectus&nbsp;a</span></td></tr>\n",
      "            <tr><td class=\"diff_next\"></td><td class=\"diff_header\" id=\"from0_11\">11</td><td nowrap=\"nowrap\"><span class=\"diff_sub\">tristique&nbsp;enim.&nbsp;Donec&nbsp;quis&nbsp;lectus&nbsp;a&nbsp;justo&nbsp;imperdiet&nbsp;tempus.</span></td><td class=\"diff_next\"></td><td class=\"diff_header\" id=\"to0_11\">11</td><td nowrap=\"nowrap\"><span class=\"diff_add\">justo&nbsp;imperdiet&nbsp;tempus.&nbsp;&nbsp;Suspendisse&nbsp;eu&nbsp;lectus.&nbsp;In&nbsp;nunc.</span></td></tr>\n",
      "        </tbody>\n",
      "    </table>\n"
     ]
    }
   ],
   "source": [
    "import difflib\n",
    "from difflib_data import *\n",
    "\n",
    "d = difflib.HtmlDiff()\n",
    "print(d.make_table(text1_lines, text2_lines))"
   ]
  }
 ],
 "metadata": {
  "interpreter": {
   "hash": "687d78340220d86234540234f2dddb05cc2a368e2fe8eb7ed5800ac5a3920935"
  },
  "kernelspec": {
   "display_name": "Python 3.7.11 ('myenv')",
   "language": "python",
   "name": "python3"
  },
  "language_info": {
   "codemirror_mode": {
    "name": "ipython",
    "version": 3
   },
   "file_extension": ".py",
   "mimetype": "text/x-python",
   "name": "python",
   "nbconvert_exporter": "python",
   "pygments_lexer": "ipython3",
   "version": "3.7.11"
  },
  "orig_nbformat": 4
 },
 "nbformat": 4,
 "nbformat_minor": 2
}
