{
 "cells": [
  {
   "cell_type": "markdown",
   "metadata": {},
   "source": [
    "有 `CODE LIST` 标识的为书中例子。\n",
    "\n",
    "为了能够理解书中例子，一些（Preparation）模块记录了必要的知识"
   ]
  },
  {
   "cell_type": "markdown",
   "metadata": {},
   "source": [
    "# (Preparation) 模板 (对应1.1.2)"
   ]
  },
  {
   "cell_type": "markdown",
   "metadata": {},
   "source": [
    "ステップ：<br>\n",
    "用 template() 方法创作模板；<br>\n",
    "用 .substitude() 直接替换，或用 {} 创建对应的字典，用 ** 传入字典的值\n",
    "\n",
    "补充：<br>\n",
    "单星号 * 用于对列表LIST或元组tuple中的元素进行取出<br>\n",
    "双星号 ** 可将字典里的“值”取出"
   ]
  },
  {
   "cell_type": "code",
   "execution_count": 2,
   "metadata": {},
   "outputs": [
    {
     "name": "stdout",
     "output_type": "stream",
     "text": [
      "<class 'string.Template'>\n",
      "Tim Cook is the CEO of Apple Inc.\n",
      "Tim Cook is the CEO of Apple Inc.\n"
     ]
    }
   ],
   "source": [
    "# example\n",
    "from string import Template\n",
    " \n",
    "t = Template('$name is the $job of $company')\n",
    "s = t.substitute(name='Tim Cook', job='CEO', company='Apple Inc.')\n",
    "print(type(t))\n",
    "print(s)\n",
    " \n",
    "# dictionary as substitute argument\n",
    "d = {\"name\": \"Tim Cook\", \"job\": \"CEO\", \"company\": \"Apple Inc.\"}\n",
    "s = t.substitute(**d)\n",
    "print(s)"
   ]
  },
  {
   "cell_type": "code",
   "execution_count": null,
   "metadata": {},
   "outputs": [
    {
     "name": "stdout",
     "output_type": "stream",
     "text": [
      "[3 4 5]\n",
      "-- This parrot wouldn't VOOM if you put four million volts through it. E's bleedin' demised !\n",
      "voltage state action\n"
     ]
    }
   ],
   "source": [
    "# 补充说明\n",
    "import numpy as np\n",
    "LIST = [3, 6]\n",
    "print(np.arange(*LIST))\n",
    "def parrot(voltage, state='a stiff', action='voom'):\n",
    "    print (\"-- This parrot wouldn't\", action, \"if you put\", voltage, \n",
    "    \"volts through it.\", \"E's\", state, \"!\")\n",
    "\n",
    "d = {\"voltage\": \"four million\", \"state\": \"bleedin' demised\", \"action\": \"VOOM\"}\n",
    "parrot(**d) # **d 取出 values, 并根据 keys 送入对应参数\n",
    "print(*d) # *d 会取出 dictionary{keys:values}中的 keys。"
   ]
  },
  {
   "cell_type": "markdown",
   "metadata": {},
   "source": [
    "Template对象有两个方法：**substitute()、safe_substitute()**。<br>\n",
    "\n",
    "substitute()更为严谨，在key缺少的情况下会报一个KeyError的异常。<br>\n",
    "safe_substitute()在缺少key的情况下，直接原封不动的把字符串显示出来。"
   ]
  },
  {
   "cell_type": "code",
   "execution_count": null,
   "metadata": {},
   "outputs": [
    {
     "name": "stdout",
     "output_type": "stream",
     "text": [
      "Tim Cook is the CEO of $company\n"
     ]
    }
   ],
   "source": [
    "# safe_substitude() 方法\n",
    "from string import Template\n",
    " \n",
    "t = Template('$name is the $job of $company')\n",
    " \n",
    "s = t.safe_substitute(name='Tim Cook', job='CEO')\n",
    "print(s)"
   ]
  },
  {
   "cell_type": "markdown",
   "metadata": {},
   "source": [
    "**打印模板字符串**\n",
    "\n",
    "模板对象具有返回模板字符串的“ template”属性。\n",
    "\n",
    "**转义$符号** \n",
    "\n",
    "我们可以使用$$来转义$符号并将其视为普通字符串的一部分。"
   ]
  },
  {
   "cell_type": "code",
   "execution_count": null,
   "metadata": {},
   "outputs": [
    {
     "name": "stdout",
     "output_type": "stream",
     "text": [
      "Template String = $name is the $job of $company\n",
      "$ is called Dollar\n"
     ]
    }
   ],
   "source": [
    "t = Template('$name is the $job of $company')\n",
    "print('Template String =', t.template)\n",
    "\n",
    "t = Template('$$ is called $name')\n",
    "s = t.substitute(name='Dollar')\n",
    "print(s)"
   ]
  },
  {
   "cell_type": "markdown",
   "metadata": {},
   "source": [
    "**$ {identifier}示例**\n",
    "\n",
    "$ 用来提示后面为替换的变量，同时可用{}来区分变量和周围的文本"
   ]
  },
  {
   "cell_type": "code",
   "execution_count": null,
   "metadata": {},
   "outputs": [
    {
     "name": "stdout",
     "output_type": "stream",
     "text": [
      "Test adjective is Testing\n"
     ]
    }
   ],
   "source": [
    "t = Template('$noun adjective is ${noun}ing')\n",
    "s = t.substitute(noun='Test')\n",
    "print(s)"
   ]
  },
  {
   "cell_type": "markdown",
   "metadata": {},
   "source": [
    "# 1.1 string: 文字常量和模板"
   ]
  },
  {
   "cell_type": "markdown",
   "metadata": {},
   "source": [
    "## 1.1.1 函数"
   ]
  },
  {
   "cell_type": "code",
   "execution_count": 1,
   "metadata": {},
   "outputs": [
    {
     "name": "stdout",
     "output_type": "stream",
     "text": [
      "The quick brown fox jumped over the lazy dog.\n",
      "The Quick Brown Fox Jumped Over The Lazy Dog.\n"
     ]
    }
   ],
   "source": [
    "# CODE LIST 1-1\n",
    "# capwords(): 将字符串中所有单词首字母大写\n",
    "import string\n",
    "\n",
    "s = 'The quick brown fox jumped over the lazy dog.'\n",
    "\n",
    "print(s)\n",
    "print(string.capwords(s))"
   ]
  },
  {
   "cell_type": "markdown",
   "metadata": {},
   "source": [
    "## 1.1.2 **模板**"
   ]
  },
  {
   "cell_type": "markdown",
   "metadata": {},
   "source": [
    "Python String Template类用于创建简单的模板字符串，以后可以在其中替换字段以创建字符串对象。\n",
    "\n",
    "1-2 提供了三个例子：简单模板、%操作符(类似字符串拼接)、str.format()的新格式化字符串语法"
   ]
  },
  {
   "cell_type": "markdown",
   "metadata": {},
   "source": [
    "注1：`escape`是`转义`的意思\n",
    "> In the first two cases, the trigger character ($ or %) is escaped by repeating it twice. <br>\n",
    "> For the format syntax, both { and } need to be escaped by repeating them."
   ]
  },
  {
   "cell_type": "code",
   "execution_count": 2,
   "metadata": {},
   "outputs": [
    {
     "name": "stdout",
     "output_type": "stream",
     "text": [
      "TEMPLATE: \n",
      "Variable        : foo\n",
      "Escape          : $\n",
      "Variable in text: fooiable\n",
      "\n",
      "INTERPOLATION: \n",
      "Variable        : foo\n",
      "Escape          : %\n",
      "Variable in text: fooiable\n",
      "\n",
      "FORMAT: \n",
      "Variable        : foo\n",
      "Escape          : {}\n",
      "Variable in text: fooiable\n",
      "\n"
     ]
    }
   ],
   "source": [
    "# CODE LIST 1-2\n",
    "import string\n",
    "\n",
    "values = {'var': 'foo'}\n",
    "\n",
    "# \"\"\" ... \"\"\" ：多行注释；或定义多行字符串\n",
    "t = string.Template(\"\"\"\n",
    "Variable        : $var\n",
    "Escape          : $$\n",
    "Variable in text: ${var}iable\n",
    "\"\"\")\n",
    "\n",
    "print('TEMPLATE:', t.substitute(values))\n",
    "\n",
    "s = \"\"\"\n",
    "Variable        : %(var)s\n",
    "Escape          : %%\n",
    "Variable in text: %(var)siable\n",
    "\"\"\"\n",
    "\n",
    "print('INTERPOLATION:', s % values)\n",
    "\n",
    "s = \"\"\"\n",
    "Variable        : {var}\n",
    "Escape          : {{}}\n",
    "Variable in text: {var}iable\n",
    "\"\"\"\n",
    "\n",
    "print('FORMAT:', s.format(**values))"
   ]
  },
  {
   "cell_type": "markdown",
   "metadata": {},
   "source": [
    "缺少输入值时，substitute()方法会产生KeyError\n",
    "\n",
    "注：\n",
    "    `try ... except Exception as e`\n",
    "中， e 是前面 Exception 类的一个实例"
   ]
  },
  {
   "cell_type": "code",
   "execution_count": 15,
   "metadata": {},
   "outputs": [
    {
     "name": "stdout",
     "output_type": "stream",
     "text": [
      "ERROR: 'missing'\n",
      "safe_substitute(): foo is here but $missing is not provided\n"
     ]
    }
   ],
   "source": [
    "# CODE LIST 1-3\n",
    "# substitute 和 safe_substitute()\n",
    "import string\n",
    "\n",
    "values = {'var': 'foo'}\n",
    "\n",
    "t = string.Template(\"$var is here but $missing is not provided\")\n",
    "\n",
    "try:\n",
    "    print('substitute()     :', t.substitute(values))\n",
    "except KeyError as err:\n",
    "    print('ERROR:', str(err))\n",
    "\n",
    "print('safe_substitute():', t.safe_substitute(values))"
   ]
  },
  {
   "cell_type": "markdown",
   "metadata": {},
   "source": [
    "## 1.1.3 高级模板（学完正则表达式再来弄）"
   ]
  },
  {
   "cell_type": "markdown",
   "metadata": {},
   "source": [
    "可以更改变量定义符号$，以及利用正则式替换变量名，以改变默认语法\n",
    "\n",
    "`delimiter` : 定义符号<br>\n",
    "`underscore`: 下划线"
   ]
  },
  {
   "cell_type": "code",
   "execution_count": 1,
   "metadata": {},
   "outputs": [
    {
     "name": "stdout",
     "output_type": "stream",
     "text": [
      "<class 'dict'>\n",
      "Modified ID pattern:\n",
      "\n",
      "  Delimiter : %\n",
      "  Replaced  : replaced\n",
      "  Ignored   : %notunderscored\n",
      "\n"
     ]
    }
   ],
   "source": [
    "# CODE LIST 1-4\n",
    "# 本例中，自定义了 % 以替换原有的变量定义符号 $\n",
    "import string\n",
    "\n",
    "class MyTemplate(string.Template):\n",
    "    delimiter = '%'\n",
    "    idpattern = '[a-z]+_[a-z]+'\n",
    "\n",
    "\n",
    "template_text = '''\n",
    "  Delimiter : %%\n",
    "  Replaced  : %with_underscore\n",
    "  Ignored   : %notunderscored\n",
    "'''\n",
    "\n",
    "d = {\n",
    "    'with_underscore': 'replaced',\n",
    "    'notunderscored': 'not replaced',\n",
    "}\n",
    "\n",
    "t = MyTemplate(template_text)\n",
    "print('Modified ID pattern:')\n",
    "print(t.safe_substitute(d))"
   ]
  },
  {
   "cell_type": "markdown",
   "metadata": {},
   "source": [
    "更复杂的修改：覆盖pattern属性并定义一个全新的正则表达式。\n",
    "\n",
    "所提供的模式必须包含4个命名组，分别捕获 转义定界符、命名变量、加括号的变量名、不合法的定界符模式"
   ]
  },
  {
   "cell_type": "code",
   "execution_count": 3,
   "metadata": {},
   "outputs": [
    {
     "name": "stdout",
     "output_type": "stream",
     "text": [
      "\n",
      "    \\$(?:\n",
      "      (?P<escaped>\\$) |   # Escape sequence of two delimiters\n",
      "      (?P<named>(?a:[_a-z][_a-z0-9]*))      |   # delimiter and a Python identifier\n",
      "      {(?P<braced>(?a:[_a-z][_a-z0-9]*))}  |   # delimiter and a braced identifier\n",
      "      (?P<invalid>)              # Other ill-formed delimiter exprs\n",
      "    )\n",
      "    \n"
     ]
    }
   ],
   "source": [
    "# CODE LIST 1-5\n",
    "import string\n",
    "\n",
    "t = string.Template('$var')\n",
    "print(t.pattern.pattern)"
   ]
  },
  {
   "cell_type": "markdown",
   "metadata": {},
   "source": [
    "新模式举例（暂时没去理解）"
   ]
  },
  {
   "cell_type": "code",
   "execution_count": 4,
   "metadata": {},
   "outputs": [
    {
     "name": "stdout",
     "output_type": "stream",
     "text": [
      "MATCHES: [('{{', '', '', ''), ('', 'var', '', '')]\n",
      "SUBSTITUTED: \n",
      "{{\n",
      "replacement\n",
      "\n"
     ]
    }
   ],
   "source": [
    "import re\n",
    "import string\n",
    "\n",
    "\n",
    "class MyTemplate(string.Template):\n",
    "    delimiter = '{{'\n",
    "    pattern = r'''\n",
    "    \\{\\{(?:\n",
    "    (?P<escaped>\\{\\{)|\n",
    "    (?P<named>[_a-z][_a-z0-9]*)\\}\\}|\n",
    "    (?P<braced>[_a-z][_a-z0-9]*)\\}\\}|\n",
    "    (?P<invalid>)\n",
    "    )\n",
    "    '''\n",
    "\n",
    "\n",
    "t = MyTemplate('''\n",
    "{{{{\n",
    "{{var}}\n",
    "''')\n",
    "\n",
    "print('MATCHES:', t.pattern.findall(t.template))\n",
    "print('SUBSTITUTED:', t.safe_substitute(var='replacement'))"
   ]
  },
  {
   "cell_type": "markdown",
   "metadata": {},
   "source": [
    "## 1.1.4 Formatter"
   ]
  },
  {
   "cell_type": "markdown",
   "metadata": {},
   "source": [
    "## 1.1.5 常量"
   ]
  },
  {
   "cell_type": "markdown",
   "metadata": {},
   "source": []
  },
  {
   "cell_type": "code",
   "execution_count": 17,
   "metadata": {},
   "outputs": [
    {
     "name": "stdout",
     "output_type": "stream",
     "text": [
      "ascii_letters='abcdefghijklmnopqrstuvwxyzABCDEFGHIJKLMNOPQRSTUVWXYZ'\n",
      "\n",
      "ascii_lowercase='abcdefghijklmnopqrstuvwxyz'\n",
      "\n",
      "ascii_uppercase='ABCDEFGHIJKLMNOPQRSTUVWXYZ'\n",
      "\n",
      "digits='0123456789'\n",
      "\n",
      "hexdigits='0123456789abcdefABCDEF'\n",
      "\n",
      "octdigits='01234567'\n",
      "\n",
      "printable='0123456789abcdefghijklmnopqrstuvwxyzABCDEFGHIJKLMNOPQRSTUVWXYZ!\"#$%&\\'()*+,-./:;<=>?@[\\\\]^_`{|}~ \\t\\n\\r\\x0b\\x0c'\n",
      "\n",
      "punctuation='!\"#$%&\\'()*+,-./:;<=>?@[\\\\]^_`{|}~'\n",
      "\n",
      "whitespace=' \\t\\n\\r\\x0b\\x0c'\n",
      "\n"
     ]
    }
   ],
   "source": [
    "# CODE LIST 1-7\n",
    "# 打印了 string 模块中包含的大量与 ASCII 和数值字符集相关的常量\n",
    "import inspect\n",
    "import string\n",
    "\n",
    "\n",
    "def is_str(value):\n",
    "    return isinstance(value, str)\n",
    "\n",
    "\n",
    "for name, value in inspect.getmembers(string, is_str):\n",
    "    if name.startswith('_'):\n",
    "        continue\n",
    "    print('%s=%r\\n' % (name, value))"
   ]
  },
  {
   "cell_type": "markdown",
   "metadata": {},
   "source": [
    "# 練習"
   ]
  },
  {
   "cell_type": "markdown",
   "metadata": {},
   "source": [
    "尝试使用正则表达式构造模板"
   ]
  },
  {
   "cell_type": "code",
   "execution_count": 12,
   "metadata": {},
   "outputs": [
    {
     "name": "stdout",
     "output_type": "stream",
     "text": [
      "\n",
      "    $Kirisame_Marisa where $Hakurei\n",
      "\n"
     ]
    }
   ],
   "source": [
    "from string import Template\n",
    "class newTemplate(Template):\n",
    "    delimiter = '$'\n",
    "    idpattern = '[a-z]+_[a-z]+'\n",
    "\n",
    "template_text = '''\n",
    "    $Kirisame_Marisa where $Hakurei\n",
    "'''\n",
    "d = {\n",
    "    'ai_ueo' : 'Remilia_Scarlet',\n",
    "    'Kirisame_Marisa' : 'Remilia_Scarlet',\n",
    "    #'kakiku' : 'Izayoi',\n",
    "}\n",
    "\n",
    "t = newTemplate(template_text)\n",
    "s = t.safe_substitute(d)\n",
    "\n",
    "print(s)\n",
    " \n"
   ]
  }
 ],
 "metadata": {
  "interpreter": {
   "hash": "687d78340220d86234540234f2dddb05cc2a368e2fe8eb7ed5800ac5a3920935"
  },
  "kernelspec": {
   "display_name": "Python 3.7.11 ('myenv')",
   "language": "python",
   "name": "python3"
  },
  "language_info": {
   "codemirror_mode": {
    "name": "ipython",
    "version": 3
   },
   "file_extension": ".py",
   "mimetype": "text/x-python",
   "name": "python",
   "nbconvert_exporter": "python",
   "pygments_lexer": "ipython3",
   "version": "3.7.11"
  },
  "orig_nbformat": 4
 },
 "nbformat": 4,
 "nbformat_minor": 2
}
