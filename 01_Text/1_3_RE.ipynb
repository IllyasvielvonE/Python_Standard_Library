{
 "cells": [
  {
   "cell_type": "markdown",
   "metadata": {},
   "source": [
    "# Preparation 正则表达式"
   ]
  },
  {
   "cell_type": "markdown",
   "metadata": {},
   "source": [
    "## p.0 "
   ]
  },
  {
   "cell_type": "markdown",
   "metadata": {},
   "source": [
    "正则表达式是一个特殊的字符序列，它能帮助你方便的检查一个字符串是否与某种模式匹配。\n",
    "\n",
    "Python 自1.5版本起增加了re 模块，它提供 Perl 风格的正则表达式模式。"
   ]
  },
  {
   "cell_type": "code",
   "execution_count": 1,
   "metadata": {},
   "outputs": [],
   "source": [
    "import re"
   ]
  },
  {
   "cell_type": "markdown",
   "metadata": {},
   "source": [
    "正则表达式的大致匹配过程是：\n",
    "1. 依次拿出表达式和文本中的字符比较，\n",
    "2. 如果每一个字符都能匹配，则匹配成功；一旦有匹配不成功的字符则匹配失败。\n",
    "3. 如果表达式中有量词或边界，这个过程会稍微有一些不同。\n",
    "\n",
    "**r** ：Python 中字符串的前导 r 代表原始字符串标识符，该字符串中的特殊符号不会被转义，适用于正则表达式中繁杂的特殊符号表示。 因此 r\"\\n\" 表示包含 '\\' 和 'n' 两个字符的字符串，而 \"\\n\" 则表示只包含一个换行符的字符串。"
   ]
  },
  {
   "cell_type": "code",
   "execution_count": 19,
   "metadata": {},
   "outputs": [
    {
     "name": "stdout",
     "output_type": "stream",
     "text": [
      "\\n\n",
      "\\n\n"
     ]
    }
   ],
   "source": [
    "print(\"\\\\n\") # 输出 \\n\n",
    "print(r\"\\n\") #输出 \\n"
   ]
  },
  {
   "cell_type": "markdown",
   "metadata": {},
   "source": [
    "## p.1 常量"
   ]
  },
  {
   "cell_type": "markdown",
   "metadata": {},
   "source": [
    "re模块中有9个常量，常量的值都是int类\n",
    "\n",
    "常用：I,A,S,M,X\n",
    "- A = ASCII         &emsp;&emsp;&emsp;&emsp;只匹配ASCII码，无Uinicode\n",
    "- I = IGNORECASE    &emsp;大小写忽略匹配\n",
    "- L = LOCALE        &emsp;&emsp;&emsp;(不推荐使用)由系统当前语言区域决定的匹配方式\n",
    "- U = UNICODE       &emsp;&emsp;匹配unicode编码支持的字符 (而Py3默认字符串已经是Unicode)\n",
    "- M = MULTILINE     &emsp;多行模式，支持匹配行开头\n",
    "- S = DOTALL        &ensp;&emsp;&emsp;.匹配所有模式，包括换行符\\n一起匹配，而不分开\n",
    "- X = VERBOSE       &emsp;&emsp;详细模式\n",
    "- T = TEMPLATE      \n",
    "- ~ ~ DEBUG         &emsp;&emsp;&emsp;显示编译时的debug信息\n",
    "\n",
    "`verbose`: (adj.) 冗长的，罗嗦的\n",
    "\n",
    "先不管语法，看看例子："
   ]
  },
  {
   "cell_type": "code",
   "execution_count": 18,
   "metadata": {},
   "outputs": [
    {
     "name": "stdout",
     "output_type": "stream",
     "text": [
      "默认模式:  []\n",
      "Ignorecase:  ['Renna']\n",
      "Unicode(default):  ['se人形のRenna']\n",
      "ASCII:  ['se', 'Renna']\n",
      "默认模式:  ['Renna ', '', ' blue', '']\n",
      "Dotall:  ['Renna \\n blue', '']\n",
      "默认模式:  []\n",
      "Multiline:  ['blue']\n",
      "默认模式:  []\n",
      "Verbose:  ['Renna blue']\n"
     ]
    }
   ],
   "source": [
    "text = 'Renna blue'\n",
    "pattern = 'RENNA'\n",
    "print('默认模式: ', re.findall(pattern, text))\n",
    "print('Ignorecase: ', re.findall(pattern, text, re.I))\n",
    "\n",
    "text = 'se人形のRenna'\n",
    "pattern = r'\\w+'\n",
    "print('Unicode(default): ', re.findall(pattern, text))\n",
    "print('ASCII: ', re.findall(pattern, text, re.A))\n",
    "\n",
    "text = 'Renna \\n blue'\n",
    "pattern = r'.*'\n",
    "print('默认模式: ', re.findall(pattern, text))\n",
    "print('Dotall: ', re.findall(pattern, text, re.S))\n",
    "\n",
    "text = 'Renna\\nblue' #注意若为 'Renna \\n blue' 行开头是' blue'\n",
    "pattern = r'^blue'\n",
    "print('默认模式: ', re.findall(pattern, text))\n",
    "print('Multiline: ', re.findall(pattern, text, re.M))\n",
    "\n",
    "text = 'Renna blue'\n",
    "pattern = r\"\"\"^Renna    # Subject\n",
    "            \\ blue     # Adjective\n",
    "           \"\"\"\n",
    "print('默认模式: ', re.findall(pattern, text))\n",
    "print('Verbose: ', re.findall(pattern, text, re.X))"
   ]
  },
  {
   "cell_type": "markdown",
   "metadata": {},
   "source": [
    "## p.2 **pattern**"
   ]
  },
  {
   "cell_type": "markdown",
   "metadata": {},
   "source": [
    "### 单次字符匹配"
   ]
  },
  {
   "cell_type": "markdown",
   "metadata": {},
   "source": [
    "本部分介绍书写函数中的pattern参数时常用的方法。\n",
    "\n",
    "所举均以re.match()为例，可以先学习p.3.2 match()函数"
   ]
  },
  {
   "cell_type": "markdown",
   "metadata": {},
   "source": [
    "| Character | Function |\n",
    "| :---:     | :---:    |\n",
    "| .         | 通配符(except \\n)|\n",
    "| [ ]       | 匹配[ ]中字符 |\n",
    "| \\d        | 匹配数字0~9 |\n",
    "| \\D        | 匹配非数字 |\n",
    "| \\s        | 匹配空白(Tab/空格) |\n",
    "| \\S        | 匹配非空白字符 |\n",
    "| \\w        | 匹配单词字符(a-z,A-Z,0-9,_)|\n",
    "| \\W        | 匹配非单词字符 |"
   ]
  },
  {
   "cell_type": "code",
   "execution_count": null,
   "metadata": {},
   "outputs": [
    {
     "name": "stdout",
     "output_type": "stream",
     "text": [
      "M\n",
      "two\n",
      "h\n",
      "H\n",
      "Hello Python\n",
      "7Hello Python\n",
      "7Hello Python\n",
      "7Hello Python\n",
      "None\n",
      "嫦娥1号\n",
      "嫦娥2号\n"
     ]
    }
   ],
   "source": [
    "import re\n",
    "ret = re.match(\".\",\"M\")\n",
    "print(ret.group())\n",
    "ret = re.match(\"t.o\",\"two\")\n",
    "print(ret.group())\n",
    "\n",
    "# 如果hello的⾸字符⼩写，那么正则表达式需要⼩写的 h (反之同理)\n",
    "ret = re.match(\"h\",\"hello Python\")\n",
    "print(ret.group())\n",
    "# ⼤⼩写h都可以的情况\n",
    "ret = re.match(\"[hH]\",\"Hello Python\")\n",
    "print(ret.group())\n",
    "ret = re.match(\"[hH]ello Python\",\"Hello Python\")\n",
    "print(ret.group())\n",
    "\n",
    "# 匹配0到9的多种写法\n",
    "ret = re.match(\"[0123456789]Hello Python\",\"7Hello Python\")\n",
    "print(ret.group())\n",
    "ret = re.match(\"[0-9]Hello Python\",\"7Hello Python\")\n",
    "print(ret.group())\n",
    "\n",
    "# 匹配0到3和5-9\n",
    "ret = re.match(\"[0-35-9]Hello Python\",\"7Hello Python\")\n",
    "print(ret.group())\n",
    "ret = re.match(\"[0-35-9]Hello Python\",\"4Hello Python\")\n",
    "print(ret)\n",
    "\n",
    "ret = re.match(\"嫦娥\\d号\",\"嫦娥1号发射成功\")\n",
    "print(ret.group())\n",
    "ret = re.match(\"嫦娥2\\D\",\"嫦娥2号发射成功\")\n",
    "print(ret.group())"
   ]
  },
  {
   "cell_type": "markdown",
   "metadata": {},
   "source": [
    "### 多次字符匹配"
   ]
  },
  {
   "cell_type": "markdown",
   "metadata": {},
   "source": [
    "| Character | Function | Exp Instance | Complete matching string |\n",
    "| :---:     | :---:    | :---:        | :---:                    |\n",
    "| *         | 前一字符$0~\\infin$次 | abc* | abc,abcc,abccc... |\n",
    "| +         | 前一字符$1~\\infin$次 | abc+ | abcc,abccc... |\n",
    "| ?         | 前一字符1或0次 | abc? | ab,abc |\n",
    "| {m}       | 前一字符m次 | ab{2}c | abbc |\n",
    "| {m,n}     | 前一字符m至n次 | ab{1,2}c | abc,abbc |\n",
    "\n",
    "> 匹配优先取最长；<br>\n",
    "> {,n}同于{0,n}，{m,}同于{m,$\\infin$}"
   ]
  },
  {
   "cell_type": "code",
   "execution_count": null,
   "metadata": {},
   "outputs": [
    {
     "name": "stdout",
     "output_type": "stream",
     "text": [
      "M\n",
      "Mnn\n",
      "Aabcdef\n",
      "变量名 name1 符合要求\n",
      "变量名 _name 符合要求\n",
      "变量名 2_name ⾮法\n",
      "变量名 __name__ 符合要求\n",
      "7\n",
      "33\n",
      "0\n",
      "12a3g4\n",
      "1ad12f23s_HAB34455ff\n",
      "1ad12\n",
      "1ad12f23s_HAB34455ff66\n"
     ]
    }
   ],
   "source": [
    "import re\n",
    "# 匹配出，⼀个字符串第⼀个字⺟为⼤写字符，后⾯都是⼩写字⺟并且这些⼩写字⺟可有可⽆\n",
    "ret = re.match(\"[A-Z][a-z]*\",\"M\")\n",
    "print(ret.group())\n",
    "ret = re.match(\"[A-Z][a-z]*\",\"MnnM\")\n",
    "print(ret.group())\n",
    "ret = re.match(\"[A-Z][a-z]*\",\"Aabcdef\")\n",
    "print(ret.group())\n",
    "\n",
    "#匹配出，变量名是否有效（以字母开头视为有效）\n",
    "names = [\"name1\", \"_name\", \"2_name\", \"__name__\"]\n",
    "for name in names:\n",
    "    ret = re.match(\"[a-zA-Z_]+[\\w]*\",name)\n",
    "    if ret:\n",
    "        print(\"变量名 %s 符合要求\" % ret.group())\n",
    "    else:\n",
    "        print(\"变量名 %s ⾮法\" % name)\n",
    "\n",
    "#匹配出，0到99之间的数字\n",
    "ret = re.match(\"[1-9]?[0-9]\",\"7\")\n",
    "print(ret.group())\n",
    "ret = re.match(\"[1-9]?\\d\",\"33\")\n",
    "print(ret.group())\n",
    "# 下例中，原意是想排除0匹配9，实际匹配到了0\n",
    "# 需要用 $ (下一段介绍)\n",
    "ret = re.match(\"[1-9]?\\d\",\"09\")\n",
    "print(ret.group())\n",
    "\n",
    "ret = re.match(\"[a-zA-Z0-9_]{6}\",\"12a3g45678\")\n",
    "print(ret.group())\n",
    "#匹配出，8到20位的密码，可以是⼤⼩写英⽂字⺟、数字、下划线\n",
    "ret = re.match(\"[a-zA-Z0-9_]{8,20}\",\"1ad12f23s_HAB34455ff66\")\n",
    "print(ret.group())\n",
    "ret = re.match(\"[a-zA-Z0-9_]{,5}\",\"1ad12f23s_HAB34455ff66\")\n",
    "print(ret.group())\n",
    "ret = re.match(\"[a-zA-Z0-9_]{5,}\",\"1ad12f23s_HAB34455ff66\")\n",
    "print(ret.group())"
   ]
  },
  {
   "cell_type": "markdown",
   "metadata": {},
   "source": [
    "### 首尾匹配"
   ]
  },
  {
   "cell_type": "markdown",
   "metadata": {},
   "source": [
    "| Character | Function |\n",
    "| :---:     | :---:    |\n",
    "| ^         | 匹配字符串开头 |\n",
    "| $         | 匹配字符串结尾 |"
   ]
  },
  {
   "cell_type": "code",
   "execution_count": 41,
   "metadata": {},
   "outputs": [
    {
     "name": "stdout",
     "output_type": "stream",
     "text": [
      "xiaoWang@163.com 是符合规定的邮件地址,匹配后的结果是:xiaoWang@163.com\n",
      "xiaoWang@163.comheihei 不符合要求\n",
      ".com.xiaowang@qq.com 不符合要求\n"
     ]
    }
   ],
   "source": [
    "import re\n",
    "email_list = [\"xiaoWang@163.com\", \"xiaoWang@163.comheihei\", \".com.xiaowang@qq.com\"]\n",
    "for email in email_list:\n",
    "    ret = re.match(\"[\\w]{4,20}@163\\.com$\", email)\n",
    "    if ret:\n",
    "        print(\"%s 是符合规定的邮件地址,匹配后的结果是:%s\" % (email, ret.group()))\n",
    "    else:\n",
    "        print(\"%s 不符合要求\" % email)"
   ]
  },
  {
   "cell_type": "markdown",
   "metadata": {},
   "source": [
    "### pattern分组"
   ]
  },
  {
   "cell_type": "markdown",
   "metadata": {},
   "source": [
    "| Character  | Function |\n",
    "| :---:      | :---:    |\n",
    "| \\|         | 或，匹配左右任意一个表达式 |\n",
    "| ( )        | ( )中字符作为一个组 |\n",
    "| \\num       | 引⽤分组num匹配到的字符串 |\n",
    "| (?P\\<name\\>) | 分组起别名，匹配到的子串组在外部是通过定义的 name 来获取的 |\n",
    "| (?P=name)  | 引⽤别名为name分组匹配到的字符串 |"
   ]
  },
  {
   "cell_type": "code",
   "execution_count": 43,
   "metadata": {},
   "outputs": [
    {
     "name": "stdout",
     "output_type": "stream",
     "text": [
      "8\n",
      "78\n",
      "None\n",
      "100\n"
     ]
    }
   ],
   "source": [
    "# | 举例\n",
    "# 匹配出0-100之间的数字\n",
    "# 用 $ 从后往前匹配，避免误判以 0 开头的非法数字\n",
    "import re\n",
    "ret = re.match(\"[1-9]?\\d$|100\",\"8\")\n",
    "print(ret.group()) # 8\n",
    "ret = re.match(\"[1-9]?\\d$|100\",\"78\")\n",
    "print(ret.group()) # 78\n",
    "ret = re.match(\"[1-9]?\\d$|100\",\"08\")\n",
    "print(ret) # 不是0-100之间\n",
    "ret = re.match(\"[1-9]?\\d$|100\",\"100\")\n",
    "print(ret.group()) # 100"
   ]
  },
  {
   "cell_type": "code",
   "execution_count": 44,
   "metadata": {},
   "outputs": [
    {
     "name": "stdout",
     "output_type": "stream",
     "text": [
      "test@163.com\n",
      "test@126.com\n",
      "test@qq.com\n",
      "不是163、126、qq邮箱\n",
      "13100001234 不是想要的⼿机号\n",
      "18912344321\n",
      "10086 不是想要的⼿机号\n",
      "18800007777 不是想要的⼿机号\n",
      "010-12345678\n",
      "010\n",
      "12345678\n"
     ]
    }
   ],
   "source": [
    "# () 分组举例\n",
    "#需求：匹配出163、126、qq邮箱\n",
    "ret = re.match(\"\\w{4,20}@163\\.com\", \"test@163.com\")\n",
    "print(ret.group()) # test@163.com\n",
    "ret = re.match(\"\\w{4,20}@(163|126|qq)\\.com\", \"test@126.com\")\n",
    "print(ret.group()) # test@126.com\n",
    "ret = re.match(\"\\w{4,20}@(163|126|qq)\\.com\", \"test@qq.com\")\n",
    "print(ret.group()) # test@qq.com\n",
    "ret = re.match(\"\\w{4,20}@(163|126|qq)\\.com\", \"test@gmail.com\")\n",
    "if ret:\n",
    "    print(ret.group())\n",
    "else:\n",
    "    print(\"不是163、126、qq邮箱\") # 不是163、126、qq邮箱\n",
    "#不是以4、7结尾的⼿机号码(11位)\n",
    "tels = [\"13100001234\", \"18912344321\", \"10086\", \"18800007777\"]\n",
    "for tel in tels:\n",
    "    ret = re.match(\"1\\d{9}[0-35-68-9]\", tel)\n",
    "    if ret:\n",
    "        print(ret.group())\n",
    "    else:\n",
    "        print(\"%s 不是想要的⼿机号\" % tel)\n",
    "#提取区号和电话号码\n",
    "ret = re.match(\"([^-]*)-(\\d+)\",\"010-12345678\")\n",
    "print(ret.group())\n",
    "print(ret.group(1))\n",
    "print(ret.group(2))"
   ]
  },
  {
   "cell_type": "markdown",
   "metadata": {},
   "source": [
    "**\\number** 用法：\n",
    "\n",
    "&emsp;&emsp;匹配数字代表的组合。每个括号是一个组合，组合从1开始编号。\n",
    "<br> 注意：**组合编号是自动的**，出现()后，期内组合自动获得编号。\n",
    "\n",
    "&emsp;&emsp;比如 (.+) \\1 匹配 'the the' 或者 '55 55', 但不会匹配 'thethe' (注意组合后面的空格)。这个特殊序列只能用于匹配前面99个组合。\n",
    "<br>&emsp;&emsp;如果 number 的第一个数位是0， 或者 number 是三个八进制数，它将不会被看作是一个组合，而是八进制的数字值。\n",
    "<br>&emsp;&emsp;在 '[' 和 ']' 字符集合内，任何数字转义都被看作是字符。"
   ]
  },
  {
   "cell_type": "code",
   "execution_count": 46,
   "metadata": {},
   "outputs": [
    {
     "name": "stdout",
     "output_type": "stream",
     "text": [
      "<html>hh</html> 这是一对正确的标签\n",
      "<html>hh</htmlbalabala> 这是⼀对不正确的标签\n",
      "<html><h1>www.itcast.cn</h1></html> 是符合要求的标签\n",
      "<html><h1>www.itcast.cn</h2></html> 不符合要求\n"
     ]
    }
   ],
   "source": [
    "import re\n",
    "# 正确的理解思路：如果在第⼀对<>中是什么，按理说在后⾯的那对<>中就应该是什么。\n",
    "# 通过引⽤分组中匹配到的数据即可，但是要注意是元字符串，即类似 r\"\"这种格式。\n",
    "ret = re.match(r\"<([a-zA-Z]*)>\\w*</\\1>\", \"<html>hh</html>\")\n",
    "# 因为2对<>中的数据不⼀致，所以没有匹配出来\n",
    "test_label = [\"<html>hh</html>\",\"<html>hh</htmlbalabala>\"]\n",
    "for label in test_label:\n",
    "    ret = re.match(r\"<([a-zA-Z]*)>\\w*</\\1>\", label)\n",
    "    if ret:\n",
    "        print(\"%s 这是一对正确的标签\" % ret.group())\n",
    "    else:\n",
    "        print(\"%s 这是⼀对不正确的标签\" % label)\n",
    "\n",
    "\n",
    "labels = [\"<html><h1>www.itcast.cn</h1></html>\", \"<html><h1>www.itcast.cn</h2></html>\"]\n",
    "for label in labels:\n",
    "    ret = re.match(r\"<(\\w*)><(\\w*)>.*</\\2></\\1>\", label)\n",
    "    if ret:\n",
    "        print(\"%s 是符合要求的标签\" % ret.group())\n",
    "    else:\n",
    "        print(\"%s 不符合要求\" % label)"
   ]
  },
  {
   "cell_type": "markdown",
   "metadata": {},
   "source": [
    "**(?P\\<name\\>) (?P=name)**\n",
    "\n",
    "一个用于标记，一个用于在同一个正则表达式中复用\n",
    "\n",
    "相当于自定义名取代自动的\\number编号，name对应的内容可随意替换"
   ]
  },
  {
   "cell_type": "code",
   "execution_count": 47,
   "metadata": {},
   "outputs": [
    {
     "name": "stdout",
     "output_type": "stream",
     "text": [
      "<html><h1>www.itcast.cn</h1></html>\n",
      "None\n"
     ]
    }
   ],
   "source": [
    "import re\n",
    "ret = re.match(r\"<(?P<name1>\\w*)><(?P<name2>\\w*)>.*</(?P=name2)></(?P=name1)>\",\"<html><h1>www.itcast.cn</h1></html>\")\n",
    "print(ret.group())\n",
    "ret = re.match(r\"<(?P<name1>\\w*)><(?P<name2>\\w*)>.*</(?P=name2)></(?P=name1)>\",\"<html><h1>www.itcast.cn</h2></html>\")\n",
    "print(ret)"
   ]
  },
  {
   "cell_type": "markdown",
   "metadata": {},
   "source": [
    "## p.3 函数"
   ]
  },
  {
   "cell_type": "markdown",
   "metadata": {},
   "source": [
    "### p.3.1 函数一览"
   ]
  },
  {
   "cell_type": "markdown",
   "metadata": {},
   "source": [
    "查找并返回一个匹配项的函数有3个\n",
    "\n",
    "- **search**： &emsp;查找任意位置的匹配项\n",
    "- **match**：  &emsp;必须从字符串开头匹配\n",
    "- **fullmatch**：    整个字符串与正则完全匹配\n"
   ]
  },
  {
   "cell_type": "markdown",
   "metadata": {},
   "source": [
    "查找并返回多个匹配项的函数有2个\n",
    "\n",
    "- **findall**： &ensp;从字符串任意位置查找，返回一个**列表**\n",
    "- **finditer**：  从字符串任意位置查找，返回一个**迭代器**"
   ]
  },
  {
   "cell_type": "markdown",
   "metadata": {},
   "source": [
    "编译正则对象\n",
    "\n",
    "- **compile**\n",
    "- **template**"
   ]
  },
  {
   "cell_type": "markdown",
   "metadata": {},
   "source": [
    "分割与替换：\n",
    "\n",
    "- **split** : &ensp;匹配给定正则式对应的字符以分割字符串\n",
    "- **sub** :   &emsp;匹配字符并替换\n",
    "- **subn** :  &ensp;匹配字符并替换(元组)\n"
   ]
  },
  {
   "cell_type": "markdown",
   "metadata": {},
   "source": [
    "### p.3.2 **.match(), .search(), .fullmatch()**"
   ]
  },
  {
   "cell_type": "markdown",
   "metadata": {},
   "source": [
    "(补充)**.group()** 方法：\n",
    "\n",
    "&emsp;group()用来提出分组截获的字符串。group() 同group（0）就是匹配正则表达式整体结果，group(1) 列出第一个括号匹配部分...类推"
   ]
  },
  {
   "cell_type": "markdown",
   "metadata": {},
   "source": [
    "**re.match( pattern, string, flags=0 )** :\n",
    "\n",
    "只能从头开始匹配，失败则返回none.\n",
    "\n",
    "> pattern: 匹配的正则表达式<br>\n",
    "> string: 匹配对象字符串<br>\n",
    "> flags: 标志位，用于控制正则表达式的匹配方式 (如re.A,re.X等)"
   ]
  },
  {
   "cell_type": "code",
   "execution_count": 26,
   "metadata": {},
   "outputs": [
    {
     "name": "stdout",
     "output_type": "stream",
     "text": [
      "itcast\n",
      "None\n"
     ]
    }
   ],
   "source": [
    "result = re.match(\"itcast\",\"itcast.cn\")\n",
    "print(result.group())\n",
    "result = re.match(\"itcast\",\"cn.itcast\")\n",
    "print(result)"
   ]
  },
  {
   "cell_type": "markdown",
   "metadata": {},
   "source": [
    "**re.search( )** : \n",
    "\n",
    "扫描整个字符串并返回第一个成功的匹配，如果没有匹配，就返回一个 None。"
   ]
  },
  {
   "cell_type": "code",
   "execution_count": 50,
   "metadata": {},
   "outputs": [
    {
     "name": "stdout",
     "output_type": "stream",
     "text": [
      "114514\n",
      "1919\n"
     ]
    }
   ],
   "source": [
    "ret = re.search(r\"\\d+$\", \"阅读114514次数为1919\")\n",
    "print(ret.group())"
   ]
  },
  {
   "cell_type": "markdown",
   "metadata": {},
   "source": [
    "**re.fullmatch( )** : \n",
    "\n",
    "只有整个字符串匹配时才成功（严格match）。"
   ]
  },
  {
   "cell_type": "code",
   "execution_count": 54,
   "metadata": {},
   "outputs": [
    {
     "name": "stdout",
     "output_type": "stream",
     "text": [
      "None\n",
      "114514abc1919\n"
     ]
    }
   ],
   "source": [
    "ret = re.fullmatch(r\"\\d+\", \"114514abc1919\")\n",
    "print(ret)\n",
    "ret = re.fullmatch(r\"\\d+\\w*\", \"114514abc1919\")\n",
    "print(ret.group())"
   ]
  },
  {
   "cell_type": "markdown",
   "metadata": {},
   "source": [
    "### p.3.3 **.findall( ), .finditer( )**"
   ]
  },
  {
   "cell_type": "markdown",
   "metadata": {},
   "source": [
    "**.findall( ), .finditer( )**\n",
    "\n",
    "&emsp;&emsp;二者均是在字符串中找到正则表达式所匹配的所有子串，并返回；如果没有找到匹配的，则返回空。区别是前者放回列表，后者返回迭代器。"
   ]
  },
  {
   "cell_type": "code",
   "execution_count": 68,
   "metadata": {},
   "outputs": [
    {
     "name": "stdout",
     "output_type": "stream",
     "text": [
      "['9999', '7890', '12345']\n",
      "<class 'callable_iterator'>\n",
      "12\n",
      "32\n",
      "43\n",
      "3\n"
     ]
    }
   ],
   "source": [
    "ret = re.findall(r\"\\d+\", \"python = 9999, c = 7890, c++ = 12345\")\n",
    "print(ret)\n",
    "it = re.finditer(r\"\\d+\", \"12a32bc43jf3\")\n",
    "print(type(it))\n",
    "for match in it:\n",
    "    print(match.group())"
   ]
  },
  {
   "cell_type": "markdown",
   "metadata": {},
   "source": [
    "### p.3.4 **.compile( ), .template( )**"
   ]
  },
  {
   "cell_type": "markdown",
   "metadata": {},
   "source": [
    "compile 函数用于编译正则表达式，生成一个正则表达式（ Pattern ）对象\n",
    "\n",
    "template类似，区别？？"
   ]
  },
  {
   "cell_type": "code",
   "execution_count": 73,
   "metadata": {},
   "outputs": [],
   "source": [
    "pattern = r\"\\w+\"\n",
    "string = \"Reimu\"\n",
    "\n",
    "# 下面两者等价\n",
    "prog = re.compile(pattern)\n",
    "result = prog.match(string)\n",
    "\n",
    "result = re.match(pattern, string)"
   ]
  },
  {
   "cell_type": "markdown",
   "metadata": {},
   "source": [
    "### p.3.5 **.split( ), .sub( ), .subn( )**"
   ]
  },
  {
   "cell_type": "markdown",
   "metadata": {},
   "source": [
    "**re.split( pattern, string, maxsplit=0, flags=0 )**: \n",
    "\n",
    "用 pattern 分开 string ， maxsplit 表示最多进行分割次数， flags 表示模式"
   ]
  },
  {
   "cell_type": "code",
   "execution_count": null,
   "metadata": {},
   "outputs": [
    {
     "name": "stdout",
     "output_type": "stream",
     "text": [
      "['info', 'xiaoZhang', '33', 'shandong']\n"
     ]
    }
   ],
   "source": [
    "ret = re.split(r\":| \",\"info:xiaoZhang 33 shandong\")\n",
    "print(ret)"
   ]
  },
  {
   "cell_type": "markdown",
   "metadata": {},
   "source": [
    "**re.sub( pattern, repl, string, count=0, flags=0 )**\n",
    "\n",
    "repl 是用于替换的字符串或函数，count 为最大替换次数( 非负，0或缺省则替换所有匹配字符串 )\n",
    "\n",
    "**re.subn( pattern, repl, string[ , count] )**\n",
    "\n",
    "行为与sub()相同，但是返回一个元组 (字符串, 替换次数)。"
   ]
  },
  {
   "cell_type": "code",
   "execution_count": null,
   "metadata": {},
   "outputs": [
    {
     "name": "stdout",
     "output_type": "stream",
     "text": [
      "python = 998\n",
      "python = 998\n",
      "python = 100\n"
     ]
    }
   ],
   "source": [
    "# example: 两种方法使字符串内数字加一\n",
    "ret = re.sub(r\"\\d+\", '998', \"python = 997\")\n",
    "print(ret)\n",
    "\n",
    "# repl 为函数的情况(不写括号)\n",
    "# 其含义是将匹配串作为参数传入 该函数，然后得到的函数返回结果作为 repl\n",
    "def add(temp):\n",
    "    #int() 参数必须是字符串，类似字节的对象或数字，而不是“re.Match”\n",
    "    strNum = temp.group()\n",
    "    num = int(strNum) + 1\n",
    "    return str(num)\n",
    "ret = re.sub(r\"\\d+\", add, \"python = 997\")\n",
    "print(ret)\n",
    "ret = re.sub(r\"\\d+\", add, \"python = 99\")\n",
    "print(ret)"
   ]
  },
  {
   "cell_type": "code",
   "execution_count": 74,
   "metadata": {},
   "outputs": [
    {
     "name": "stdout",
     "output_type": "stream",
     "text": [
      "('say i, wORLd hello!', 2)\n",
      "('I Say, Hello World!', 2)\n"
     ]
    }
   ],
   "source": [
    "pattern = re.compile(r'(\\w+) (\\w+)')\n",
    "s = 'i say, hello wORLd!'\n",
    "print(re.subn(pattern, r'\\2 \\1', s)) # 将词序调换\n",
    "def func(m):\n",
    "    return m.group(1).title() + ' ' + m.group(2).title()\n",
    "print(re.subn(pattern, func, s))\n",
    "\n",
    " # title(): 将字符串标题化（即大小首字母，其余小写）"
   ]
  },
  {
   "cell_type": "markdown",
   "metadata": {},
   "source": [
    "### p.3.6 其余（此处不写）"
   ]
  },
  {
   "cell_type": "markdown",
   "metadata": {},
   "source": [
    "## p.4 贪婪与否"
   ]
  },
  {
   "cell_type": "markdown",
   "metadata": {},
   "source": [
    "Python⾥数量词默认是贪婪的（在少数语⾔⾥也可能是默认⾮贪婪），总是尝试匹配尽可能多的字符；⾮贪婪则相反，总是尝试匹配尽可能少的字符。\n",
    "\n",
    "例如：正则表达式”ab*”如果用于查找”abbbc”，将找到”abbb”。而如果使用非贪婪的数量词”ab*?”，将找到”a”。\n",
    "\n",
    "注：我们一般使用非贪婪模式来提取。\n",
    "\n",
    "在\"*\",\"?\",\"+\",\"{m,n}\"后⾯加上？，使贪婪变成⾮贪婪。"
   ]
  },
  {
   "cell_type": "code",
   "execution_count": 79,
   "metadata": {},
   "outputs": [
    {
     "name": "stdout",
     "output_type": "stream",
     "text": [
      "4-514-1919-810\n",
      "114-514-1919-810\n",
      "2343\n",
      "2\n",
      "2343\n",
      "2343\n",
      "https://rpic.douyucdn.cn/appCovers/2016/11/13/1213973.jpg\n"
     ]
    }
   ],
   "source": [
    "import re\n",
    "s=\"This is a number 114-514-1919-810\"\n",
    "#正则表达式模式中使⽤到通配字，那它在从左到右的顺序求值时，会尽量“抓取”满⾜匹配最⻓字符串，在我们上⾯的例⼦⾥⾯，“.+”会从字符串的启始处抓取满⾜模式的最⻓字符，其中包括我们想得到的第⼀个整型字段的中的⼤部分，“\\d+”只需⼀位字符就可以匹配，所以它匹配了数字“4”，⽽“.+”则匹配了从字符串起始到这个第⼀位数字4之前的所有字符\n",
    "r=re.match(\".+(\\d+-\\d+-\\d+-\\d+)\",s)\n",
    "print(r.group(1))\n",
    "#⾮贪婪操作符“？”，这个操作符可以⽤在\"*\",\"+\",\"?\"的后⾯，要求正则匹配的越少越好\n",
    "r=re.match(\".+?(\\d+-\\d+-\\d+-\\d+)\",s)\n",
    "print(r.group(1))\n",
    "\n",
    "print(re.match(r\"aa(\\d+)\",\"aa2343ddd\").group(1))\n",
    "print(re.match(r\"aa(\\d+?)\",\"aa2343ddd\").group(1))\n",
    "print(re.match(r\"aa(\\d+)ddd\",\"aa2343ddd\").group(1))\n",
    "print(re.match(r\"aa(\\d+?)ddd\",\"aa2343ddd\").group(1))\n",
    "\n",
    "test_str=\"<img data-original=https://rpic.douyucdn.cn/appCovers/2016/11/13/1213973.jpg>\"\n",
    "ret = re.search(r\"https://.*?.jpg\", test_str)\n",
    "print(ret.group())"
   ]
  },
  {
   "cell_type": "markdown",
   "metadata": {},
   "source": [
    "# **1.3 re: 正则表达式** (unfinished)\n"
   ]
  },
  {
   "cell_type": "markdown",
   "metadata": {},
   "source": [
    "## 已掌握内容1"
   ]
  },
  {
   "cell_type": "markdown",
   "metadata": {},
   "source": [
    "Preparation 介绍得过于详细了。。。\n",
    "\n",
    "start( ) 和 end( ) 方法用于提供索引"
   ]
  },
  {
   "cell_type": "code",
   "execution_count": 1,
   "metadata": {},
   "outputs": [
    {
     "name": "stdout",
     "output_type": "stream",
     "text": [
      "Found \"this\"\n",
      "in \"Does this text match the pattern?\"\n",
      "from 5 to 9 (\"this\")\n"
     ]
    }
   ],
   "source": [
    "# CODE LIST 1-16\n",
    "import re\n",
    "\n",
    "pattern = 'this'\n",
    "text = 'Does this text match the pattern?'\n",
    "\n",
    "match = re.search(pattern, text)\n",
    "\n",
    "s = match.start()\n",
    "e = match.end()\n",
    "\n",
    "print('Found \"{}\"\\nin \"{}\"\\nfrom {} to {} (\"{}\")'.format(\n",
    "    match.re.pattern, match.string, s, e, text[s:e]))\n"
   ]
  },
  {
   "cell_type": "markdown",
   "metadata": {},
   "source": [
    "直接使用已编译表达式可以避免与缓存查找相关的开销"
   ]
  },
  {
   "cell_type": "code",
   "execution_count": 2,
   "metadata": {},
   "outputs": [
    {
     "name": "stdout",
     "output_type": "stream",
     "text": [
      "Text: 'Does this text match the pattern?'\n",
      "\n",
      "Seeking \"this\" -> match!\n",
      "Seeking \"that\" -> no match\n"
     ]
    }
   ],
   "source": [
    "# CODE LIST 1-17\n",
    "import re\n",
    "\n",
    "# Precompile the patterns\n",
    "regexes = [\n",
    "    re.compile(p)\n",
    "    for p in ['this', 'that']\n",
    "]\n",
    "text = 'Does this text match the pattern?'\n",
    "\n",
    "print('Text: {!r}\\n'.format(text))\n",
    "\n",
    "for regex in regexes:\n",
    "    print('Seeking \"{}\" ->'.format(regex.pattern),\n",
    "          end=' ')\n",
    "\n",
    "    if regex.search(text):\n",
    "        print('match!')\n",
    "    else:\n",
    "        print('no match')\n"
   ]
  },
  {
   "cell_type": "markdown",
   "metadata": {},
   "source": [
    "> `print(*objects, sep=' ', end='\\n', file=sys.stdout, flush=False)`\n",
    "> \n",
    "> para sep : 指定分隔符<br>\n",
    "> para end : 指定结尾符\n",
    ">\n",
    "> `format( )`\n",
    ">\n",
    "> 类似于 `%s ... %` 的格式控制方法"
   ]
  },
  {
   "cell_type": "markdown",
   "metadata": {},
   "source": [
    "多重匹配"
   ]
  },
  {
   "cell_type": "code",
   "execution_count": 3,
   "metadata": {},
   "outputs": [
    {
     "name": "stdout",
     "output_type": "stream",
     "text": [
      "Found 'ab'\n",
      "Found 'ab'\n",
      "Found 'ab' at 0:2\n",
      "Found 'ab' at 5:7\n"
     ]
    }
   ],
   "source": [
    "# CODE LIST 1-18, 1-19\n",
    "import re\n",
    "\n",
    "text = 'abbaaabbbbaaaaa'\n",
    "\n",
    "pattern = 'ab'\n",
    "\n",
    "for match in re.findall(pattern, text):\n",
    "    print('Found {!r}'.format(match))\n",
    "\n",
    "for match in re.finditer(pattern, text):\n",
    "    s = match.start()\n",
    "    e = match.end()\n",
    "    print('Found {!r} at {:d}:{:d}'.format(\n",
    "        text[s:e], s, e))"
   ]
  },
  {
   "cell_type": "markdown",
   "metadata": {},
   "source": [
    "## 模式语法"
   ]
  },
  {
   "cell_type": "markdown",
   "metadata": {},
   "source": []
  },
  {
   "cell_type": "code",
   "execution_count": null,
   "metadata": {},
   "outputs": [],
   "source": []
  }
 ],
 "metadata": {
  "interpreter": {
   "hash": "687d78340220d86234540234f2dddb05cc2a368e2fe8eb7ed5800ac5a3920935"
  },
  "kernelspec": {
   "display_name": "Python 3.7.11 ('myenv')",
   "language": "python",
   "name": "python3"
  },
  "language_info": {
   "codemirror_mode": {
    "name": "ipython",
    "version": 3
   },
   "file_extension": ".py",
   "mimetype": "text/x-python",
   "name": "python",
   "nbconvert_exporter": "python",
   "pygments_lexer": "ipython3",
   "version": "3.7.11"
  },
  "orig_nbformat": 4
 },
 "nbformat": 4,
 "nbformat_minor": 2
}
