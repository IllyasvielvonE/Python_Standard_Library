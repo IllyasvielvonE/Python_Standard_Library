{
 "cells": [
  {
   "cell_type": "markdown",
   "metadata": {},
   "source": [
    "# Preparation -- os.path module"
   ]
  },
  {
   "cell_type": "markdown",
   "metadata": {},
   "source": [
    "使用同级目录下 *Remilia.jpg & Scarlet.jpg & Scarlet.lnk* 作为样例对象\n",
    "\n",
    "注意：在Windows中，快捷方式.lnk文件不显示拓展名后缀\n",
    "\n",
    "***.normcase( ) & .normpath( )***\n",
    "- 规范路径的大小写。在 Windows 上，将路径中的所有字符都转换为小写，并将正斜杠转换为反斜杠。在其他操作系统上返回原路径。\n",
    "- 通过折叠多余的分隔符和对上级目录的引用来标准化路径名，所以 A//B、A/B/、A/./B 和 A/foo/../B 都会转换成 A/B。这个字符串操作可能会改变带有符号链接的路径的含义。在 Windows 上，本方法将正斜杠转换为反斜杠。"
   ]
  },
  {
   "cell_type": "code",
   "execution_count": null,
   "metadata": {},
   "outputs": [],
   "source": [
    "import os\n",
    "\n",
    "file_path = './Remilia.jpg'    # 使用相对路径\n",
    "file_abspath = os.path.abspath(file_path)\n",
    "print( file_abspath )\n",
    "print( os.path.basename(file_path) )   # 返回文件名\n",
    "print( os.path.dirname(file_path) )    # 返回目录路径\n",
    "\n",
    "# 分割文件名与路径\n",
    "path_split = os.path.split(file_path)\n",
    "print( path_split, type(path_split) )\n",
    "file_path2 = os.path.join('..','06_OS','Remilia.jpg')    # 将目录和文件名合成一个路径\n",
    "print( file_path2 )\n",
    "\n",
    "print( os.path.normpath('T:/SteamLibrary/steamapps/common\\Mirror 2 Project X') )  # 规范path字符串形式\n",
    "print( os.path.normcase('T:/SteamLibrary/steamapps/common\\Mirror 2 Project X') )  # 大小写\n"
   ]
  },
  {
   "cell_type": "markdown",
   "metadata": {},
   "source": [
    "获得时间的方法，返回值是 **纪元秒数**\n",
    "\n",
    "*Number of seconds since the Unix epoch: 1970/01/01*\n",
    "\n",
    "*.getatime(path): &emsp; return the time of last access of path*<br>\n",
    "*.getmtime(path): &emsp; return the time of last modification of path*<br>\n",
    "*.getctime(path): &emsp; return the creation time of path*<br>\n",
    "\n",
    "***time.gmtime( )*** 方法，将纪元秒数转换为**格林威治标准时间**(***G**reenwich **M**ean **T**ime*)"
   ]
  },
  {
   "cell_type": "code",
   "execution_count": null,
   "metadata": {},
   "outputs": [],
   "source": [
    "import os\n",
    "import time\n",
    "\n",
    "file='./Remilia.jpg' # 文件路径\n",
    "\n",
    "ta = os.path.getatime(file)\n",
    "tm = os.path.getmtime(file)\n",
    "tc = os.path.getctime(file)\n",
    "print(ta, '--', tm, '--', tc)   # 输出最近访问时间，最近修改时间，文件创建时间\n",
    "print( time.gmtime(tm) )  # 以struct_time形式输出最近修改时间\n",
    "\n",
    "print( os.path.getsize(file) )   # 输出文件大小（字节为单位）\n"
   ]
  },
  {
   "cell_type": "code",
   "execution_count": null,
   "metadata": {},
   "outputs": [],
   "source": [
    "# 包含了 os.path module 中所有的方法\n",
    "\n",
    "import os.path\n",
    " \n",
    "abspath = os.path.abspath('./')\n",
    "print(\"返回绝对路径：\", abspath)\n",
    "print(\"返回文件名：\", os.path.basename('./Remilia.jpg'))\n",
    "print('返回路径：', os.path.dirname(abspath + '/Scarlet.jpg'))\n",
    " \n",
    " \n",
    "lst = [abspath + '/Scarlet.jpg', abspath + '/Remilia.jpg']\n",
    "print(\"返回list(多个路径)中，所有path共有的最长的路径：\", os.path.commonpath(lst))\n",
    " \n",
    "print('--------------------------SPLIT--------------------------------')\n",
    "\n",
    "print(\"路径是否存在 %s:%s\" % (abspath, os.path.exists(abspath)))\n",
    "print(\"转换path中~为用户目录\", os.path.expanduser(\"~\"))\n",
    "print(\"根据环境变量进行替换$HOME:\", os.path.expandvars(\"$HOME\"))\n",
    "\n",
    "# print(\"返回最近文件访问时间：\", os.path.getatime(abspath + '/Scarlet.jpg'))\n",
    "# print(\"返回最近文件修改时间：\", os.path.getmtime(abspath + '/Scarlet.jpg'))\n",
    "# print(\"返回文件创建时间：\", os.path.getctime(abspath + '/Scarlet.jpg'))\n",
    "# print(\"返回文件大小：\", os.path.getsize(abspath + '/Scarlet.jpg'))\n",
    "\n",
    "print('--------------------------SPLIT--------------------------------')\n",
    "\n",
    "print(\"返回是否为绝对路径：%s:%s;%s:%s\" % (abspath + '/Scarlet.jpg', os.path.isabs(abspath + '/Scarlet.jpg'), './Scarlet.jpg',\n",
    "                                 os.path.isabs('./Scarlet.jpg')))\n",
    "print(\"返回是否为文件：%s:%s;%s:%s\" % (\n",
    "    abspath + '/Scarlet.jpg', os.path.isfile(abspath + '/Scarlet.jpg'), abspath, os.path.isfile(abspath)))\n",
    "print(\"返回是否为路径：%s:%s;%s:%s\" % (\n",
    "    abspath + '/Scarlet.jpg', os.path.isdir(abspath + '/Scarlet.jpg'), abspath, os.path.isdir(abspath)))\n",
    "print(\"返回是否是链接：%s:%s:%s:%s\" % (abspath + '/Scarlet.jpg', os.path.islink(abspath + '/Scarlet.jpg'), abspath + '/Scarlet.lnk',\n",
    "                               os.path.islink(abspath + '/Scarlet.lnk')))\n",
    "print(\"返回是否是挂载点：%s:%s;%s:%s\" % (\"/home\", os.path.ismount(\"/home\"), abspath, os.path.ismount(abspath)))\n",
    "\n",
    "print('--------------------------SPLIT--------------------------------')\n",
    "\n",
    "# print(\"转换path的大小写和斜杆：C:/xXx\\yYy\\Zzz:%s\" % os.path.normcase(\"C:/xXx\\yYy\\Zzz:%s\")) for windows\n",
    "# print(\"规范path的真实路径：C:/xXx\\yYy\\Zzz:%s\" % os.path.normpath(\"C:/xXx\\yYy\\Zzz:%s\")) for windows\n",
    "print(\"真实路径：%s:%s\" % (abspath + \"/c.link\", os.path.realpath(abspath + \"/c.link\")))\n",
    "print(\"计算相对路径：path1:%s; path2:%s; relative path:%s\" % (\n",
    "    abspath, abspath + \"/../..\", os.path.relpath(abspath, abspath + \"/../..\")))\n",
    "print(\"判断目录和文件是否相同：dir1: %s; dir2:%s;whether same:%s\" % (\n",
    "    abspath + \"/Scarlet.jpg\", abspath + \"/Scarlet.lnk\", os.path.samefile(abspath + \"/Scarlet.jpg\", abspath + \"/Scarlet.lnk\")))\n",
    "\n",
    "print('--------------------------SPLIT--------------------------------')\n",
    "\n",
    "file1 = open(\"./Scarlet.jpg\")\n",
    "file2 = open(\"./Scarlet.lnk\")\n",
    "fp1 = file1.fileno()\n",
    "fp2 = file2.fileno()\n",
    "print(\"判断打开的文件是否相同：%s\" % os.path.sameopenfile(fp1, fp2))\n",
    "file1.close()\n",
    "file2.close()\n",
    " \n",
    "stat1 = os.stat(abspath + \"/Scarlet.jpg\")\n",
    "stat2 = os.stat(abspath + \"/Scarlet.lnk\")\n",
    "print(\"判断stat tuple stat1和stat2是否指向同一个文件：%s\" % os.path.samestat(stat1, stat2))"
   ]
  },
  {
   "cell_type": "markdown",
   "metadata": {},
   "source": [
    "# OS"
   ]
  },
  {
   "cell_type": "markdown",
   "metadata": {},
   "source": [
    "os中定义的一些变量：\n",
    "- *os.sep*：路径分隔符（如 \"/\"，\"\\\\\"）\n",
    "- *os.extsep*：拓展名分隔符（如\".\"）\n",
    "- *os.pardir*：父级路径（如\"..\"）\n",
    "- *os.curdir*：当前路径（如\".\"）"
   ]
  },
  {
   "cell_type": "markdown",
   "metadata": {},
   "source": [
    "## 6.1 os.path\n"
   ]
  },
  {
   "cell_type": "markdown",
   "metadata": {},
   "source": [
    "### 6.1.1 解析路径\n",
    "\n",
    "- ***.split( )***\n",
    "- *.basename( )*\n",
    "- *.dirname( )*\n",
    "- ***.splittext( )***\n",
    "\n",
    "- *.commonprefix( )*\n",
    "- *.commonpath( )*"
   ]
  },
  {
   "cell_type": "code",
   "execution_count": null,
   "metadata": {},
   "outputs": [],
   "source": [
    "# CDOE LIST 6-1 ~ 6-3\n",
    "# 注意结果的空串部分\n",
    "import os.path\n",
    "\n",
    "PATHS = [\n",
    "    '/one/two/three',\n",
    "    '/one/two/three/',\n",
    "    '/',\n",
    "    '.',\n",
    "    '',\n",
    "]\n",
    "\n",
    "for path in PATHS:\n",
    "    print('{!r:>17} : {}'.format(path, os.path.split(path)))\n",
    "    # 参考 format 方法，!r 控制输出包含引号的原始字符串？？，\n",
    "    # :>17 控制输出在17位空间中右对齐\n",
    "\n",
    "# 可以理解为：basename + dirname = split\n",
    "for path in PATHS:\n",
    "    print('{!r:>17} : {!r}'.format(path, os.path.basename(path)))\n",
    "\n",
    "for path in PATHS:\n",
    "    print('{!r:>17} : {!r}'.format(path, os.path.dirname(path)))"
   ]
  },
  {
   "cell_type": "code",
   "execution_count": null,
   "metadata": {},
   "outputs": [],
   "source": [
    "# CODE LIST 6-4\n",
    "# 以《最后一个 os.extsp》作为分割标志\n",
    "PATHS = [\n",
    "    'filename.txt',\n",
    "    'filename',\n",
    "    '/path/to/filename.txt',\n",
    "    '/',\n",
    "    '',\n",
    "    'my-archive.tar.gz',\n",
    "    'no-extension.',\n",
    "]\n",
    "\n",
    "for path in PATHS:\n",
    "    print('{!r:>21} : {!r}'.format(path, os.path.splitext(path)))"
   ]
  },
  {
   "cell_type": "code",
   "execution_count": null,
   "metadata": {},
   "outputs": [],
   "source": [
    "# CODE LIST 6-5, 6-6\n",
    "# commonprefix 寻找路径列表中的公共前缀\n",
    "# commonpath 寻找路径列表中的公共路径\n",
    "import os.path\n",
    "\n",
    "paths = ['/one/two/three/four',\n",
    "         '/one/two/threefold',\n",
    "         '/one/two/three/',\n",
    "         ]\n",
    "for path in paths:\n",
    "    print('PATH:', path)\n",
    "\n",
    "print()\n",
    "print('PREFIX:', os.path.commonprefix(paths))\n",
    "print('PATH:', os.path.commonpath(paths))\n",
    "# 观察到在 Windows 系统上 commonpath 返回值用的反斜杠作为分隔符"
   ]
  },
  {
   "cell_type": "markdown",
   "metadata": {},
   "source": [
    "### 6.1.2 建立路径\n",
    "\n",
    "- *.join( )*\n",
    "\n",
    "- *.expanduser( )*\n",
    "- ***.expandvars( )***"
   ]
  },
  {
   "cell_type": "code",
   "execution_count": null,
   "metadata": {},
   "outputs": [],
   "source": [
    "# CODE LIST 6-7\n",
    "import os.path\n",
    "\n",
    "a = ('..','06_OS','Remilia.jpg')\n",
    "print('abcdefg : {!r}'.format(os.path.join(*a)))\n",
    "print('abcdefg : {}'.format(os.path.join(*a)))\n",
    "# 观察到使用 {!r} 控制格式会输出 '..\\\\06_OS\\\\Remilia.jpg'，\n",
    "# 和书中结果（单斜杠，且为正斜杠）不同，可能与 Windows 系统有关\n",
    "\n",
    "PATHS = [\n",
    "    ('one', 'two', 'three'),\n",
    "    ('/', 'one', 'two', 'three'),\n",
    "    ('/one', '/two', '/three'),\n",
    "]\n",
    "\n",
    "for parts in PATHS:\n",
    "    print('{!r:>28} : {!r}'.format(parts, os.path.join(*parts)))\n",
    "    # 尝试结果：元组类型的 parts 无法用 :28 等控制输出长度，只有 !r:>28 成功了 "
   ]
  },
  {
   "cell_type": "code",
   "execution_count": null,
   "metadata": {},
   "outputs": [],
   "source": [
    "# CODE LIST 6-8, 6-9\n",
    "import os\n",
    "import os.path\n",
    "\n",
    "# 利用 expanduser() 将波浪线 ~ 字符转换为用户主目录名\n",
    "# for user in ['', 'dhellmann', 'nosuchuser']:\n",
    "#     lookup = '~' + user\n",
    "#     print('{!r:>15} : {!r}'.format(\n",
    "#         lookup, os.path.expanduser(lookup)))\n",
    "\n",
    "# 这里也有同样的问题，不使用 !r 控制输出格式就好了\n",
    "for user in ['', 'legion', 'nosuchuser']:\n",
    "    lookup = '~' + user\n",
    "    print('{!r:>15} : {}'.format(\n",
    "        lookup, os.path.expanduser(lookup)))\n",
    "\n",
    "print()\n",
    "\n",
    "# 按原文：\"expandvars() 会扩展路径中出现的所有shell环境变量\" （未理解）\n",
    "os.environ['MYVAR'] = 'VALUE'\n",
    "\n",
    "print(os.path.expandvars('/path/to/$MYVAR'))"
   ]
  },
  {
   "cell_type": "markdown",
   "metadata": {},
   "source": [
    "### 6.1.3 规范化路径\n",
    "\n",
    "- *normpath( )*\n",
    "\n",
    "- *abspath( )*"
   ]
  },
  {
   "cell_type": "code",
   "execution_count": null,
   "metadata": {},
   "outputs": [],
   "source": [
    "# CODE LIST 6-10, 6-11\n",
    "# 做了部分修改以满足 Windows 环境\n",
    "import os\n",
    "import os.path\n",
    "\n",
    "PATHS = [\n",
    "    'one//two//three',\n",
    "    'one/./two/./three',\n",
    "    'one/../alt/two/three',\n",
    "]\n",
    "\n",
    "# normpath() 清除多于分隔符和相对路径部分\n",
    "for path in PATHS:\n",
    "    print('{!r:>22} : {}'.format(path, os.path.normpath(path)))\n",
    "\n",
    "print()\n",
    "\n",
    "os.chdir('/Users')\n",
    "\n",
    "PATHS = [\n",
    "    '.',\n",
    "    '..',\n",
    "    './one/two/three',\n",
    "    '../one/two/three',\n",
    "]\n",
    "\n",
    "for path in PATHS:\n",
    "    print('{!r:>21} : {}'.format(path, os.path.abspath(path)))\n"
   ]
  },
  {
   "cell_type": "markdown",
   "metadata": {},
   "source": [
    "### 6.1.4 文件时间\n",
    "\n",
    "- ***os.stat( )***\n",
    "\n",
    "- *.getctime( )&ensp;etc. .getsize( )*"
   ]
  },
  {
   "cell_type": "markdown",
   "metadata": {},
   "source": [
    "***\\_\\_file\\_\\_***：返回当前文件路径\n",
    "\n",
    "> 一说：如果当前文件包含在sys.path里面，那么，__file__返回一个相对路径\n",
    "\n",
    "ipynb可能不能用，这里直接记录用py文件的运行结果"
   ]
  },
  {
   "cell_type": "code",
   "execution_count": null,
   "metadata": {},
   "outputs": [],
   "source": [
    "# CODE LIST 6-12\n",
    "import os.path\n",
    "import time\n",
    "\n",
    "print('File         :', __file__)\n",
    "print('Access time  :', time.ctime(os.path.getatime(__file__)))\n",
    "print('Modified time:', time.ctime(os.path.getmtime(__file__)))\n",
    "print('Change time  :', time.ctime(os.path.getctime(__file__)))\n",
    "print('Size         :', os.path.getsize(__file__))\n",
    "\n",
    "# File         : ospath_properties.py\n",
    "# Access time  : Mon Apr 18 16:48:41 2022\n",
    "# Modified time: Sat Nov 12 06:18:44 2016\n",
    "# Change time  : Fri Apr 15 18:27:20 2022\n",
    "# Size         : 481\n"
   ]
  },
  {
   "cell_type": "markdown",
   "metadata": {},
   "source": [
    "### 6.1.5 测试文件"
   ]
  },
  {
   "cell_type": "code",
   "execution_count": null,
   "metadata": {},
   "outputs": [],
   "source": [
    "# CODE LIST 6-13\n",
    "import os.path\n",
    "\n",
    "FILENAMES = [\n",
    "    __file__,\n",
    "    os.path.dirname(__file__),\n",
    "    '/',\n",
    "    './broken_link',\n",
    "]\n",
    "\n",
    "for file in FILENAMES:\n",
    "    print('File        : {!r}'.format(file))\n",
    "    print('Absolute    :', os.path.isabs(file))\n",
    "    print('Is File?    :', os.path.isfile(file))\n",
    "    print('Is Dir?     :', os.path.isdir(file))\n",
    "    print('Is Link?    :', os.path.islink(file))\n",
    "    print('Mountpoint? :', os.path.ismount(file))\n",
    "    print('Exists?     :', os.path.exists(file))\n",
    "    print('Link Exists?:', os.path.lexists(file))\n",
    "    print()\n",
    "\n",
    "# File        : 'ospath_tests.py'\n",
    "# Absolute    : False\n",
    "# Is File?    : True\n",
    "# Is Dir?     : False\n",
    "# Is Link?    : False\n",
    "# Mountpoint? : False\n",
    "# Exists?     : True\n",
    "# Link Exists?: True\n",
    "\n",
    "# File        : ''\n",
    "# Absolute    : False\n",
    "# Is File?    : False\n",
    "# Is Dir?     : False\n",
    "# Is Link?    : False\n",
    "# Mountpoint? : False\n",
    "# Exists?     : False\n",
    "# Link Exists?: False\n",
    "\n",
    "# File        : '/'\n",
    "# Absolute    : True\n",
    "# Is File?    : False\n",
    "# Is Dir?     : True\n",
    "# Is Link?    : False\n",
    "# Mountpoint? : True\n",
    "# Exists?     : True\n",
    "# Link Exists?: True\n",
    "\n",
    "# File        : './broken_link'\n",
    "# Absolute    : False\n",
    "# Is File?    : False\n",
    "# Is Dir?     : False\n",
    "# Is Link?    : False\n",
    "# Mountpoint? : False\n",
    "# Exists?     : False\n",
    "# Link Exists?: False\n"
   ]
  }
 ],
 "metadata": {
  "interpreter": {
   "hash": "687d78340220d86234540234f2dddb05cc2a368e2fe8eb7ed5800ac5a3920935"
  },
  "kernelspec": {
   "display_name": "Python 3.7.11 ('myenv')",
   "language": "python",
   "name": "python3"
  },
  "language_info": {
   "codemirror_mode": {
    "name": "ipython",
    "version": 3
   },
   "file_extension": ".py",
   "mimetype": "text/x-python",
   "name": "python",
   "nbconvert_exporter": "python",
   "pygments_lexer": "ipython3",
   "version": "3.7.11"
  },
  "orig_nbformat": 4
 },
 "nbformat": 4,
 "nbformat_minor": 2
}
