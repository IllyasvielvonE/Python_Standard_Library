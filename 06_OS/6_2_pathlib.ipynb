{
 "cells": [
  {
   "cell_type": "markdown",
   "metadata": {},
   "source": [
    "官方文档：[pathlib --- 面向对象的文件系统路径](https://docs.python.org/zh-cn/3/library/pathlib.html)\n",
    "\n",
    "![pathlib-inheritance](./pathlib-inheritance.png \"pathlib-inheritance\")\n",
    "\n",
    "**区别:**\n",
    "\n",
    "> Python是跨平台的，可以在不同的操作系统上运行。但是不同系统上路径 的表示方式是不一样的。<br>\n",
    "> 例如windows上路径使用“\\”分割子目录和父目录，linux上是使用“/”来分割。这就是PurePosixPath、PureWindowsPath出现的原因。<br>\n",
    "> PureWindowsPath：这种路径风格是在windows系统下使用的；<br>\n",
    "> PurePosixPath：这种路径风格是在非windows系统下使用的；<br>\n",
    "> Pure paths：是PureWindowsPath和PurePosixPath的父类\n",
    "\n",
    "(感觉子模块的函数大部分相同)"
   ]
  },
  {
   "cell_type": "markdown",
   "metadata": {},
   "source": [
    "## pathlib.Path (Say Goodbye to os.path)\n",
    "\n",
    "Path将文件或者文件夹路径（str）转换为Path对象， 可以实现不同OS路径连接符问题不同、以及对该路径的其他操作，如判断是否为文件、文件夹，根据路径创建创建文件夹（包括是否递归创建缺少的文件夹）等。\n",
    "\n",
    "[pathlib 基本用法](https://cloud.tencent.com/developer/article/1699664)\n",
    "\n",
    "#### Method 和 Property 不同\n",
    "p.iterdir() 等同于 Path.iterdir(p)<br>\n",
    "p.parent 不可写作 Path.parent(p)"
   ]
  },
  {
   "cell_type": "code",
   "execution_count": 42,
   "metadata": {},
   "outputs": [
    {
     "name": "stdout",
     "output_type": "stream",
     "text": [
      "<class 'pathlib.WindowsPath'> m:\\Scripts\\Py_Standard_Library\\06_OS\n",
      "m:\\Scripts\\Py_Standard_Library\\06_OS\\Remilia.jpg\n",
      "m:\\Scripts\\Py_Standard_Library\n",
      "<WindowsPath.parents>\n",
      "-------- PARENTS --------\n",
      "m:\\Scripts\\Py_Standard_Library\n",
      "m:\\Scripts\n",
      "m:\\\n",
      "-------- CHILDREN --------\n",
      "<generator object Path.iterdir at 0x0000027ACF986D48>\n",
      "m:\\Scripts\\Py_Standard_Library\\06_OS\\6_1_ospath.ipynb\n",
      "m:\\Scripts\\Py_Standard_Library\\06_OS\\6_2_pathlib.ipynb\n",
      "m:\\Scripts\\Py_Standard_Library\\06_OS\\CODE LIST\n",
      "m:\\Scripts\\Py_Standard_Library\\06_OS\\pathlib-inheritance.png\n",
      "m:\\Scripts\\Py_Standard_Library\\06_OS\\pathlib.md\n",
      "m:\\Scripts\\Py_Standard_Library\\06_OS\\Remilia.jpg\n",
      "m:\\Scripts\\Py_Standard_Library\\06_OS\\Scarlet.jpg\n",
      "m:\\Scripts\\Py_Standard_Library\\06_OS\\Scarlet.lnk\n",
      "m:\\Scripts\\Py_Standard_Library\\06_OS\\test.py\n",
      "\n",
      " 06_OS\n",
      ".jpg\n",
      "Remilia\n",
      "('m:\\\\', 'Scripts', 'Py_Standard_Library', '06_OS') <class 'tuple'>\n"
     ]
    }
   ],
   "source": [
    "from pathlib import Path\n",
    "import os.path\n",
    "expath = os.path.abspath('./')\n",
    "p = Path(expath)\n",
    "print(type(p),p)\n",
    "\n",
    "# ----------------- 路径移动 ----------------------------\n",
    "# 将字符串转换为 Path 对象，可以之间利用 slash \"/\" 等进行路径移动\n",
    "# 相较于 os.path.dirname, os.path.join 等更为便捷\n",
    "print( p / 'Remilia.jpg' ) # 路径运算符 /\n",
    "print( p.parent )\n",
    "print( p.parents )\n",
    "print('-------- PARENTS --------')\n",
    "for i in p.parents:\n",
    "    print(i)\n",
    "print('-------- CHILDREN --------')\n",
    "print(p.iterdir()) # 文件夹下的所有文件、文件夹路径的 generator\n",
    "for i in p.iterdir():\n",
    "    print(i)\n",
    "\n",
    "# ----------------- 文件名操作 ----------------------------\n",
    "print( '\\n', p.name ) # 获取文件名\n",
    "print( (p/'Remilia.jpg').suffix ) # 获取文件名后缀\n",
    "print( (p/'Remilia.jpg').stem ) # 获取文件名除去后缀\n",
    "print( p.parts, type(p.parts) ) # 将路径基于分隔符分割为一个元组"
   ]
  },
  {
   "cell_type": "code",
   "execution_count": 36,
   "metadata": {},
   "outputs": [
    {
     "name": "stdout",
     "output_type": "stream",
     "text": [
      "m:\\Scripts\\Py_Standard_Library\\06_OS\n",
      "True\n",
      "Is direction?  True\n",
      "Is file?       False\n",
      "Is absolute?   True\n",
      "Match pattern? True\n",
      "M:\\Scripts\\Py_Standard_Library\\06_OS\\Remilia.jpg\n"
     ]
    }
   ],
   "source": [
    "print(p)\n",
    "print( (p/'RemiliA.jpg').exists() ) # 判断当前路径是否存在文件，注意大小写不敏感？\n",
    "\n",
    "print( 'Is direction? ', p.is_dir() ) # 判断是否为文件夹\n",
    "print( 'Is file?      ', p.is_file() )\n",
    "print( 'Is absolute?  ', p.is_absolute() ) # 判断是否为绝对路径\n",
    "\n",
    "pattern = './Remilia.jpg'\n",
    "p2 = Path('./Remilia.jpg')\n",
    "print( 'Match pattern?', p2.match(pattern) )\n",
    "print( p2.resolve() ) # 获得绝对路径"
   ]
  },
  {
   "cell_type": "code",
   "execution_count": 37,
   "metadata": {},
   "outputs": [
    {
     "name": "stdout",
     "output_type": "stream",
     "text": [
      "m:\\Scripts\\Py_Standard_Library\\06_OS --- C:\\Users\\legion\n",
      "Remilia.jpg\n",
      "os.stat_result(st_mode=16895, st_ino=1688849860338371, st_dev=1713943922, st_nlink=1, st_uid=0, st_gid=0, st_size=4096, st_atime=1650635525, st_mtime=1650590259, st_ctime=1650018381)\n",
      ">>  4096\n",
      ">> create_time time.struct_time(tm_year=2022, tm_mon=4, tm_mday=15, tm_hour=18, tm_min=26, tm_sec=21, tm_wday=4, tm_yday=105, tm_isdst=0)\n",
      ">> create_time 2022-04-15 18:26:21.468004\n"
     ]
    }
   ],
   "source": [
    "import time\n",
    "import datetime\n",
    "p1 = Path.cwd()\n",
    "p2 = Path.home() # Returns the user's home directory\n",
    "p3 = Path('./Remilia.jpg')\n",
    "print(p1,'---',p2)\n",
    "print(p3.expanduser())\n",
    "\n",
    "print( p.stat() ) # 获取当前文件信息\n",
    "print('>> ', p.stat().st_size )\n",
    "print('>> create_time', time.localtime(p.stat().st_ctime) ) # atime, mtime 同理\n",
    "print('>> create_time', datetime.datetime.fromtimestamp(p.stat().st_ctime) )"
   ]
  },
  {
   "cell_type": "markdown",
   "metadata": {},
   "source": [
    "## Path (Advanced)"
   ]
  },
  {
   "cell_type": "markdown",
   "metadata": {},
   "source": []
  },
  {
   "cell_type": "code",
   "execution_count": 44,
   "metadata": {},
   "outputs": [
    {
     "name": "stdout",
     "output_type": "stream",
     "text": [
      "<class 'generator'>\n",
      "m:\\Scripts\\Py_Standard_Library\\06_OS\\test\\test.py\n"
     ]
    }
   ],
   "source": [
    "from pathlib import Path\n",
    "\n",
    "path = './test'\n",
    "p = Path(path).absolute()\n",
    "file_name = p.glob('**/*.py')\n",
    "print(type(file_name))   # <class 'generator'>\n",
    "for i in file_name:\n",
    "    print(i)"
   ]
  },
  {
   "cell_type": "code",
   "execution_count": 45,
   "metadata": {},
   "outputs": [
    {
     "name": "stdout",
     "output_type": "stream",
     "text": [
      "[WindowsPath('CODE LIST/pathlib/example.txt'), WindowsPath('CODE LIST/pathlib/pathlib_chmod_example.txt'), WindowsPath('Remilia.jpg'), WindowsPath('Scarlet.jpg'), WindowsPath('CODE LIST/ospath/ospath_abspath.py'), WindowsPath('CODE LIST/ospath/ospath_basename.py'), WindowsPath('CODE LIST/ospath/ospath_commonpath.py'), WindowsPath('CODE LIST/ospath/ospath_commonprefix.py'), WindowsPath('CODE LIST/ospath/ospath_dirname.py'), WindowsPath('CODE LIST/ospath/ospath_expanduser.py'), WindowsPath('CODE LIST/ospath/ospath_expandvars.py'), WindowsPath('CODE LIST/ospath/ospath_join.py'), WindowsPath('CODE LIST/ospath/ospath_normpath.py'), WindowsPath('CODE LIST/ospath/ospath_properties.py'), WindowsPath('CODE LIST/ospath/ospath_split.py'), WindowsPath('CODE LIST/ospath/ospath_splitext.py'), WindowsPath('CODE LIST/ospath/ospath_tests.py'), WindowsPath('CODE LIST/pathlib/pathlib_chmod.py'), WindowsPath('CODE LIST/pathlib/pathlib_convenience.py'), WindowsPath('CODE LIST/pathlib/pathlib_from_existing.py'), WindowsPath('CODE LIST/pathlib/pathlib_glob.py'), WindowsPath('CODE LIST/pathlib/pathlib_iterdir.py'), WindowsPath('CODE LIST/pathlib/pathlib_joinpath.py'), WindowsPath('CODE LIST/pathlib/pathlib_mkdir.py'), WindowsPath('CODE LIST/pathlib/pathlib_name.py'), WindowsPath('CODE LIST/pathlib/pathlib_operator.py'), WindowsPath('CODE LIST/pathlib/pathlib_ownership.py'), WindowsPath('CODE LIST/pathlib/pathlib_parents.py'), WindowsPath('CODE LIST/pathlib/pathlib_parts.py'), WindowsPath('CODE LIST/pathlib/pathlib_read_write.py'), WindowsPath('CODE LIST/pathlib/pathlib_resolve.py'), WindowsPath('CODE LIST/pathlib/pathlib_rglob.py'), WindowsPath('CODE LIST/pathlib/pathlib_rmdir.py'), WindowsPath('CODE LIST/pathlib/pathlib_stat.py'), WindowsPath('CODE LIST/pathlib/pathlib_symlink_to.py'), WindowsPath('CODE LIST/pathlib/pathlib_touch.py'), WindowsPath('CODE LIST/pathlib/pathlib_types.py'), WindowsPath('CODE LIST/pathlib/pathlib_unlink.py'), WindowsPath('test/test.py')]\n",
      "CODE LIST\\pathlib\\example.txt\n",
      "CODE LIST\\pathlib\\pathlib_chmod_example.txt\n",
      "Remilia.jpg\n",
      "Scarlet.jpg\n",
      "CODE LIST\\ospath\\ospath_abspath.py\n",
      "CODE LIST\\ospath\\ospath_basename.py\n",
      "CODE LIST\\ospath\\ospath_commonpath.py\n",
      "CODE LIST\\ospath\\ospath_commonprefix.py\n",
      "CODE LIST\\ospath\\ospath_dirname.py\n",
      "CODE LIST\\ospath\\ospath_expanduser.py\n",
      "CODE LIST\\ospath\\ospath_expandvars.py\n",
      "CODE LIST\\ospath\\ospath_join.py\n",
      "CODE LIST\\ospath\\ospath_normpath.py\n",
      "CODE LIST\\ospath\\ospath_properties.py\n",
      "CODE LIST\\ospath\\ospath_split.py\n",
      "CODE LIST\\ospath\\ospath_splitext.py\n",
      "CODE LIST\\ospath\\ospath_tests.py\n",
      "CODE LIST\\pathlib\\pathlib_chmod.py\n",
      "CODE LIST\\pathlib\\pathlib_convenience.py\n",
      "CODE LIST\\pathlib\\pathlib_from_existing.py\n",
      "CODE LIST\\pathlib\\pathlib_glob.py\n",
      "CODE LIST\\pathlib\\pathlib_iterdir.py\n",
      "CODE LIST\\pathlib\\pathlib_joinpath.py\n",
      "CODE LIST\\pathlib\\pathlib_mkdir.py\n",
      "CODE LIST\\pathlib\\pathlib_name.py\n",
      "CODE LIST\\pathlib\\pathlib_operator.py\n",
      "CODE LIST\\pathlib\\pathlib_ownership.py\n",
      "CODE LIST\\pathlib\\pathlib_parents.py\n",
      "CODE LIST\\pathlib\\pathlib_parts.py\n",
      "CODE LIST\\pathlib\\pathlib_read_write.py\n",
      "CODE LIST\\pathlib\\pathlib_resolve.py\n",
      "CODE LIST\\pathlib\\pathlib_rglob.py\n",
      "CODE LIST\\pathlib\\pathlib_rmdir.py\n",
      "CODE LIST\\pathlib\\pathlib_stat.py\n",
      "CODE LIST\\pathlib\\pathlib_symlink_to.py\n",
      "CODE LIST\\pathlib\\pathlib_touch.py\n",
      "CODE LIST\\pathlib\\pathlib_types.py\n",
      "CODE LIST\\pathlib\\pathlib_unlink.py\n",
      "test\\test.py\n"
     ]
    }
   ],
   "source": [
    "from pathlib import Path\n",
    "\n",
    "def get_files(patterns, path):\n",
    "    all_files = []\n",
    "    p = Path(path)\n",
    "    for item in patterns:\n",
    "        file_name = p.rglob(f'**/*{item}')\n",
    "        all_files.extend(file_name)\n",
    "    return all_files\n",
    "\n",
    "path = input('>>>请输入文件路径：')\n",
    "results = get_files(['.txt', '.jpg', '.py'], path)\n",
    "print(results)\n",
    "for file in results:\n",
    "    print(file)"
   ]
  },
  {
   "cell_type": "markdown",
   "metadata": {},
   "source": [
    "# 6.2 pathlib：文件系统路径作为对象"
   ]
  },
  {
   "cell_type": "markdown",
   "metadata": {},
   "source": [
    "## 6.2.2 建立路径\n",
    "\n",
    "- 使用操作符 ***/*** 来扩展路径\n",
    "- 规范化路径 *resovle( )* 方法\n",
    "- *joint( )* 方法，在路径段未知时建立路径\n",
    "- ***with_name( )*** 方法，从已有文件路径，创建同一目录下的不同文件路径\n",
    "- ***with_suffix( )*** 方法，替换已有文件路径的后缀"
   ]
  },
  {
   "cell_type": "code",
   "execution_count": 38,
   "metadata": {},
   "outputs": [
    {
     "name": "stdout",
     "output_type": "stream",
     "text": [
      "/usr\n",
      "/usr/local\n",
      "/usr/share\n",
      "/usr/..\n",
      "/etc\n"
     ]
    }
   ],
   "source": [
    "# CODE LIST 6-14\n",
    "import pathlib\n",
    "\n",
    "usr = pathlib.PurePosixPath('/usr')\n",
    "print(usr)\n",
    "\n",
    "usr_local = usr / 'local'\n",
    "print(usr_local)\n",
    "\n",
    "usr_share = usr / pathlib.PurePosixPath('share')\n",
    "print(usr_share)\n",
    "\n",
    "root = usr / '..'\n",
    "print(root)\n",
    "\n",
    "etc = root / '/etc/'\n",
    "print(etc)"
   ]
  },
  {
   "cell_type": "code",
   "execution_count": 50,
   "metadata": {},
   "outputs": [
    {
     "name": "stdout",
     "output_type": "stream",
     "text": [
      "M:\\usr\\share\n",
      "/usr/local\n"
     ]
    }
   ],
   "source": [
    "# CODE LIST 6-15,16\n",
    "import pathlib\n",
    "\n",
    "usr_local = pathlib.Path('/usr/local')\n",
    "share = usr_local / '..' / 'share'\n",
    "print(share.resolve())\n",
    "\n",
    "root = pathlib.PurePosixPath('/')\n",
    "subdirs = ['usr', 'local']\n",
    "usr_local = root.joinpath(*subdirs) # 星号* 用于传入列表的值\n",
    "print(usr_local)"
   ]
  },
  {
   "cell_type": "code",
   "execution_count": 53,
   "metadata": {},
   "outputs": [
    {
     "name": "stdout",
     "output_type": "stream",
     "text": [
      "source/pathlib/index.rst\n",
      "source/pathlib/pathlib_from_existing.py\n",
      "source/pathlib/pathlib_from_existing.pyc\n"
     ]
    }
   ],
   "source": [
    "# CODE LIST 6-17\n",
    "import pathlib\n",
    "\n",
    "ind = pathlib.PurePosixPath('source/pathlib/index.rst')\n",
    "print(ind)\n",
    "\n",
    "py = ind.with_name('pathlib_from_existing.py')\n",
    "print(py)\n",
    "\n",
    "pyc = py.with_suffix('.pyc')\n",
    "print(pyc)"
   ]
  },
  {
   "cell_type": "markdown",
   "metadata": {},
   "source": [
    "## 6.2.3 解析路径\n",
    "\n"
   ]
  },
  {
   "cell_type": "markdown",
   "metadata": {},
   "source": [
    "## 6.2.4 创建具体路径\n",
    "\n",
    "\n"
   ]
  },
  {
   "cell_type": "markdown",
   "metadata": {},
   "source": [
    "## 6.2.5 目录内容\n",
    "\n"
   ]
  }
 ],
 "metadata": {
  "interpreter": {
   "hash": "687d78340220d86234540234f2dddb05cc2a368e2fe8eb7ed5800ac5a3920935"
  },
  "kernelspec": {
   "display_name": "Python 3.7.11 ('myenv')",
   "language": "python",
   "name": "python3"
  },
  "language_info": {
   "codemirror_mode": {
    "name": "ipython",
    "version": 3
   },
   "file_extension": ".py",
   "mimetype": "text/x-python",
   "name": "python",
   "nbconvert_exporter": "python",
   "pygments_lexer": "ipython3",
   "version": "3.7.11"
  },
  "orig_nbformat": 4
 },
 "nbformat": 4,
 "nbformat_minor": 2
}
