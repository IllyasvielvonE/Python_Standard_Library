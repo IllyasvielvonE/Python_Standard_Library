{
 "cells": [
  {
   "cell_type": "markdown",
   "metadata": {},
   "source": [
    "参考官方文档：[Python calendar 模块](https://docs.python.org/zh-cn/3.9/library/calendar.html#module-calendar)\n",
    "\n",
    "*class calendar.**TextCalendar( firstweekday=0 )***\n",
    "\n",
    "用于生成纯文本日历"
   ]
  },
  {
   "cell_type": "markdown",
   "metadata": {},
   "source": [
    "# 4.3 calendar: Work with Dates\n",
    "\n",
    "*class calendar.**Calendar( firstweekday=0 )***\n",
    "\n",
    "创建一个 Calendar 对象。 firstweekday 指定一周的第一天 (0-6 周一至周日)"
   ]
  },
  {
   "cell_type": "markdown",
   "metadata": {},
   "source": [
    "## 4.3.1 Formatting Examples\n",
    "\n",
    "TextCalendar 实例所有的方法：\n",
    "- ***.prmonth(theyear, themonth)*** \n",
    "- *pryear( theyear, w=2, l=1, c=6, m=3 )*"
   ]
  },
  {
   "cell_type": "code",
   "execution_count": 10,
   "metadata": {},
   "outputs": [
    {
     "name": "stdout",
     "output_type": "stream",
     "text": [
      "     July 2017\n",
      "Mo Tu We Th Fr Sa Su\n",
      "                1  2\n",
      " 3  4  5  6  7  8  9\n",
      "10 11 12 13 14 15 16\n",
      "17 18 19 20 21 22 23\n",
      "24 25 26 27 28 29 30\n",
      "31\n"
     ]
    }
   ],
   "source": [
    "# CODE LIST 4-28\n",
    "import calendar\n",
    "\n",
    "c = calendar.TextCalendar(calendar.MONDAY)\n",
    "c.prmonth(2017, 7)\n",
    "# c.pryear(1919)\n",
    "\n",
    "# c = calendar.TextCalendar(firstweekday=0)\n",
    "# c.prmonth(1919, 8)"
   ]
  },
  {
   "cell_type": "markdown",
   "metadata": {},
   "source": [
    "《棒读》利用 HTMLCalendar formatmonth( ) 可以生成一个类似的 HTML 表格。显示的\n",
    "输出看起来与纯文本的版本大致是一样的，不过会用 HTML 标记包围。各个表单元格有一\n",
    "个类属性对应星期几，从而可以通过 CSS 指定 HTML 的样式。\n",
    "\n",
    "除了可用的默认格式外，要想以其他的某种格式生成输出，可以使用 calendar 计算\n",
    "日期，并把这些值组织为周和月区间，然后迭代处理结果。对于这个任务， Calendar的\n",
    "weekheader() monthcalendar() yeardays2calendar() 方法尤其有用。\n",
    "\n",
    "调用 yeardays2calendar() 会生成一个由\"月行\"列表构成的序列 每个月列表\n",
    "包含一些月，每个月是一个周列表。周是元组列表，元组则由日编号( 1 ---., 31 )和星期几\n",
    "编号( 0~6 )构成。当月以外的日编号为0。"
   ]
  },
  {
   "cell_type": "code",
   "execution_count": 11,
   "metadata": {},
   "outputs": [
    {
     "name": "stdout",
     "output_type": "stream",
     "text": [
      "len(cal_data)      : 4\n",
      "len(top_months)    : 3\n",
      "len(first_month)   : 5\n",
      "first_month:\n",
      "[[(1, 6), (2, 0), (3, 1), (4, 2), (5, 3), (6, 4), (7, 5)],\n",
      " [(8, 6), (9, 0), (10, 1), (11, 2), (12, 3), (13, 4), (14, 5)],\n",
      " [(15, 6), (16, 0), (17, 1), (18, 2), (19, 3), (20, 4), (21, 5)],\n",
      " [(22, 6), (23, 0), (24, 1), (25, 2), (26, 3), (27, 4), (28, 5)],\n",
      " [(29, 6), (30, 0), (31, 1), (0, 2), (0, 3), (0, 4), (0, 5)]]\n"
     ]
    }
   ],
   "source": [
    "# CODE LIST 4-29\n",
    "import calendar\n",
    "import pprint\n",
    "\n",
    "cal = calendar.Calendar(calendar.SUNDAY)\n",
    "\n",
    "cal_data = cal.yeardays2calendar(2017, 3)\n",
    "print('len(cal_data)      :', len(cal_data))\n",
    "\n",
    "top_months = cal_data[0]\n",
    "print('len(top_months)    :', len(top_months))\n",
    "\n",
    "first_month = top_months[0]\n",
    "print('len(first_month)   :', len(first_month))\n",
    "\n",
    "print('first_month:')\n",
    "pprint.pprint(first_month, width=65)"
   ]
  },
  {
   "cell_type": "markdown",
   "metadata": {},
   "source": [
    "《棒读》调用 yeardays2calendar(2Ð17 3) 会返回 2017 年的数据，按每行 3 个月组织。\n",
    "\n",
    "这等价于 formatyear( ) 使用的数据。"
   ]
  },
  {
   "cell_type": "code",
   "execution_count": 12,
   "metadata": {},
   "outputs": [
    {
     "name": "stdout",
     "output_type": "stream",
     "text": [
      "                              2017\n",
      "\n",
      "      January               February               March\n",
      "Su Mo Tu We Th Fr Sa  Su Mo Tu We Th Fr Sa  Su Mo Tu We Th Fr Sa\n",
      " 1  2  3  4  5  6  7            1  2  3  4            1  2  3  4\n",
      " 8  9 10 11 12 13 14   5  6  7  8  9 10 11   5  6  7  8  9 10 11\n",
      "15 16 17 18 19 20 21  12 13 14 15 16 17 18  12 13 14 15 16 17 18\n",
      "22 23 24 25 26 27 28  19 20 21 22 23 24 25  19 20 21 22 23 24 25\n",
      "29 30 31              26 27 28              26 27 28 29 30 31\n",
      "\n",
      "       April                  May                   June\n",
      "Su Mo Tu We Th Fr Sa  Su Mo Tu We Th Fr Sa  Su Mo Tu We Th Fr Sa\n",
      "                   1      1  2  3  4  5  6               1  2  3\n",
      " 2  3  4  5  6  7  8   7  8  9 10 11 12 13   4  5  6  7  8  9 10\n",
      " 9 10 11 12 13 14 15  14 15 16 17 18 19 20  11 12 13 14 15 16 17\n",
      "16 17 18 19 20 21 22  21 22 23 24 25 26 27  18 19 20 21 22 23 24\n",
      "23 24 25 26 27 28 29  28 29 30 31           25 26 27 28 29 30\n",
      "30\n",
      "\n",
      "        July                 August              September\n",
      "Su Mo Tu We Th Fr Sa  Su Mo Tu We Th Fr Sa  Su Mo Tu We Th Fr Sa\n",
      "                   1         1  2  3  4  5                  1  2\n",
      " 2  3  4  5  6  7  8   6  7  8  9 10 11 12   3  4  5  6  7  8  9\n",
      " 9 10 11 12 13 14 15  13 14 15 16 17 18 19  10 11 12 13 14 15 16\n",
      "16 17 18 19 20 21 22  20 21 22 23 24 25 26  17 18 19 20 21 22 23\n",
      "23 24 25 26 27 28 29  27 28 29 30 31        24 25 26 27 28 29 30\n",
      "30 31\n",
      "\n",
      "      October               November              December\n",
      "Su Mo Tu We Th Fr Sa  Su Mo Tu We Th Fr Sa  Su Mo Tu We Th Fr Sa\n",
      " 1  2  3  4  5  6  7            1  2  3  4                  1  2\n",
      " 8  9 10 11 12 13 14   5  6  7  8  9 10 11   3  4  5  6  7  8  9\n",
      "15 16 17 18 19 20 21  12 13 14 15 16 17 18  10 11 12 13 14 15 16\n",
      "22 23 24 25 26 27 28  19 20 21 22 23 24 25  17 18 19 20 21 22 23\n",
      "29 30 31              26 27 28 29 30        24 25 26 27 28 29 30\n",
      "                                            31\n",
      "\n"
     ]
    }
   ],
   "source": [
    "# CODE LIST 4-30\n",
    "import calendar\n",
    "\n",
    "cal = calendar.TextCalendar(calendar.SUNDAY)\n",
    "print(cal.formatyear(2017, 2, 1, 1, 3))"
   ]
  },
  {
   "cell_type": "markdown",
   "metadata": {},
   "source": [
    "## 4.3.2 Locales / 本地化环境\n",
    "\n",
    "使用 LocaleTextCalendar 或 LocaleHTMLCalendar 可以为另一个本地化环境生成一个格式化的日历"
   ]
  },
  {
   "cell_type": "code",
   "execution_count": 17,
   "metadata": {},
   "outputs": [
    {
     "name": "stdout",
     "output_type": "stream",
     "text": [
      "     July 2017\n",
      "Mo Tu We Th Fr Sa Su\n",
      "                1  2\n",
      " 3  4  5  6  7  8  9\n",
      "10 11 12 13 14 15 16\n",
      "17 18 19 20 21 22 23\n",
      "24 25 26 27 28 29 30\n",
      "31\n",
      "\n",
      "    juillet 2017\n",
      "lu ma me je ve sa di\n",
      "                1  2\n",
      " 3  4  5  6  7  8  9\n",
      "10 11 12 13 14 15 16\n",
      "17 18 19 20 21 22 23\n",
      "24 25 26 27 28 29 30\n",
      "31\n"
     ]
    }
   ],
   "source": [
    "# CODE LIST 4-31\n",
    "import calendar\n",
    "\n",
    "c = calendar.LocaleTextCalendar(locale='en_US')\n",
    "c.prmonth(2017, 7)\n",
    "\n",
    "print()\n",
    "\n",
    "c = calendar.LocaleTextCalendar(locale='fr_FR')\n",
    "c.prmonth(2017, 7)\n",
    "\n",
    "# 中国 locale='zh_CN' ?? 由于字符原因，本机vscode不能正常显示结果字符"
   ]
  },
  {
   "cell_type": "markdown",
   "metadata": {},
   "source": [
    "## 4.3.3 Calculating Dates\n",
    "\n",
    "calendar 模块主要强调采用不同的格式打印完整的日历，但仍有一些函数可以用于处理日期。（此未细看）"
   ]
  },
  {
   "cell_type": "code",
   "execution_count": 18,
   "metadata": {},
   "outputs": [
    {
     "name": "stdout",
     "output_type": "stream",
     "text": [
      "[[0, 0, 0, 0, 0, 1, 2],\n",
      " [3, 4, 5, 6, 7, 8, 9],\n",
      " [10, 11, 12, 13, 14, 15, 16],\n",
      " [17, 18, 19, 20, 21, 22, 23],\n",
      " [24, 25, 26, 27, 28, 29, 30],\n",
      " [31, 0, 0, 0, 0, 0, 0]]\n"
     ]
    }
   ],
   "source": [
    "# CODE LIST 4-32\n",
    "import calendar\n",
    "import pprint\n",
    "\n",
    "pprint.pprint(calendar.monthcalendar(2017, 7))"
   ]
  },
  {
   "cell_type": "code",
   "execution_count": null,
   "metadata": {},
   "outputs": [],
   "source": [
    "# CODE LIST 4-33\n",
    "# second Thursday\n",
    "import calendar\n",
    "import sys\n",
    "\n",
    "year = int(sys.argv[1])\n",
    "\n",
    "# Show every month\n",
    "for month in range(1, 13):\n",
    "\n",
    "    # Compute the dates for each week that overlaps the month\n",
    "    c = calendar.monthcalendar(year, month)\n",
    "    first_week = c[0]\n",
    "    second_week = c[1]\n",
    "    third_week = c[2]\n",
    "\n",
    "    # If there is a Thursday in the first week,\n",
    "    # the second Thursday is # in the second week.\n",
    "    # Otherwise, the second Thursday must be in\n",
    "    # the third week.\n",
    "    if first_week[calendar.THURSDAY]:\n",
    "        meeting_date = second_week[calendar.THURSDAY]\n",
    "    else:\n",
    "        meeting_date = third_week[calendar.THURSDAY]\n",
    "\n",
    "    print('{:>3}: {:>2}'.format(calendar.month_abbr[month],\n",
    "                                meeting_date))\n",
    "\n",
    "# Jan: 12\n",
    "# Feb: 9\n",
    "# Mar: 9\n",
    "# Apr: 13\n",
    "# May: 11\n",
    "# Jun: 8\n",
    "# Jul: 13\n",
    "# Aug: 10\n",
    "# Sep: 14\n",
    "# Oct: 12\n",
    "# Nov: 9\n",
    "# Dec: 14\n",
    "\n",
    "# ValueError: invalid literal for int() with base 10: '--ip=127.0.0.1'\n",
    "# sys.argv[1] 行代码报错，尚未知原因（还没学sys）"
   ]
  },
  {
   "cell_type": "markdown",
   "metadata": {},
   "source": [
    "# Appendix"
   ]
  },
  {
   "cell_type": "markdown",
   "metadata": {},
   "source": [
    "## HTMLCalendar"
   ]
  },
  {
   "cell_type": "code",
   "execution_count": 21,
   "metadata": {},
   "outputs": [
    {
     "name": "stdout",
     "output_type": "stream",
     "text": [
      "<table border=\"0\" cellpadding=\"0\" cellspacing=\"0\" class=\"month\">\n",
      "<tr><th colspan=\"7\" class=\"month\">July 2017</th></tr>\n",
      "<tr><th class=\"sun\">Sun</th><th class=\"mon\">Mon</th><th class=\"tue\">Tue</th><th class=\"wed\">Wed</th><th class=\"thu\">Thu</th><th class=\"fri\">Fri</th><th class=\"sat\">Sat</th></tr>\n",
      "<tr><td class=\"noday\">&nbsp;</td><td class=\"noday\">&nbsp;</td><td class=\"noday\">&nbsp;</td><td class=\"noday\">&nbsp;</td><td class=\"noday\">&nbsp;</td><td class=\"noday\">&nbsp;</td><td class=\"sat\">1</td></tr>\n",
      "<tr><td class=\"sun\">2</td><td class=\"mon\">3</td><td class=\"tue\">4</td><td class=\"wed\">5</td><td class=\"thu\">6</td><td class=\"fri\">7</td><td class=\"sat\">8</td></tr>\n",
      "<tr><td class=\"sun\">9</td><td class=\"mon\">10</td><td class=\"tue\">11</td><td class=\"wed\">12</td><td class=\"thu\">13</td><td class=\"fri\">14</td><td class=\"sat\">15</td></tr>\n",
      "<tr><td class=\"sun\">16</td><td class=\"mon\">17</td><td class=\"tue\">18</td><td class=\"wed\">19</td><td class=\"thu\">20</td><td class=\"fri\">21</td><td class=\"sat\">22</td></tr>\n",
      "<tr><td class=\"sun\">23</td><td class=\"mon\">24</td><td class=\"tue\">25</td><td class=\"wed\">26</td><td class=\"thu\">27</td><td class=\"fri\">28</td><td class=\"sat\">29</td></tr>\n",
      "<tr><td class=\"sun\">30</td><td class=\"mon\">31</td><td class=\"noday\">&nbsp;</td><td class=\"noday\">&nbsp;</td><td class=\"noday\">&nbsp;</td><td class=\"noday\">&nbsp;</td><td class=\"noday\">&nbsp;</td></tr>\n",
      "</table>\n",
      "\n"
     ]
    }
   ],
   "source": [
    "# CODE LIST 4-34\n",
    "import calendar\n",
    "\n",
    "c = calendar.HTMLCalendar(calendar.SUNDAY)\n",
    "print(c.formatmonth(2017, 7))"
   ]
  }
 ],
 "metadata": {
  "interpreter": {
   "hash": "687d78340220d86234540234f2dddb05cc2a368e2fe8eb7ed5800ac5a3920935"
  },
  "kernelspec": {
   "display_name": "Python 3.7.11 ('myenv')",
   "language": "python",
   "name": "python3"
  },
  "language_info": {
   "codemirror_mode": {
    "name": "ipython",
    "version": 3
   },
   "file_extension": ".py",
   "mimetype": "text/x-python",
   "name": "python",
   "nbconvert_exporter": "python",
   "pygments_lexer": "ipython3",
   "version": "3.7.11"
  },
  "orig_nbformat": 4
 },
 "nbformat": 4,
 "nbformat_minor": 2
}
