{
 "cells": [
  {
   "cell_type": "code",
   "execution_count": null,
   "metadata": {},
   "outputs": [],
   "source": []
  },
  {
   "cell_type": "markdown",
   "metadata": {},
   "source": [
    "## 4.1.1 Comparing Clocks\n",
    "\n",
    "不同平台的时钟之实现细节不同（感觉不重要）"
   ]
  },
  {
   "cell_type": "code",
   "execution_count": 1,
   "metadata": {},
   "outputs": [
    {
     "name": "stdout",
     "output_type": "stream",
     "text": [
      "monotonic:\n",
      "    adjustable    : False\n",
      "    implementation: GetTickCount64()\n",
      "    monotonic     : True\n",
      "    resolution    : 0.015625\n",
      "    current       : 599077.093\n",
      "\n",
      "perf_counter:\n",
      "    adjustable    : False\n",
      "    implementation: QueryPerformanceCounter()\n",
      "    monotonic     : True\n",
      "    resolution    : 1e-07\n",
      "    current       : 0.9617127\n",
      "\n",
      "process_time:\n",
      "    adjustable    : False\n",
      "    implementation: GetProcessTimes()\n",
      "    monotonic     : True\n",
      "    resolution    : 1e-07\n",
      "    current       : 0.796875\n",
      "\n",
      "time:\n",
      "    adjustable    : True\n",
      "    implementation: GetSystemTimeAsFileTime()\n",
      "    monotonic     : False\n",
      "    resolution    : 0.015625\n",
      "    current       : 1651047340.89023\n",
      "\n"
     ]
    }
   ],
   "source": [
    "# CODE LIST 4-1\n",
    "import textwrap\n",
    "import time\n",
    "\n",
    "available_clocks = [\n",
    "    ('monotonic', time.monotonic),\n",
    "    ('perf_counter', time.perf_counter),\n",
    "    ('process_time', time.process_time),\n",
    "    ('time', time.time),\n",
    "]\n",
    "\n",
    "for clock_name, func in available_clocks:\n",
    "    print(textwrap.dedent('''\\\n",
    "    {name}:\n",
    "        adjustable    : {info.adjustable}\n",
    "        implementation: {info.implementation}\n",
    "        monotonic     : {info.monotonic}\n",
    "        resolution    : {info.resolution}\n",
    "        current       : {current}\n",
    "    ''').format(\n",
    "        name=clock_name,\n",
    "        info=time.get_clock_info(clock_name),\n",
    "        current=func())\n",
    "    )"
   ]
  },
  {
   "cell_type": "markdown",
   "metadata": {},
   "source": [
    "## 4.1.2 Wall Clock Time\n",
    "\n",
    "- ***.time( ) -> float*** 当前时间的 *纪元秒数*\n",
    "\n",
    "- ***.ctime([sec]) -> str*** 人类可读时间，缺省则为当前时间。注意返回值是字符串类型。"
   ]
  },
  {
   "cell_type": "code",
   "execution_count": 19,
   "metadata": {},
   "outputs": [
    {
     "name": "stdout",
     "output_type": "stream",
     "text": [
      "The time is: 1651051103.8701065\n",
      "<class 'str'>\n",
      "The time is      : Wed Apr 27 17:18:23 2022\n",
      "15 secs from now : Wed Apr 27 17:18:38 2022\n"
     ]
    }
   ],
   "source": [
    "# CODE LIST 4-2, 4-3\n",
    "import time\n",
    "\n",
    "print('The time is:', time.time())\n",
    "\n",
    "print(type(time.ctime()))\n",
    "print('The time is      :', time.ctime())\n",
    "later = time.time() + 15\n",
    "print('15 secs from now :', time.ctime(later))"
   ]
  },
  {
   "cell_type": "markdown",
   "metadata": {},
   "source": [
    "## 4.1.3 Monotonic Clocks / 单调时钟\n",
    "\n",
    "*.time( )* 查看系统时钟，而用户或系统服务的行为可能改变系统时钟以完成同步等。<br>\n",
    "\n",
    "- ***.monotonic( )*** 总是返回向前的值，以避免向后的时间产生的错误\n",
    "\n",
    "- ***.sleep(secs)*** 程序休眠一段时间\n",
    "\n",
    "单调时钟的起点没有定义，只有做差等比较过程中才有意义。"
   ]
  },
  {
   "cell_type": "code",
   "execution_count": 11,
   "metadata": {},
   "outputs": [
    {
     "name": "stdout",
     "output_type": "stream",
     "text": [
      "start : 600676.69\n",
      "end   : 600676.81\n",
      "span  :      0.12\n"
     ]
    }
   ],
   "source": [
    "# CODE LIST 4-4\n",
    "import time\n",
    "\n",
    "start = time.monotonic()\n",
    "time.sleep(0.1)\n",
    "end = time.monotonic()\n",
    "print('start : {:>9.2f}'.format(start))\n",
    "print('end   : {:>9.2f}'.format(end))\n",
    "print('span  : {:>9.2f}'.format(end - start))"
   ]
  },
  {
   "cell_type": "markdown",
   "metadata": {},
   "source": [
    "## 4.1.4 Processor Clock Time\n",
    "\n",
    "*.time( )* 返回 Wall Clock 的时间，而 *.clock( )* 返回处理器时钟时间。\n",
    "<br> .clock 在Python3.3被废弃，在3.8被移除\n",
    "\n",
    "- ***.process_time( )*** 返回值反映了程序运行时使用的实际时间。\n",
    "\n",
    "Typically, the processor clock **does not tick** if a program is not doing anything.\n",
    "<br>（程序不运行，则处理器时间不转）"
   ]
  },
  {
   "cell_type": "code",
   "execution_count": null,
   "metadata": {},
   "outputs": [],
   "source": [
    "# CODE LIST 4-5\n",
    "import hashlib\n",
    "import time\n",
    "\n",
    "# Data to use to calculate md5 checksums\n",
    "data = open(__file__, 'rb').read()\n",
    "\n",
    "for i in range(5):\n",
    "    h = hashlib.sha1()\n",
    "    print(time.ctime(), ': {:0.3f} {:0.3f}'.format(\n",
    "        time.time(), time.process_time()))\n",
    "    for i in range(300000):\n",
    "        h.update(data)\n",
    "    cksum = h.digest()\n",
    "\n",
    "# Wed Apr 27 16:47:27 2022 : 1651049247.089 0.031\n",
    "# Wed Apr 27 16:47:27 2022 : 1651049247.175 0.109\n",
    "# Wed Apr 27 16:47:27 2022 : 1651049247.271 0.219\n",
    "# Wed Apr 27 16:47:27 2022 : 1651049247.363 0.297\n",
    "# Wed Apr 27 16:47:27 2022 : 1651049247.467 0.406"
   ]
  },
  {
   "cell_type": "code",
   "execution_count": 13,
   "metadata": {},
   "outputs": [
    {
     "name": "stdout",
     "output_type": "stream",
     "text": [
      "Wed Apr 27 16:49:57 2022 - 1651049397.90 - 1.39\n",
      "Sleeping 3\n",
      "Wed Apr 27 16:50:00 2022 - 1651049400.91 - 1.39\n",
      "Sleeping 2\n",
      "Wed Apr 27 16:50:02 2022 - 1651049402.91 - 1.39\n",
      "Sleeping 1\n",
      "Wed Apr 27 16:50:03 2022 - 1651049403.93 - 1.39\n"
     ]
    }
   ],
   "source": [
    "# CODE LIST 4-6\n",
    "import time\n",
    "\n",
    "template = '{} - {:0.2f} - {:0.2f}'\n",
    "\n",
    "print(template.format(\n",
    "    time.ctime(), time.time(), time.process_time())\n",
    ")\n",
    "\n",
    "for i in range(3, 0, -1):\n",
    "    print('Sleeping', i)\n",
    "    time.sleep(i)\n",
    "    print(template.format(\n",
    "        time.ctime(), time.time(), time.process_time())\n",
    "    )"
   ]
  },
  {
   "cell_type": "markdown",
   "metadata": {},
   "source": [
    "## 4.1.5 Performance Counter\n",
    "\n",
    "测量性能时需要高分辨率时钟。\n",
    "\n",
    "- ***.perf_counter( )***\n",
    "\n",
    "类似于 *.monotonic( )* , *perf_counter( )* 的纪元也未定义，返回值只用于比较和计算值。"
   ]
  },
  {
   "cell_type": "code",
   "execution_count": null,
   "metadata": {},
   "outputs": [],
   "source": [
    "# CODE LIST 4-7\n",
    "import hashlib\n",
    "import time\n",
    "\n",
    "# Data to use to calculate md5 checksums\n",
    "data = open(__file__, 'rb').read()\n",
    "\n",
    "loop_start = time.perf_counter()\n",
    "\n",
    "for i in range(5):\n",
    "    iter_start = time.perf_counter()\n",
    "    h = hashlib.sha1()\n",
    "    for i in range(300000):\n",
    "        h.update(data)\n",
    "    cksum = h.digest()\n",
    "    now = time.perf_counter()\n",
    "    loop_elapsed = now - loop_start\n",
    "    iter_elapsed = now - iter_start\n",
    "    print(time.ctime(), ': {:0.3f} {:0.3f}'.format(\n",
    "        iter_elapsed, loop_elapsed))\n",
    "\n",
    "# Wed Apr 27 16:54:49 2022 : 0.113 0.113\n",
    "# Wed Apr 27 16:54:50 2022 : 0.114 0.227\n",
    "# Wed Apr 27 16:54:50 2022 : 0.113 0.341\n",
    "# Wed Apr 27 16:54:50 2022 : 0.113 0.455\n",
    "# Wed Apr 27 16:54:50 2022 : 0.113 0.567"
   ]
  },
  {
   "cell_type": "markdown",
   "metadata": {},
   "source": [
    "## 4.1.6 Time Components\n",
    "\n",
    "- ***.gmtime( ) -> struct_time*** 以 UTC 格式返回当前时间（Greenwich Mean Time）\n",
    "\n",
    "-  ***.localtime( ) -> struct_time*** 当前时区的当前时间\n",
    "\n",
    "-   ***.mktime( )*** .localtime的反函数，将 struct_time 格式时间转换为纪元秒数\n",
    "\n",
    "time 模块定义了 struct_time 来保存日期和时间值，分解各个组成部分以便于访问。"
   ]
  },
  {
   "cell_type": "code",
   "execution_count": 15,
   "metadata": {},
   "outputs": [
    {
     "name": "stdout",
     "output_type": "stream",
     "text": [
      "gmtime:\n",
      "  tm_year : 2022\n",
      "  tm_mon  : 4\n",
      "  tm_mday : 27\n",
      "  tm_hour : 9\n",
      "  tm_min  : 8\n",
      "  tm_sec  : 40\n",
      "  tm_wday : 2\n",
      "  tm_yday : 117\n",
      "  tm_isdst: 0\n",
      "\n",
      "localtime:\n",
      "  tm_year : 2022\n",
      "  tm_mon  : 4\n",
      "  tm_mday : 27\n",
      "  tm_hour : 17\n",
      "  tm_min  : 8\n",
      "  tm_sec  : 40\n",
      "  tm_wday : 2\n",
      "  tm_yday : 117\n",
      "  tm_isdst: 0\n",
      "\n",
      "localtime: time.struct_time(tm_year=2022, tm_mon=4, tm_mday=27, tm_hour=17, tm_min=8, tm_sec=40, tm_wday=2, tm_yday=117, tm_isdst=0)\n",
      "\n",
      "mktime: 1651050520.0\n"
     ]
    }
   ],
   "source": [
    "# CODE LIST 4-8\n",
    "import time\n",
    "\n",
    "def show_struct(s):\n",
    "    print('  tm_year :', s.tm_year)\n",
    "    print('  tm_mon  :', s.tm_mon)\n",
    "    print('  tm_mday :', s.tm_mday)\n",
    "    print('  tm_hour :', s.tm_hour)\n",
    "    print('  tm_min  :', s.tm_min)\n",
    "    print('  tm_sec  :', s.tm_sec)\n",
    "    print('  tm_wday :', s.tm_wday)\n",
    "    print('  tm_yday :', s.tm_yday)\n",
    "    print('  tm_isdst:', s.tm_isdst)\n",
    "\n",
    "print('gmtime:')\n",
    "show_struct(time.gmtime())\n",
    "print('\\nlocaltime:')\n",
    "show_struct(time.localtime())\n",
    "\n",
    "print('\\nlocaltime:', time.localtime())\n",
    "print('\\nmktime:', time.mktime(time.localtime()))"
   ]
  },
  {
   "cell_type": "markdown",
   "metadata": {},
   "source": [
    "## 4.1.7 Working with Time Zones\n",
    "\n",
    "windows 下没有提供time.tzset() 所以本小节废弃"
   ]
  },
  {
   "cell_type": "code",
   "execution_count": null,
   "metadata": {},
   "outputs": [],
   "source": [
    "# CODE LIST 4-9\n",
    "import time\n",
    "import os\n",
    "\n",
    "\n",
    "def show_zone_info():\n",
    "    print('  TZ    :', os.environ.get('TZ', '(not set)'))\n",
    "    print('  tzname:', time.tzname)\n",
    "    print('  Zone  : {} ({})'.format(\n",
    "        time.timezone, (time.timezone / 3600)))\n",
    "    print('  DST   :', time.daylight)\n",
    "    print('  Time  :', time.ctime())\n",
    "    print()\n",
    "\n",
    "\n",
    "print('Default :')\n",
    "show_zone_info()\n",
    "\n",
    "ZONES = [\n",
    "    'GMT',\n",
    "    'Europe/Amsterdam',\n",
    "]\n",
    "\n",
    "for zone in ZONES:\n",
    "    os.environ['TZ'] = zone\n",
    "    time.tzset() \n",
    "    print(zone, ':')\n",
    "    show_zone_info()\n",
    "\n",
    "# AttributeError: module 'time' has no attribute 'tzset'\n",
    "# Windows 系统好像不可使用 tzset"
   ]
  },
  {
   "cell_type": "markdown",
   "metadata": {},
   "source": [
    "## 4.1.8 Parsing and Formatting Times\n",
    "解析和格式化时间\n",
    "\n",
    "- ***.strptime(str) -> struct_time*** 解析时间，将str类型时间转换为struct_time类型\n",
    "\n",
    "- ***.strftime(struct_time) -> str*** 与上相反\n",
    "\n",
    ".ctime() 的返回值就是 str 类型时间，注意格式"
   ]
  },
  {
   "cell_type": "code",
   "execution_count": 18,
   "metadata": {},
   "outputs": [
    {
     "name": "stdout",
     "output_type": "stream",
     "text": [
      "Now: Tue Jan  3 05:17:27 2017\n",
      "\n",
      "Parsed:\n",
      "  tm_year : 2017\n",
      "  tm_mon  : 1\n",
      "  tm_mday : 3\n",
      "  tm_hour : 5\n",
      "  tm_min  : 17\n",
      "  tm_sec  : 27\n",
      "  tm_wday : 1\n",
      "  tm_yday : 3\n",
      "  tm_isdst: -1\n",
      "\n",
      "Formatted: Tue Jan 03 05:17:27 2017\n"
     ]
    }
   ],
   "source": [
    "# CODE LIST 4-10\n",
    "import time\n",
    "\n",
    "def show_struct(s):\n",
    "    print('  tm_year :', s.tm_year)\n",
    "    print('  tm_mon  :', s.tm_mon)\n",
    "    print('  tm_mday :', s.tm_mday)\n",
    "    print('  tm_hour :', s.tm_hour)\n",
    "    print('  tm_min  :', s.tm_min)\n",
    "    print('  tm_sec  :', s.tm_sec)\n",
    "    print('  tm_wday :', s.tm_wday)\n",
    "    print('  tm_yday :', s.tm_yday)\n",
    "    print('  tm_isdst:', s.tm_isdst)\n",
    "\n",
    "now = time.ctime(1483391847.433716)\n",
    "print('Now:', now)\n",
    "\n",
    "parsed = time.strptime(now)\n",
    "print('\\nParsed:')\n",
    "show_struct(parsed)\n",
    "\n",
    "print('\\nFormatted:',\n",
    "      time.strftime(\"%a %b %d %H:%M:%S %Y\", parsed))"
   ]
  }
 ],
 "metadata": {
  "interpreter": {
   "hash": "687d78340220d86234540234f2dddb05cc2a368e2fe8eb7ed5800ac5a3920935"
  },
  "kernelspec": {
   "display_name": "Python 3.7.11 ('myenv')",
   "language": "python",
   "name": "python3"
  },
  "language_info": {
   "codemirror_mode": {
    "name": "ipython",
    "version": 3
   },
   "file_extension": ".py",
   "mimetype": "text/x-python",
   "name": "python",
   "nbconvert_exporter": "python",
   "pygments_lexer": "ipython3",
   "version": "3.7.11"
  },
  "orig_nbformat": 4
 },
 "nbformat": 4,
 "nbformat_minor": 2
}
