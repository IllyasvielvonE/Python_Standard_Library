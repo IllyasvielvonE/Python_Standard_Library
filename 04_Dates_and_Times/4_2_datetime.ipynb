{
 "cells": [
  {
   "cell_type": "markdown",
   "metadata": {},
   "source": [
    "## Additional\n",
    "\n",
    "参考 blog: [datetime 模块详解](https://blog.csdn.net/cmzsteven/article/details/64906245)"
   ]
  },
  {
   "cell_type": "markdown",
   "metadata": {},
   "source": [
    "date类和tim类等类似的一些方法：\n",
    "\n",
    "- **.\\_\\_getattribute\\_\\_(\\_name)** &emsp; 获得属性\n",
    "- *x.\\_\\_eq\\_\\_(y): (replace eq) ne, lt, gt, le, ge* &emsp; 比较大小"
   ]
  },
  {
   "cell_type": "code",
   "execution_count": 7,
   "metadata": {},
   "outputs": [
    {
     "name": "stdout",
     "output_type": "stream",
     "text": [
      "1\n",
      "False\n"
     ]
    }
   ],
   "source": [
    "import datetime\n",
    "\n",
    "t = datetime.time(1,2,3)\n",
    "print( t.__getattribute__('hour') )\n",
    "\n",
    "a = datetime.date(2017,3,1)\n",
    "b = datetime.date(2017,3,15)\n",
    "print( a.__gt__(b) )"
   ]
  },
  {
   "cell_type": "markdown",
   "metadata": {},
   "source": [
    "date类 ---- ISO标准化日期\n",
    "- *isocalendat( ), isoformat( )*\n",
    "- *isoweekday( ), weekday( )* &emsp; 返回指定日期的星期数，前者 周一到周日->1-7，后者0-6"
   ]
  },
  {
   "cell_type": "code",
   "execution_count": 15,
   "metadata": {},
   "outputs": [
    {
     "name": "stdout",
     "output_type": "stream",
     "text": [
      "(1919, 32, 7)\n",
      "1919-08-10\n",
      "4\n",
      "3\n"
     ]
    }
   ],
   "source": [
    "a = datetime.date(1919,8,10)\n",
    "b = datetime.date(1145,1,4)\n",
    "print( a.isocalendar() )\n",
    "print( a.isoformat() )\n",
    "print( b.isoweekday() )\n",
    "print( b.weekday() )"
   ]
  },
  {
   "cell_type": "markdown",
   "metadata": {},
   "source": [
    "# 4.2 datetime: Date and Time Value Manipulation\n",
    "\n",
    "***datetime*** 模块包含了一些函数和类，用于完成日期和时间的解析、格式化和算术运算\n",
    "\n",
    "***classes:***\n",
    "\n",
    "- ***.date*** &emsp;&emsp; 理想化的简单性日期，属性：*year, month, day*\n",
    "- ***.time*** &emsp;&emsp; 独立于特定日期的理想化的时间， 属性：*hour, minute, second, microsecond, tzinfo*\n",
    "- ***.datetime*** &ensp; date&time的结合\n",
    "- *.timedelta* &ensp; 表示两个date/time对象，或datetime对象之间的时间间隔，精确到微秒\n",
    "- *.tzinfo* &emsp;&emsp; 秒数时区信息对象带抽象基类\n",
    "- *.timezone* &ensp; 实现了tzinfo抽象基类的子类"
   ]
  },
  {
   "cell_type": "markdown",
   "metadata": {},
   "source": [
    "## 4.2.1 Times （.time类）\n",
    "\n",
    "` time([hour[, minute[, second[, microsecond[, tzinfo]]]]]) `<br> \n",
    "使用 *.__getattribute__(...)* 方法获得相关属性\n",
    "\n",
    "*.min, .max, .resolution* 可以获得合法时间的最小最大值以及分辨率<br>\n",
    "time类分辨率为1微秒：ERROR: integer argument expected, got float"
   ]
  },
  {
   "cell_type": "code",
   "execution_count": 6,
   "metadata": {},
   "outputs": [
    {
     "name": "stdout",
     "output_type": "stream",
     "text": [
      "01:02:03\n",
      "hour       : 1\n",
      "minute     : 2\n",
      "second     : 3\n",
      "microsecond: 0\n",
      "tzinfo     : None\n"
     ]
    },
    {
     "data": {
      "text/plain": [
       "1"
      ]
     },
     "execution_count": 6,
     "metadata": {},
     "output_type": "execute_result"
    }
   ],
   "source": [
    "# CODE LIST 4-11\n",
    "import datetime\n",
    "\n",
    "t = datetime.time(1, 2, 3)\n",
    "print(t)\n",
    "print('hour       :', t.hour)\n",
    "print('minute     :', t.minute)\n",
    "print('second     :', t.second)\n",
    "print('microsecond:', t.microsecond)\n",
    "print('tzinfo     :', t.tzinfo)"
   ]
  },
  {
   "cell_type": "code",
   "execution_count": 2,
   "metadata": {},
   "outputs": [
    {
     "name": "stdout",
     "output_type": "stream",
     "text": [
      "Earliest  : 00:00:00\n",
      "Latest    : 23:59:59.999999\n",
      "Resolution: 0:00:00.000001\n"
     ]
    }
   ],
   "source": [
    "# CODE LIST 4-12\n",
    "import datetime\n",
    "\n",
    "print('Earliest  :', datetime.time.min)\n",
    "print('Latest    :', datetime.time.max)\n",
    "print('Resolution:', datetime.time.resolution)"
   ]
  },
  {
   "cell_type": "code",
   "execution_count": 1,
   "metadata": {},
   "outputs": [
    {
     "name": "stdout",
     "output_type": "stream",
     "text": [
      "1.0 : 00:00:00.000001\n",
      "0.0 : 00:00:00\n",
      "ERROR: integer argument expected, got float\n",
      "ERROR: integer argument expected, got float\n"
     ]
    }
   ],
   "source": [
    "# CODE LIST 4-13\n",
    "import datetime\n",
    "\n",
    "for m in [1, 0, 0.1, 0.6]:\n",
    "    try:\n",
    "        print('{:02.1f} :'.format(m),\n",
    "              datetime.time(0, 0, 0, microsecond=m))\n",
    "    except TypeError as err:\n",
    "        print('ERROR:', err)"
   ]
  },
  {
   "cell_type": "markdown",
   "metadata": {},
   "source": [
    "## 4.2.2 Dates （.date类）\n",
    "\n",
    "- ***.today( )*** &emsp;获得当前日期 <class 'datetime.date'>\n",
    "\n",
    "*built-in methods:*\n",
    "- *.ctime( )* &emsp;&emsp;&emsp; Return ctime() style string\n",
    "- ***.timetuple( )*** &emsp; struct_time 类型，详细成员见例，日期之外的为0\n",
    "- ***.fromtimestamp( )*** &emsp; 将纪元秒数（时间戳 timestamp）转换为 <class 'datetime.date'>\n",
    "- \n",
    "- ***.toordinal( )*** &emsp; 返回公元公历开始到现在的天数。公元1年1月1日为1\n",
    "- ***.fromordinal( )*** 逆操作"
   ]
  },
  {
   "cell_type": "code",
   "execution_count": 12,
   "metadata": {},
   "outputs": [
    {
     "name": "stdout",
     "output_type": "stream",
     "text": [
      "2022-04-27 <class 'datetime.date'>\n",
      "ctime  : Wed Apr 27 00:00:00 2022\n",
      "tuple  : tm_year  = 2022\n",
      "         tm_mon   = 4\n",
      "         tm_mday  = 27\n",
      "         tm_hour  = 0\n",
      "         tm_min   = 0\n",
      "         tm_sec   = 0\n",
      "         tm_wday  = 2\n",
      "         tm_yday  = 117\n",
      "         tm_isdst = -1\n",
      "ordinal: 738272\n",
      "Year   : 2022\n",
      "Mon    : 4\n",
      "Day    : 27\n"
     ]
    }
   ],
   "source": [
    "# CODE LIST 4-14\n",
    "import datetime\n",
    "\n",
    "today = datetime.date.today()\n",
    "print(today,type(today))\n",
    "print('ctime  :', today.ctime())\n",
    "tt = today.timetuple()\n",
    "print('tuple  : tm_year  =', tt.tm_year)\n",
    "print('         tm_mon   =', tt.tm_mon)\n",
    "print('         tm_mday  =', tt.tm_mday)\n",
    "print('         tm_hour  =', tt.tm_hour)\n",
    "print('         tm_min   =', tt.tm_min)\n",
    "print('         tm_sec   =', tt.tm_sec)\n",
    "print('         tm_wday  =', tt.tm_wday)\n",
    "print('         tm_yday  =', tt.tm_yday)\n",
    "print('         tm_isdst =', tt.tm_isdst)\n",
    "print('ordinal:', today.toordinal())\n",
    "print('Year   :', today.year)\n",
    "print('Mon    :', today.month)\n",
    "print('Day    :', today.day)"
   ]
  },
  {
   "cell_type": "code",
   "execution_count": 10,
   "metadata": {},
   "outputs": [
    {
     "name": "stdout",
     "output_type": "stream",
     "text": [
      "o               : 733114\n",
      "fromordinal(o)  : 2008-03-13\n",
      "t               : 1651062863.378676\n",
      "fromtimestamp(t): 2022-04-27\n"
     ]
    }
   ],
   "source": [
    "# CODE LIST 4-15\n",
    "import datetime\n",
    "import time\n",
    "\n",
    "o = 733114\n",
    "print('o               :', o)\n",
    "print('fromordinal(o)  :', datetime.date.fromordinal(o))\n",
    "\n",
    "t = time.time()\n",
    "print('t               :', t)\n",
    "print('fromtimestamp(t):', datetime.date.fromtimestamp(t))"
   ]
  },
  {
   "cell_type": "markdown",
   "metadata": {},
   "source": [
    "类似time类的 min, max, resolution\n",
    "\n",
    "- ***.replce( )*** 方法 &emsp; 从现有日期创建 **新的** date实例"
   ]
  },
  {
   "cell_type": "code",
   "execution_count": 13,
   "metadata": {},
   "outputs": [
    {
     "name": "stdout",
     "output_type": "stream",
     "text": [
      "Earliest  : 0001-01-01\n",
      "Latest    : 9999-12-31\n",
      "Resolution: 1 day, 0:00:00\n"
     ]
    }
   ],
   "source": [
    "# CODE LIST 4-16\n",
    "import datetime\n",
    "\n",
    "print('Earliest  :', datetime.date.min)\n",
    "print('Latest    :', datetime.date.max)\n",
    "print('Resolution:', datetime.date.resolution)"
   ]
  },
  {
   "cell_type": "code",
   "execution_count": 14,
   "metadata": {},
   "outputs": [
    {
     "name": "stdout",
     "output_type": "stream",
     "text": [
      "d1: Sat Mar 29 00:00:00 2008\n",
      "d2: Sun Mar 29 00:00:00 2009\n"
     ]
    }
   ],
   "source": [
    "# CODE LIST 4-17\n",
    "import datetime\n",
    "\n",
    "d1 = datetime.date(2008, 3, 29)\n",
    "print('d1:', d1.ctime())\n",
    "\n",
    "d2 = d1.replace(year=2009)\n",
    "print('d2:', d2.ctime())"
   ]
  },
  {
   "cell_type": "markdown",
   "metadata": {},
   "source": [
    "## 4.2.3 timedelta\n",
    "\n",
    "通过对两个 datetime 对象算术运算，或结合利用 timedelta ，可以计算将来或过去的日期。\n",
    "\n",
    "- *.total_seconds( )* &emsp; 将timedelta类转换为秒数 (float)"
   ]
  },
  {
   "cell_type": "code",
   "execution_count": 31,
   "metadata": {},
   "outputs": [
    {
     "name": "stdout",
     "output_type": "stream",
     "text": [
      "2022-04-27 21:13:00.013721\n",
      "2022-05-04 21:13:00.013721\n",
      "604800.0\n"
     ]
    }
   ],
   "source": [
    "import datetime\n",
    "\n",
    "today = datetime.datetime.today()\n",
    "delta = datetime.timedelta(days=7)\n",
    "mirai = today+delta\n",
    "print('{}\\n{}'.format(today, mirai))\n",
    "print( delta.total_seconds() )"
   ]
  },
  {
   "cell_type": "code",
   "execution_count": 22,
   "metadata": {},
   "outputs": [
    {
     "name": "stdout",
     "output_type": "stream",
     "text": [
      "microseconds: 0:00:00.000001\n",
      "milliseconds: 0:00:00.001000\n",
      "seconds     : 0:00:01\n",
      "minutes     : 0:01:00\n",
      "hours       : 1:00:00\n",
      "days        : 1 day, 0:00:00\n",
      "weeks       : 7 days, 0:00:00\n"
     ]
    }
   ],
   "source": [
    "# CODE LIST 4-18\n",
    "import datetime\n",
    "\n",
    "print('microseconds:', datetime.timedelta(microseconds=1))\n",
    "print('milliseconds:', datetime.timedelta(milliseconds=1))\n",
    "print('seconds     :', datetime.timedelta(seconds=1))\n",
    "print('minutes     :', datetime.timedelta(minutes=1))\n",
    "print('hours       :', datetime.timedelta(hours=1))\n",
    "print('days        :', datetime.timedelta(days=1))\n",
    "print('weeks       :', datetime.timedelta(weeks=1))"
   ]
  },
  {
   "cell_type": "code",
   "execution_count": 23,
   "metadata": {},
   "outputs": [
    {
     "name": "stdout",
     "output_type": "stream",
     "text": [
      "0:00:00.000001  =    1e-06 seconds\n",
      "0:00:00.001000  =    0.001 seconds\n",
      "0:00:01         =      1.0 seconds\n",
      "0:01:00         =     60.0 seconds\n",
      "1:00:00         =   3600.0 seconds\n",
      "1 day, 0:00:00  =  86400.0 seconds\n",
      "7 days, 0:00:00 = 604800.0 seconds\n"
     ]
    }
   ],
   "source": [
    "# CODE LIST 4-19\n",
    "import datetime\n",
    "\n",
    "for delta in [datetime.timedelta(microseconds=1),\n",
    "              datetime.timedelta(milliseconds=1),\n",
    "              datetime.timedelta(seconds=1),\n",
    "              datetime.timedelta(minutes=1),\n",
    "              datetime.timedelta(hours=1),\n",
    "              datetime.timedelta(days=1),\n",
    "              datetime.timedelta(weeks=1),\n",
    "              ]:\n",
    "    print('{:15} = {:8} seconds'.format(\n",
    "        str(delta), delta.total_seconds())\n",
    "    )"
   ]
  },
  {
   "cell_type": "markdown",
   "metadata": {},
   "source": [
    "## 4.2.6 Combining Dates and Times （datetime类）\n",
    "\n",
    "*built-in methods:*\n",
    "\n",
    "- ***.now( )*** &emsp;&emsp;\n",
    "- ***.uctnow( )*** &emsp;\n",
    "- ***.today()*** &emsp;"
   ]
  },
  {
   "cell_type": "code",
   "execution_count": 37,
   "metadata": {},
   "outputs": [
    {
     "name": "stdout",
     "output_type": "stream",
     "text": [
      "Now    : 2022-04-27 21:29:37.520237\n",
      "Today  : 2022-04-27 21:29:37.520238\n",
      "UTC Now: 2022-04-27 13:29:37.520237\n",
      "\n",
      "year           : 2022\n",
      "month          : 4\n",
      "day            : 27\n",
      "hour           : 21\n",
      "minute         : 29\n",
      "second         : 37\n",
      "microsecond    : 520237\n"
     ]
    }
   ],
   "source": [
    "# CODE LIST 4-23\n",
    "import datetime\n",
    "\n",
    "print('Now    :', datetime.datetime.now())\n",
    "print('Today  :', datetime.datetime.today())\n",
    "print('UTC Now:', datetime.datetime.utcnow())\n",
    "print()\n",
    "\n",
    "FIELDS = [\n",
    "    'year', 'month', 'day',\n",
    "    'hour', 'minute', 'second',\n",
    "    'microsecond',\n",
    "]\n",
    "\n",
    "d = datetime.datetime.now()\n",
    "for attr in FIELDS:\n",
    "    print('{:15}: {}'.format(attr, getattr(d, attr)))\n",
    "    # getattr(obj, attr) 获得对象的特定属性"
   ]
  },
  {
   "cell_type": "code",
   "execution_count": 38,
   "metadata": {},
   "outputs": [
    {
     "name": "stdout",
     "output_type": "stream",
     "text": [
      "t : 01:02:03\n",
      "d : 2022-04-27\n",
      "dt: 2022-04-27 01:02:03\n"
     ]
    }
   ],
   "source": [
    "# CODE LIST 4-24\n",
    "# combine\n",
    "import datetime\n",
    "\n",
    "t = datetime.time(1, 2, 3)\n",
    "print('t :', t)\n",
    "\n",
    "d = datetime.date.today()\n",
    "print('d :', d)\n",
    "\n",
    "dt = datetime.datetime.combine(d, t)\n",
    "print('dt:', dt)"
   ]
  },
  {
   "cell_type": "markdown",
   "metadata": {},
   "source": [
    "## 4.2.7 Formatting and Parsing\n",
    "\n",
    "datetime 对象的默认字符串表示使用 ISO-8601 格式（YYYY-MM-DD HH:MM:SS.mmmmmm）\n",
    "\n",
    "- ***.strftime(format)*** &emsp; datetime对象转换为str\n",
    "\n",
    "- ***.strptime(date_string, format)*** &emsp; str对象转换为datetime\n"
   ]
  },
  {
   "cell_type": "code",
   "execution_count": 41,
   "metadata": {},
   "outputs": [
    {
     "name": "stdout",
     "output_type": "stream",
     "text": [
      "ISO     : 2022-04-27 21:33:32.618244\n",
      "strftime: Wed Apr 27 21:33:32 2022\n",
      "strptime: Wed Apr 27 21:33:32 2022\n"
     ]
    }
   ],
   "source": [
    "# CODE LIST 4-25\n",
    "import datetime\n",
    "\n",
    "format = \"%a %b %d %H:%M:%S %Y\"\n",
    "\n",
    "today = datetime.datetime.today()\n",
    "print('ISO     :', today)\n",
    "\n",
    "s = today.strftime(format)\n",
    "print('strftime:', s)\n",
    "\n",
    "d = datetime.datetime.strptime(s, format)\n",
    "print('strptime:', d.strftime(format))"
   ]
  },
  {
   "cell_type": "markdown",
   "metadata": {},
   "source": [
    "***strptime/strftime format codes:***\n",
    "![](./format_codes.png)"
   ]
  },
  {
   "cell_type": "code",
   "execution_count": 42,
   "metadata": {},
   "outputs": [
    {
     "name": "stdout",
     "output_type": "stream",
     "text": [
      "ISO     : 2022-04-27 21:38:32.724001\n",
      "format(): Wed Apr 27 21:38:32 2022\n"
     ]
    }
   ],
   "source": [
    "# CODE LIST 4-26\n",
    "import datetime\n",
    "\n",
    "today = datetime.datetime.today()\n",
    "print('ISO     :', today)\n",
    "print('format(): {:%a %b %d %H:%M:%S %Y}'.format(today))"
   ]
  },
  {
   "cell_type": "markdown",
   "metadata": {},
   "source": [
    "# Appendix"
   ]
  },
  {
   "cell_type": "markdown",
   "metadata": {},
   "source": [
    "## 4.2.4 Date Arithmetic\n",
    "\n",
    "标准算术操作符，支持同类直接运算 或 利用timedelta对象计算\n",
    "\n",
    "timedelta 对象还支持整数、浮点数。"
   ]
  },
  {
   "cell_type": "code",
   "execution_count": null,
   "metadata": {},
   "outputs": [
    {
     "name": "stdout",
     "output_type": "stream",
     "text": [
      "Today    : 2022-04-27\n",
      "One day  : 1 day, 0:00:00\n",
      "Yesterday: 2022-04-26\n",
      "Tomorrow : 2022-04-28\n",
      "\n",
      "tomorrow - yesterday: 2 days, 0:00:00\n",
      "yesterday - tomorrow: -2 days, 0:00:00\n"
     ]
    }
   ],
   "source": [
    "# CODE LIST 4-20\n",
    "import datetime\n",
    "\n",
    "today = datetime.date.today()\n",
    "print('Today    :', today)\n",
    "\n",
    "one_day = datetime.timedelta(days=1)\n",
    "print('One day  :', one_day)\n",
    "\n",
    "yesterday = today - one_day\n",
    "print('Yesterday:', yesterday)\n",
    "\n",
    "tomorrow = today + one_day\n",
    "print('Tomorrow :', tomorrow)\n",
    "\n",
    "print()\n",
    "print('tomorrow - yesterday:', tomorrow - yesterday)\n",
    "print('yesterday - tomorrow:', yesterday - tomorrow)"
   ]
  },
  {
   "cell_type": "code",
   "execution_count": null,
   "metadata": {},
   "outputs": [
    {
     "name": "stdout",
     "output_type": "stream",
     "text": [
      "1 day    : 1 day, 0:00:00\n",
      "5 days   : 5 days, 0:00:00\n",
      "1.5 days : 1 day, 12:00:00\n",
      "1/4 day  : 6:00:00\n",
      "meetings per day : 7.0\n"
     ]
    }
   ],
   "source": [
    "# CODE LIST 4-21\n",
    "import datetime\n",
    "\n",
    "one_day = datetime.timedelta(days=1)\n",
    "print('1 day    :', one_day)\n",
    "print('5 days   :', one_day * 5)\n",
    "print('1.5 days :', one_day * 1.5)\n",
    "print('1/4 day  :', one_day / 4)\n",
    "\n",
    "# assume an hour for lunch\n",
    "work_day = datetime.timedelta(hours=7)\n",
    "meeting_length = datetime.timedelta(hours=1)\n",
    "print('meetings per day :', work_day / meeting_length)"
   ]
  },
  {
   "cell_type": "code",
   "execution_count": 36,
   "metadata": {},
   "outputs": [
    {
     "name": "stdout",
     "output_type": "stream",
     "text": [
      "Today    : 2022-04-27 21:26:55.022133\n",
      "Yesterday: 2022-04-26 21:26:55.022133\n",
      "Tomorrow : 2022-04-28 21:26:55.022133\n",
      "tomorrow - yesterday: 2 days, 0:00:00\n",
      "yesterday - tomorrow: -2 days, 0:00:00\n",
      "tomorrow > yesterday: True\n"
     ]
    }
   ],
   "source": [
    "# Not Mentioned\n",
    "import datetime\n",
    "\n",
    "today = datetime.datetime.today()\n",
    "print('Today    :', today)\n",
    "\n",
    "yesterday = today - datetime.timedelta(days=1)\n",
    "print('Yesterday:', yesterday)\n",
    "\n",
    "tomorrow = today + datetime.timedelta(days=1)\n",
    "print('Tomorrow :', tomorrow)\n",
    "\n",
    "print('tomorrow - yesterday:', tomorrow - yesterday)\n",
    "print('yesterday - tomorrow:', yesterday - tomorrow)\n",
    "\n",
    "print('tomorrow > yesterday:', tomorrow > yesterday)"
   ]
  },
  {
   "cell_type": "markdown",
   "metadata": {},
   "source": [
    "## 4.2.5 Comparing Values\n",
    "\n",
    "支持所有标准比较操作符"
   ]
  },
  {
   "cell_type": "code",
   "execution_count": null,
   "metadata": {},
   "outputs": [
    {
     "name": "stdout",
     "output_type": "stream",
     "text": [
      "Times:\n",
      "  t1: 12:55:00\n",
      "  t2: 13:05:00\n",
      "  t1 < t2: True\n",
      "\n",
      "Dates:\n",
      "  d1: 2022-04-27\n",
      "  d2: 2022-04-28\n",
      "  d1 > d2: False\n"
     ]
    }
   ],
   "source": [
    "# CODE LIST 4-22\n",
    "import datetime\n",
    "import time\n",
    "\n",
    "print('Times:')\n",
    "t1 = datetime.time(12, 55, 0)\n",
    "print('  t1:', t1)\n",
    "t2 = datetime.time(13, 5, 0)\n",
    "print('  t2:', t2)\n",
    "print('  t1 < t2:', t1 < t2)\n",
    "\n",
    "print()\n",
    "print('Dates:')\n",
    "d1 = datetime.date.today()\n",
    "print('  d1:', d1)\n",
    "d2 = datetime.date.today() + datetime.timedelta(days=1)\n",
    "print('  d2:', d2)\n",
    "print('  d1 > d2:', d1 > d2)"
   ]
  },
  {
   "cell_type": "markdown",
   "metadata": {},
   "source": [
    "## 4.2.8 Time Zones"
   ]
  },
  {
   "cell_type": "code",
   "execution_count": 43,
   "metadata": {},
   "outputs": [
    {
     "name": "stdout",
     "output_type": "stream",
     "text": [
      "UTC-06:00 : 2022-04-27 07:41:19.669825-06:00\n",
      "UTC : 2022-04-27 13:41:19.669825+00:00\n",
      "UTC+06:00 : 2022-04-27 19:41:19.669825+06:00\n",
      "ÖÐ¹ú±ê×¼Ê±¼ä       : 2022-04-27 21:41:19.669825+08:00\n"
     ]
    }
   ],
   "source": [
    "# CODE LIST 4-27\n",
    "import datetime\n",
    "\n",
    "min6 = datetime.timezone(datetime.timedelta(hours=-6))\n",
    "plus6 = datetime.timezone(datetime.timedelta(hours=6))\n",
    "d = datetime.datetime.now(min6)\n",
    "\n",
    "print(min6, ':', d)\n",
    "print(datetime.timezone.utc, ':',\n",
    "      d.astimezone(datetime.timezone.utc))\n",
    "print(plus6, ':', d.astimezone(plus6))\n",
    "\n",
    "# convert to the current system timezone\n",
    "d_system = d.astimezone()\n",
    "print(d_system.tzinfo, '      :', d_system)\n",
    "\n",
    "# UTC-06:00 : 2016-07-10 08:44:55.495995-06:00\n",
    "# UTC+00:00 : 2016-07-10 14:44:55.495995+00:00\n",
    "# UTC+06:00 : 2016-07-10 20:44:55.495995+06:00\n",
    "# EDT : 2016-07-10 10:44:55.495995-04:00"
   ]
  }
 ],
 "metadata": {
  "interpreter": {
   "hash": "687d78340220d86234540234f2dddb05cc2a368e2fe8eb7ed5800ac5a3920935"
  },
  "kernelspec": {
   "display_name": "Python 3.7.11 ('myenv')",
   "language": "python",
   "name": "python3"
  },
  "language_info": {
   "codemirror_mode": {
    "name": "ipython",
    "version": 3
   },
   "file_extension": ".py",
   "mimetype": "text/x-python",
   "name": "python",
   "nbconvert_exporter": "python",
   "pygments_lexer": "ipython3",
   "version": "3.7.11"
  },
  "orig_nbformat": 4
 },
 "nbformat": 4,
 "nbformat_minor": 2
}
